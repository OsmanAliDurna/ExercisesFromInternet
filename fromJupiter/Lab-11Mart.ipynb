{
 "cells": [
  {
   "cell_type": "code",
   "execution_count": 1,
   "metadata": {},
   "outputs": [],
   "source": [
    "import numpy as np\n",
    "import pandas as pd\n",
    "from scipy import stats"
   ]
  },
  {
   "cell_type": "code",
   "execution_count": 2,
   "metadata": {},
   "outputs": [],
   "source": [
    "np.random.seed(101)\n",
    "population = np.random.randint(0,100, size = 100000)"
   ]
  },
  {
   "cell_type": "code",
   "execution_count": 5,
   "metadata": {},
   "outputs": [
    {
     "data": {
      "text/plain": [
       "100000"
      ]
     },
     "execution_count": 5,
     "metadata": {},
     "output_type": "execute_result"
    }
   ],
   "source": [
    "len(population)"
   ]
  },
  {
   "cell_type": "code",
   "execution_count": 6,
   "metadata": {},
   "outputs": [
    {
     "data": {
      "text/plain": [
       "array([95, 11, 81, ..., 72, 75, 64])"
      ]
     },
     "execution_count": 6,
     "metadata": {},
     "output_type": "execute_result"
    }
   ],
   "source": [
    "population"
   ]
  },
  {
   "cell_type": "code",
   "execution_count": 7,
   "metadata": {},
   "outputs": [
    {
     "data": {
      "text/plain": [
       "array([48, 99, 63, 36, 99, 38, 76, 63, 91, 53, 75, 62, 23, 13,  8, 83, 10,\n",
       "       15, 80,  8, 56,  6, 85, 87, 22, 97, 51, 26, 75, 47, 86, 21, 10, 90,\n",
       "       31, 66, 30, 66, 63,  8, 89, 24, 79, 45,  9,  1, 54, 91, 58,  4, 89,\n",
       "        1, 38, 55, 21, 28, 43, 26, 23, 85, 98, 52, 19, 99, 56, 16, 87, 10,\n",
       "       64, 44, 44, 71, 84, 83, 76, 47, 41, 54, 71,  7,  1, 17, 61, 35, 57,\n",
       "       95, 87, 67, 52, 91, 68, 14, 88, 77, 96, 39,  5, 27, 40, 49])"
      ]
     },
     "execution_count": 7,
     "metadata": {},
     "output_type": "execute_result"
    }
   ],
   "source": [
    "np.random.seed(101)\n",
    "sample = np.random.choice(population,100)\n",
    "sample"
   ]
  },
  {
   "cell_type": "code",
   "execution_count": 8,
   "metadata": {},
   "outputs": [
    {
     "data": {
      "text/plain": [
       "49.41751"
      ]
     },
     "execution_count": 8,
     "metadata": {},
     "output_type": "execute_result"
    }
   ],
   "source": [
    "population.mean()"
   ]
  },
  {
   "cell_type": "code",
   "execution_count": 9,
   "metadata": {},
   "outputs": [
    {
     "data": {
      "text/plain": [
       "51.18"
      ]
     },
     "execution_count": 9,
     "metadata": {},
     "output_type": "execute_result"
    }
   ],
   "source": [
    "sample.mean()"
   ]
  },
  {
   "cell_type": "code",
   "execution_count": 10,
   "metadata": {},
   "outputs": [
    {
     "name": "stdout",
     "output_type": "stream",
     "text": [
      "0 . result ==> 46.76\n",
      "1 . result ==> 52.19\n",
      "2 . result ==> 47.11\n",
      "3 . result ==> 49.99\n",
      "4 . result ==> 47.96\n",
      "5 . result ==> 48.65\n",
      "6 . result ==> 45.11\n",
      "7 . result ==> 44.77\n",
      "8 . result ==> 48.23\n",
      "9 . result ==> 48.71\n"
     ]
    }
   ],
   "source": [
    "for i in range(10):\n",
    "    sample2 = np.random.choice(population,100)\n",
    "    print(i, \". result ==>\", sample2.mean())"
   ]
  },
  {
   "cell_type": "code",
   "execution_count": 15,
   "metadata": {},
   "outputs": [
    {
     "data": {
      "text/plain": [
       "[48.47, 48.05, 48.32, 51.01, 51.86, 45.76, 46.24, 46.24, 49.35, 51.22]"
      ]
     },
     "execution_count": 15,
     "metadata": {},
     "output_type": "execute_result"
    }
   ],
   "source": [
    "sample_means = []\n",
    "for i in range(10):\n",
    "    sample3 = np.random.choice(population,100)\n",
    "    sample_means.append(sample3.mean())\n",
    "sample_means"
   ]
  },
  {
   "cell_type": "code",
   "execution_count": 16,
   "metadata": {},
   "outputs": [
    {
     "data": {
      "text/plain": [
       "48.65200000000001"
      ]
     },
     "execution_count": 16,
     "metadata": {},
     "output_type": "execute_result"
    }
   ],
   "source": [
    "np.mean(sample_means)"
   ]
  },
  {
   "cell_type": "code",
   "execution_count": 17,
   "metadata": {},
   "outputs": [
    {
     "data": {
      "text/plain": [
       "ModeResult(mode=array([3]), count=array([5]))"
      ]
     },
     "execution_count": 17,
     "metadata": {},
     "output_type": "execute_result"
    }
   ],
   "source": [
    "stats.mode([1,1,2,2,2,3,3,3,3,3,5,5,5,6,7])"
   ]
  },
  {
   "cell_type": "code",
   "execution_count": 18,
   "metadata": {},
   "outputs": [
    {
     "data": {
      "text/plain": [
       "0.5739858089387231"
      ]
     },
     "execution_count": 18,
     "metadata": {},
     "output_type": "execute_result"
    }
   ],
   "source": [
    "stats.skew([1,1,1,2,2,2,3,3,3,3,3,5,5,5,6,6,7,8,9])"
   ]
  },
  {
   "cell_type": "code",
   "execution_count": 19,
   "metadata": {},
   "outputs": [
    {
     "data": {
      "text/plain": [
       "0.0"
      ]
     },
     "execution_count": 19,
     "metadata": {},
     "output_type": "execute_result"
    }
   ],
   "source": [
    "stats.skew([1,1,2,2,2,3,3,3,3,3,4,4,4,5,5])"
   ]
  },
  {
   "cell_type": "code",
   "execution_count": 22,
   "metadata": {},
   "outputs": [
    {
     "data": {
      "text/plain": [
       "-0.3966942148760335"
      ]
     },
     "execution_count": 22,
     "metadata": {},
     "output_type": "execute_result"
    }
   ],
   "source": [
    "stats.kurtosis([1,1,2,2,2,3,3,3,3,3,3,3,3,4,4,4,5,5])"
   ]
  },
  {
   "cell_type": "code",
   "execution_count": 23,
   "metadata": {},
   "outputs": [],
   "source": [
    "age = [20, 22, 25, 25, 27, 27, 27, 29, 30, 31]"
   ]
  },
  {
   "cell_type": "code",
   "execution_count": 24,
   "metadata": {},
   "outputs": [
    {
     "data": {
      "text/plain": [
       "10.610000000000001"
      ]
     },
     "execution_count": 24,
     "metadata": {},
     "output_type": "execute_result"
    }
   ],
   "source": [
    "np.var(age)"
   ]
  },
  {
   "cell_type": "code",
   "execution_count": 25,
   "metadata": {},
   "outputs": [
    {
     "data": {
      "text/plain": [
       "26.3"
      ]
     },
     "execution_count": 25,
     "metadata": {},
     "output_type": "execute_result"
    }
   ],
   "source": [
    "np.mean(age)"
   ]
  },
  {
   "cell_type": "markdown",
   "metadata": {},
   "source": [
    "Varyans = ( (value - mean) ** 2 ) / value count"
   ]
  },
  {
   "cell_type": "code",
   "execution_count": 28,
   "metadata": {},
   "outputs": [
    {
     "data": {
      "text/plain": [
       "10.610000000000003"
      ]
     },
     "execution_count": 28,
     "metadata": {},
     "output_type": "execute_result"
    }
   ],
   "source": [
    "sumofall = 0\n",
    "for i in range(len(age)):\n",
    "    sumofall += (age[i] - np.mean(age)) ** 2\n",
    "sumofall / len(age)"
   ]
  },
  {
   "cell_type": "code",
   "execution_count": 29,
   "metadata": {},
   "outputs": [
    {
     "data": {
      "text/plain": [
       "3.2572994949804666"
      ]
     },
     "execution_count": 29,
     "metadata": {},
     "output_type": "execute_result"
    }
   ],
   "source": [
    "np.std(age)"
   ]
  },
  {
   "cell_type": "code",
   "execution_count": 30,
   "metadata": {},
   "outputs": [
    {
     "data": {
      "text/plain": [
       "3.2572994949804666"
      ]
     },
     "execution_count": 30,
     "metadata": {},
     "output_type": "execute_result"
    }
   ],
   "source": [
    "np.sqrt(np.var(age))"
   ]
  },
  {
   "cell_type": "markdown",
   "metadata": {},
   "source": [
    "std = var ** (1/2)"
   ]
  },
  {
   "cell_type": "code",
   "execution_count": 36,
   "metadata": {},
   "outputs": [
    {
     "data": {
      "text/plain": [
       "[20, 22, 25, 25, 27, 27, 27, 29, 30, 31]"
      ]
     },
     "execution_count": 36,
     "metadata": {},
     "output_type": "execute_result"
    }
   ],
   "source": [
    "age"
   ]
  },
  {
   "cell_type": "code",
   "execution_count": 32,
   "metadata": {
    "scrolled": true
   },
   "outputs": [
    {
     "data": {
      "text/plain": [
       "27.0"
      ]
     },
     "execution_count": 32,
     "metadata": {},
     "output_type": "execute_result"
    }
   ],
   "source": [
    "np.percentile(age,50) # median Q2"
   ]
  },
  {
   "cell_type": "code",
   "execution_count": 33,
   "metadata": {},
   "outputs": [
    {
     "data": {
      "text/plain": [
       "24.4"
      ]
     },
     "execution_count": 33,
     "metadata": {},
     "output_type": "execute_result"
    }
   ],
   "source": [
    "np.percentile(age,20) "
   ]
  },
  {
   "cell_type": "code",
   "execution_count": 34,
   "metadata": {},
   "outputs": [
    {
     "data": {
      "text/plain": [
       "25.0"
      ]
     },
     "execution_count": 34,
     "metadata": {},
     "output_type": "execute_result"
    }
   ],
   "source": [
    "np.percentile(age,25) # Q1"
   ]
  },
  {
   "cell_type": "code",
   "execution_count": 37,
   "metadata": {},
   "outputs": [
    {
     "data": {
      "text/plain": [
       "28.5"
      ]
     },
     "execution_count": 37,
     "metadata": {},
     "output_type": "execute_result"
    }
   ],
   "source": [
    "np.percentile(age,75) # Q3"
   ]
  },
  {
   "cell_type": "code",
   "execution_count": 39,
   "metadata": {},
   "outputs": [
    {
     "data": {
      "text/plain": [
       "3.5"
      ]
     },
     "execution_count": 39,
     "metadata": {},
     "output_type": "execute_result"
    }
   ],
   "source": [
    "iqr = np.percentile(age,75) - np.percentile(age,25)\n",
    "iqr"
   ]
  },
  {
   "cell_type": "code",
   "execution_count": 40,
   "metadata": {},
   "outputs": [
    {
     "data": {
      "text/plain": [
       "3.5"
      ]
     },
     "execution_count": 40,
     "metadata": {},
     "output_type": "execute_result"
    }
   ],
   "source": [
    "stats.iqr(age)"
   ]
  },
  {
   "cell_type": "code",
   "execution_count": 41,
   "metadata": {},
   "outputs": [],
   "source": [
    "import matplotlib.pyplot as plt"
   ]
  },
  {
   "cell_type": "code",
   "execution_count": 42,
   "metadata": {},
   "outputs": [
    {
     "data": {
      "text/plain": [
       "array([95, 11, 81, ..., 72, 75, 64])"
      ]
     },
     "execution_count": 42,
     "metadata": {},
     "output_type": "execute_result"
    }
   ],
   "source": [
    "population"
   ]
  },
  {
   "cell_type": "code",
   "execution_count": 43,
   "metadata": {},
   "outputs": [
    {
     "data": {
      "text/plain": [
       "(array([10052., 10065., 10052.,  9997.,  9916.,  9982., 10001., 10022.,\n",
       "        10020.,  9893.]),\n",
       " array([ 0. ,  9.9, 19.8, 29.7, 39.6, 49.5, 59.4, 69.3, 79.2, 89.1, 99. ]),\n",
       " <BarContainer object of 10 artists>)"
      ]
     },
     "execution_count": 43,
     "metadata": {},
     "output_type": "execute_result"
    },
    {
     "data": {
      "image/png": "[encoded data removed]",
      "text/plain": [
       "<Figure size 432x288 with 1 Axes>"
      ]
     },
     "metadata": {
      "needs_background": "light"
     },
     "output_type": "display_data"
    }
   ],
   "source": [
    "plt.hist(population)"
   ]
  },
  {
   "cell_type": "code",
   "execution_count": 45,
   "metadata": {},
   "outputs": [],
   "source": [
    "x = np.random.normal(0,1,100000)"
   ]
  },
  {
   "cell_type": "code",
   "execution_count": 47,
   "metadata": {},
   "outputs": [
    {
     "data": {
      "text/plain": [
       "(array([  1.,   0.,   0.,   0.,   0.,   0.,   0.,   0.,   0.,   0.,   0.,\n",
       "          0.,   0.,   0.,   0.,   0.,   0.,   0.,   0.,   0.,   0.,   0.,\n",
       "          0.,   0.,   0.,   0.,   0.,   0.,   0.,   0.,   0.,   0.,   1.,\n",
       "          1.,   0.,   0.,   0.,   0.,   0.,   1.,   0.,   2.,   0.,   0.,\n",
       "          0.,   0.,   0.,   0.,   0.,   0.,   0.,   0.,   0.,   2.,   1.,\n",
       "          0.,   0.,   1.,   1.,   0.,   1.,   1.,   0.,   2.,   2.,   0.,\n",
       "          0.,   0.,   1.,   0.,   1.,   0.,   0.,   2.,   2.,   0.,   0.,\n",
       "          0.,   0.,   0.,   1.,   0.,   0.,   0.,   0.,   1.,   0.,   0.,\n",
       "          2.,   0.,   1.,   1.,   2.,   0.,   1.,   3.,   1.,   0.,   2.,\n",
       "          1.,   1.,   0.,   0.,   1.,   0.,   2.,   3.,   0.,   2.,   2.,\n",
       "          0.,   1.,   1.,   4.,   0.,   3.,   2.,   2.,   2.,   1.,   4.,\n",
       "          7.,   2.,   1.,   0.,   3.,   2.,   3.,   5.,   0.,   2.,   1.,\n",
       "          5.,   2.,   1.,   3.,   0.,   2.,   5.,   4.,   1.,   7.,   2.,\n",
       "          5.,   4.,   5.,   3.,   3.,   1.,   5.,   0.,   5.,   4.,   3.,\n",
       "          8.,   3.,   6.,   3.,   4.,   9.,   9.,  11.,   2.,   6.,   5.,\n",
       "          5.,   4.,   6.,   8.,   4.,   7.,   7.,   5.,   8.,   6.,   5.,\n",
       "          6.,  10.,   7.,   4.,   5.,  10.,   7.,  12.,  10.,   3.,   5.,\n",
       "          6.,  10.,  11.,  12.,  13.,  16.,  10.,  16.,   6.,  13.,   9.,\n",
       "         13.,  13.,  10.,  11.,  17.,  11.,  10.,  15.,  15.,   8.,  17.,\n",
       "         18.,   9.,  21.,  12.,  12.,  26.,  14.,  12.,  18.,  20.,  14.,\n",
       "         17.,  20.,  22.,  28.,  22.,  20.,  20.,  27.,  25.,  18.,  21.,\n",
       "         23.,  25.,  29.,  23.,  12.,  28.,  23.,  31.,  28.,  27.,  33.,\n",
       "         29.,  32.,  27.,  26.,  34.,  29.,  31.,  32.,  42.,  40.,  33.,\n",
       "         30.,  29.,  37.,  30.,  44.,  50.,  52.,  41.,  40.,  47.,  48.,\n",
       "         41.,  48.,  43.,  39.,  43.,  39.,  64.,  55.,  44.,  49.,  58.,\n",
       "         51.,  52.,  54.,  37.,  64.,  55.,  70.,  60.,  62.,  63.,  45.,\n",
       "         59.,  61.,  55.,  64.,  65.,  71.,  60.,  80.,  66.,  66.,  80.,\n",
       "         82.,  89.,  82.,  67.,  88.,  84.,  71.,  70.,  83.,  82.,  71.,\n",
       "        102.,  80., 104.,  88.,  85.,  98.,  95.,  90.,  78., 103.,  90.,\n",
       "         98.,  91.,  93., 102., 100., 122., 109., 109.,  88., 103.,  90.,\n",
       "         96., 112., 124., 127., 127., 125., 112., 103., 122., 110., 119.,\n",
       "        128., 121., 118., 133., 123., 126., 145., 134., 157., 142., 115.,\n",
       "        153., 116., 134., 148., 151., 142., 162., 146., 148., 162., 141.,\n",
       "        183., 144., 165., 174., 172., 162., 152., 173., 192., 160., 166.,\n",
       "        167., 176., 201., 197., 201., 210., 190., 197., 185., 184., 208.,\n",
       "        209., 200., 205., 189., 227., 208., 212., 207., 226., 199., 201.,\n",
       "        218., 230., 226., 228., 198., 221., 230., 225., 261., 240., 208.,\n",
       "        232., 232., 216., 209., 264., 245., 232., 240., 229., 247., 231.,\n",
       "        269., 252., 245., 264., 252., 262., 264., 280., 268., 237., 265.,\n",
       "        245., 237., 263., 276., 262., 334., 278., 297., 263., 259., 265.,\n",
       "        267., 274., 291., 273., 308., 263., 273., 295., 281., 266., 281.,\n",
       "        290., 319., 309., 319., 292., 322., 265., 321., 347., 315., 294.,\n",
       "        302., 302., 341., 305., 315., 312., 322., 299., 303., 321., 360.,\n",
       "        313., 309., 296., 308., 319., 322., 311., 287., 307., 325., 312.,\n",
       "        295., 354., 364., 320., 330., 334., 316., 322., 352., 318., 337.,\n",
       "        318., 357., 315., 364., 336., 331., 333., 293., 327., 342., 318.,\n",
       "        320., 317., 356., 339., 323., 301., 349., 341., 346., 323., 357.,\n",
       "        299., 299., 347., 336., 307., 314., 340., 313., 326., 323., 341.,\n",
       "        314., 322., 328., 285., 315., 289., 294., 306., 289., 279., 361.,\n",
       "        336., 330., 300., 313., 327., 333., 298., 313., 317., 293., 334.,\n",
       "        320., 309., 352., 333., 326., 302., 292., 330., 332., 298., 285.,\n",
       "        286., 293., 277., 331., 270., 312., 293., 269., 320., 287., 288.,\n",
       "        276., 318., 293., 290., 260., 276., 252., 265., 291., 278., 271.,\n",
       "        279., 236., 265., 264., 254., 280., 267., 255., 255., 257., 256.,\n",
       "        233., 275., 286., 252., 239., 262., 223., 231., 249., 226., 247.,\n",
       "        225., 236., 261., 254., 225., 247., 236., 235., 253., 211., 242.,\n",
       "        238., 219., 200., 191., 243., 205., 224., 232., 206., 234., 211.,\n",
       "        173., 227., 209., 182., 190., 210., 187., 199., 216., 195., 177.,\n",
       "        165., 194., 201., 181., 196., 175., 167., 174., 174., 171., 156.,\n",
       "        152., 157., 154., 161., 142., 161., 153., 169., 155., 172., 148.,\n",
       "        149., 159., 158., 143., 154., 160., 126., 138., 155., 145., 113.,\n",
       "        137., 131., 120., 124., 132., 105., 121., 111., 116., 105., 103.,\n",
       "        134., 120., 122.,  91., 111.,  93., 106.,  97., 115., 102.,  96.,\n",
       "         93.,  92.,  99., 103.,  92., 123., 111.,  98.,  71.,  91.,  91.,\n",
       "         79.,  94.,  82., 102.,  79.,  82.,  81.,  85.,  90.,  77.,  67.,\n",
       "         79.,  86.,  60.,  85.,  74.,  59.,  74.,  83.,  71.,  57.,  83.,\n",
       "         65.,  64.,  58.,  63.,  75.,  63.,  67.,  64.,  56.,  73.,  48.,\n",
       "         63.,  64.,  67.,  45.,  56.,  40.,  46.,  48.,  47.,  54.,  37.,\n",
       "         46.,  39.,  50.,  47.,  49.,  47.,  29.,  36.,  44.,  28.,  30.,\n",
       "         35.,  47.,  31.,  36.,  32.,  41.,  36.,  45.,  27.,  41.,  37.,\n",
       "         52.,  26.,  35.,  37.,  21.,  24.,  32.,  20.,  25.,  36.,  20.,\n",
       "         21.,  26.,  32.,  27.,  21.,  16.,  23.,  27.,  25.,  21.,  22.,\n",
       "         25.,  22.,  22.,  23.,  20.,  20.,  23.,  21.,  20.,  18.,  16.,\n",
       "         19.,  20.,  20.,  13.,  18.,  18.,  18.,  12.,  16.,   9.,  10.,\n",
       "          6.,  14.,  13.,  11.,  12.,  14.,  14.,  11.,  13.,  16.,  12.,\n",
       "         12.,   8.,  13.,   6.,  10.,  12.,   5.,   5.,  10.,   9.,  15.,\n",
       "         11.,   7.,   8.,  11.,  10.,   9.,   3.,   4.,   6.,   9.,   6.,\n",
       "         11.,  12.,   4.,   4.,   5.,   7.,   6.,   5.,   4.,   7.,   6.,\n",
       "          7.,   6.,   5.,   7.,   6.,   7.,   0.,   2.,   2.,   7.,   4.,\n",
       "          4.,   5.,   5.,   4.,   5.,   4.,   0.,   2.,   3.,   6.,   0.,\n",
       "          4.,   1.,   3.,   4.,   4.,   2.,   3.,   3.,   3.,   1.,   5.,\n",
       "          0.,   4.,   3.,   1.,   2.,   1.,   3.,   3.,   0.,   1.,   1.,\n",
       "          2.,   3.,   2.,   3.,   0.,   2.,   1.,   1.,   1.,   1.,   1.,\n",
       "          0.,   1.,   0.,   1.,   2.,   0.,   1.,   0.,   0.,   0.,   3.,\n",
       "          2.,   0.,   0.,   0.,   2.,   1.,   2.,   1.,   0.,   1.,   1.,\n",
       "          0.,   0.,   0.,   1.,   0.,   1.,   0.,   0.,   0.,   0.,   1.,\n",
       "          1.,   0.,   0.,   1.,   0.,   0.,   1.,   1.,   2.,   0.,   0.,\n",
       "          0.,   3.,   0.,   0.,   0.,   0.,   1.,   1.,   0.,   0.,   0.,\n",
       "          1.,   0.,   0.,   1.,   1.,   0.,   0.,   0.,   1.,   0.,   0.,\n",
       "          0.,   0.,   0.,   0.,   0.,   0.,   0.,   0.,   0.,   0.,   0.,\n",
       "          0.,   0.,   0.,   0.,   0.,   0.,   0.,   0.,   0.,   1.]),\n",
       " array([-4.19705673, -4.18880501, -4.18055328, ...,  4.03816751,\n",
       "         4.04641924,  4.05467096]),\n",
       " <BarContainer object of 1000 artists>)"
      ]
     },
     "execution_count": 47,
     "metadata": {},
     "output_type": "execute_result"
    },
    {
     "data": {
      "image/png": "[encoded data removed]",
      "text/plain": [
       "<Figure size 432x288 with 1 Axes>"
      ]
     },
     "metadata": {
      "needs_background": "light"
     },
     "output_type": "display_data"
    }
   ],
   "source": [
    "plt.hist(x, bins=1000)"
   ]
  },
  {
   "cell_type": "code",
   "execution_count": 48,
   "metadata": {},
   "outputs": [
    {
     "data": {
      "text/plain": [
       "(array([1.000e+00, 0.000e+00, 0.000e+00, 3.000e+00, 2.000e+00, 5.000e+00,\n",
       "        7.000e+00, 5.000e+00, 4.000e+00, 1.200e+01, 1.100e+01, 1.600e+01,\n",
       "        2.700e+01, 2.500e+01, 3.600e+01, 4.500e+01, 6.000e+01, 6.500e+01,\n",
       "        7.900e+01, 1.210e+02, 1.320e+02, 1.580e+02, 2.190e+02, 2.430e+02,\n",
       "        3.000e+02, 3.870e+02, 4.290e+02, 5.280e+02, 5.940e+02, 7.410e+02,\n",
       "        7.980e+02, 9.290e+02, 1.007e+03, 1.158e+03, 1.304e+03, 1.409e+03,\n",
       "        1.603e+03, 1.843e+03, 1.994e+03, 2.155e+03, 2.263e+03, 2.418e+03,\n",
       "        2.582e+03, 2.734e+03, 2.791e+03, 3.065e+03, 3.107e+03, 3.162e+03,\n",
       "        3.228e+03, 3.335e+03, 3.276e+03, 3.285e+03, 3.236e+03, 3.082e+03,\n",
       "        3.158e+03, 3.194e+03, 2.936e+03, 2.805e+03, 2.685e+03, 2.570e+03,\n",
       "        2.377e+03, 2.272e+03, 2.164e+03, 1.915e+03, 1.747e+03, 1.572e+03,\n",
       "        1.487e+03, 1.210e+03, 1.082e+03, 1.026e+03, 8.690e+02, 7.840e+02,\n",
       "        6.770e+02, 6.400e+02, 4.580e+02, 3.950e+02, 3.730e+02, 3.080e+02,\n",
       "        2.380e+02, 2.190e+02, 1.800e+02, 1.170e+02, 1.150e+02, 9.300e+01,\n",
       "        7.400e+01, 5.700e+01, 4.400e+01, 3.400e+01, 2.800e+01, 2.200e+01,\n",
       "        1.600e+01, 8.000e+00, 8.000e+00, 6.000e+00, 4.000e+00, 7.000e+00,\n",
       "        3.000e+00, 3.000e+00, 0.000e+00, 1.000e+00]),\n",
       " array([-4.19705673, -4.11453946, -4.03202218, -3.9495049 , -3.86698763,\n",
       "        -3.78447035, -3.70195307, -3.61943579, -3.53691852, -3.45440124,\n",
       "        -3.37188396, -3.28936669, -3.20684941, -3.12433213, -3.04181486,\n",
       "        -2.95929758, -2.8767803 , -2.79426302, -2.71174575, -2.62922847,\n",
       "        -2.54671119, -2.46419392, -2.38167664, -2.29915936, -2.21664209,\n",
       "        -2.13412481, -2.05160753, -1.96909026, -1.88657298, -1.8040557 ,\n",
       "        -1.72153842, -1.63902115, -1.55650387, -1.47398659, -1.39146932,\n",
       "        -1.30895204, -1.22643476, -1.14391749, -1.06140021, -0.97888293,\n",
       "        -0.89636565, -0.81384838, -0.7313311 , -0.64881382, -0.56629655,\n",
       "        -0.48377927, -0.40126199, -0.31874472, -0.23622744, -0.15371016,\n",
       "        -0.07119288,  0.01132439,  0.09384167,  0.17635895,  0.25887622,\n",
       "         0.3413935 ,  0.42391078,  0.50642805,  0.58894533,  0.67146261,\n",
       "         0.75397988,  0.83649716,  0.91901444,  1.00153172,  1.08404899,\n",
       "         1.16656627,  1.24908355,  1.33160082,  1.4141181 ,  1.49663538,\n",
       "         1.57915265,  1.66166993,  1.74418721,  1.82670449,  1.90922176,\n",
       "         1.99173904,  2.07425632,  2.15677359,  2.23929087,  2.32180815,\n",
       "         2.40432542,  2.4868427 ,  2.56935998,  2.65187725,  2.73439453,\n",
       "         2.81691181,  2.89942909,  2.98194636,  3.06446364,  3.14698092,\n",
       "         3.22949819,  3.31201547,  3.39453275,  3.47705002,  3.5595673 ,\n",
       "         3.64208458,  3.72460186,  3.80711913,  3.88963641,  3.97215369,\n",
       "         4.05467096]),\n",
       " <BarContainer object of 100 artists>)"
      ]
     },
     "execution_count": 48,
     "metadata": {},
     "output_type": "execute_result"
    },
    {
     "data": {
      "image/png": "[encoded data removed]",
      "text/plain": [
       "<Figure size 432x288 with 1 Axes>"
      ]
     },
     "metadata": {
      "needs_background": "light"
     },
     "output_type": "display_data"
    }
   ],
   "source": [
    "plt.hist(x, bins=100)"
   ]
  },
  {
   "cell_type": "code",
   "execution_count": 50,
   "metadata": {},
   "outputs": [
    {
     "data": {
      "text/plain": [
       "0.0035315687709047004"
      ]
     },
     "execution_count": 50,
     "metadata": {},
     "output_type": "execute_result"
    }
   ],
   "source": [
    "stats.skew(x)"
   ]
  }
 ],
 "metadata": {
  "kernelspec": {
   "display_name": "Python 3",
   "language": "python",
   "name": "python3"
  },
  "language_info": {
   "codemirror_mode": {
    "name": "ipython",
    "version": 3
   },
   "file_extension": ".py",
   "mimetype": "text/x-python",
   "name": "python",
   "nbconvert_exporter": "python",
   "pygments_lexer": "ipython3",
   "version": "3.8.5"
  }
 },
 "nbformat": 4,
 "nbformat_minor": 4
}
