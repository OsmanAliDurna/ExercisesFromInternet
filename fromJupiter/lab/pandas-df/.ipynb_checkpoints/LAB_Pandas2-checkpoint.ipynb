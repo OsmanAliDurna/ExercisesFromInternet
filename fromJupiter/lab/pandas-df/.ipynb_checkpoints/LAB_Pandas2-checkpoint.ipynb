{
 "cells": [
  {
   "cell_type": "code",
   "execution_count": 1,
   "metadata": {
    "colab": {
     "base_uri": "https://localhost:8080/"
    },
    "id": "hCwZN0lR8pxY",
    "outputId": "d9d8dd74-e79c-4651-bcd9-66b992830a59"
   },
   "outputs": [
    {
     "name": "stdout",
     "output_type": "stream",
     "text": [
      "Requirement already satisfied: pyforest in c:\\programdata\\anaconda3\\lib\\site-packages (1.0.3)\n",
      "Note: you may need to restart the kernel to use updated packages.\n"
     ]
    }
   ],
   "source": [
    "pip install pyforest"
   ]
  },
  {
   "cell_type": "code",
   "execution_count": 2,
   "metadata": {
    "id": "Mcy8qRfw8kEa"
   },
   "outputs": [],
   "source": [
    "import pyforest"
   ]
  },
  {
   "cell_type": "markdown",
   "metadata": {
    "id": "AKMEw_5XpnRS"
   },
   "source": [
    "# WORLD HEALTH ORG DATA"
   ]
  },
  {
   "cell_type": "code",
   "execution_count": 3,
   "metadata": {
    "colab": {
     "base_uri": "https://localhost:8080/",
     "height": 16
    },
    "id": "ZVskCCLV8vQ6",
    "outputId": "a975c2d5-f0d2-4966-f16a-de5a7e11794a"
   },
   "outputs": [
    {
     "data": {
      "application/javascript": [
       "\n",
       "        if (window._pyforest_update_imports_cell) { window._pyforest_update_imports_cell('import pandas as pd'); }\n",
       "    "
      ],
      "text/plain": [
       "<IPython.core.display.Javascript object>"
      ]
     },
     "metadata": {},
     "output_type": "display_data"
    }
   ],
   "source": [
    "df = pd.read_csv(\"SDG_SH_DTH_RNCOM.csv\", header=1)"
   ]
  },
  {
   "cell_type": "code",
   "execution_count": 4,
   "metadata": {
    "colab": {
     "base_uri": "https://localhost:8080/",
     "height": 406
    },
    "id": "1fFfu1oE8-Kt",
    "outputId": "769b09b3-d5e7-457f-ca10-578bc1136ef2"
   },
   "outputs": [
    {
     "data": {
      "text/html": [
       "<div>\n",
       "<style scoped>\n",
       "    .dataframe tbody tr th:only-of-type {\n",
       "        vertical-align: middle;\n",
       "    }\n",
       "\n",
       "    .dataframe tbody tr th {\n",
       "        vertical-align: top;\n",
       "    }\n",
       "\n",
       "    .dataframe thead th {\n",
       "        text-align: right;\n",
       "    }\n",
       "</style>\n",
       "<table border=\"1\" class=\"dataframe\">\n",
       "  <thead>\n",
       "    <tr style=\"text-align: right;\">\n",
       "      <th></th>\n",
       "      <th>Country</th>\n",
       "      <th>Year</th>\n",
       "      <th>Causes</th>\n",
       "      <th>Both sexes</th>\n",
       "      <th>Male</th>\n",
       "      <th>Female</th>\n",
       "    </tr>\n",
       "  </thead>\n",
       "  <tbody>\n",
       "    <tr>\n",
       "      <th>0</th>\n",
       "      <td>Afghanistan</td>\n",
       "      <td>2019</td>\n",
       "      <td>Malignant neoplasms</td>\n",
       "      <td>15565 [7609-28280]</td>\n",
       "      <td>7756 [3898-13841]</td>\n",
       "      <td>7809 [3711-14439]</td>\n",
       "    </tr>\n",
       "    <tr>\n",
       "      <th>1</th>\n",
       "      <td>Afghanistan</td>\n",
       "      <td>2019</td>\n",
       "      <td>Diabetes mellitus</td>\n",
       "      <td>8060 [3827-14468]</td>\n",
       "      <td>2612 [1377-4651]</td>\n",
       "      <td>5448 [2451-9817]</td>\n",
       "    </tr>\n",
       "    <tr>\n",
       "      <th>2</th>\n",
       "      <td>Afghanistan</td>\n",
       "      <td>2019</td>\n",
       "      <td>Cardiovascular diseases</td>\n",
       "      <td>71264 [42413-108472]</td>\n",
       "      <td>33793 [20550-51028]</td>\n",
       "      <td>37471 [21863-57444]</td>\n",
       "    </tr>\n",
       "    <tr>\n",
       "      <th>3</th>\n",
       "      <td>Afghanistan</td>\n",
       "      <td>2019</td>\n",
       "      <td>Chronic respiratory diseases</td>\n",
       "      <td>8285 [3618-14626]</td>\n",
       "      <td>3920 [1877-6745]</td>\n",
       "      <td>4365 [1741-7881]</td>\n",
       "    </tr>\n",
       "    <tr>\n",
       "      <th>4</th>\n",
       "      <td>Afghanistan</td>\n",
       "      <td>2018</td>\n",
       "      <td>Malignant neoplasms</td>\n",
       "      <td>15065 [7337-27401]</td>\n",
       "      <td>7534 [3766-13454]</td>\n",
       "      <td>7531 [3570-13948]</td>\n",
       "    </tr>\n",
       "    <tr>\n",
       "      <th>...</th>\n",
       "      <td>...</td>\n",
       "      <td>...</td>\n",
       "      <td>...</td>\n",
       "      <td>...</td>\n",
       "      <td>...</td>\n",
       "      <td>...</td>\n",
       "    </tr>\n",
       "    <tr>\n",
       "      <th>14635</th>\n",
       "      <td>Zimbabwe</td>\n",
       "      <td>2001</td>\n",
       "      <td>Chronic respiratory diseases</td>\n",
       "      <td>1884 [1044-3046]</td>\n",
       "      <td>996 [603-1513]</td>\n",
       "      <td>887 [441-1533]</td>\n",
       "    </tr>\n",
       "    <tr>\n",
       "      <th>14636</th>\n",
       "      <td>Zimbabwe</td>\n",
       "      <td>2000</td>\n",
       "      <td>Malignant neoplasms</td>\n",
       "      <td>7474 [4592-11441]</td>\n",
       "      <td>3838 [2512-5647]</td>\n",
       "      <td>3636 [2080-5794]</td>\n",
       "    </tr>\n",
       "    <tr>\n",
       "      <th>14637</th>\n",
       "      <td>Zimbabwe</td>\n",
       "      <td>2000</td>\n",
       "      <td>Diabetes mellitus</td>\n",
       "      <td>2039 [1227-3219]</td>\n",
       "      <td>810 [507-1246]</td>\n",
       "      <td>1229 [720-1972]</td>\n",
       "    </tr>\n",
       "    <tr>\n",
       "      <th>14638</th>\n",
       "      <td>Zimbabwe</td>\n",
       "      <td>2000</td>\n",
       "      <td>Cardiovascular diseases</td>\n",
       "      <td>10368 [6335-16076]</td>\n",
       "      <td>4425 [2818-6837]</td>\n",
       "      <td>5943 [3516-9239]</td>\n",
       "    </tr>\n",
       "    <tr>\n",
       "      <th>14639</th>\n",
       "      <td>Zimbabwe</td>\n",
       "      <td>2000</td>\n",
       "      <td>Chronic respiratory diseases</td>\n",
       "      <td>1861 [1039-2993]</td>\n",
       "      <td>983 [605-1481]</td>\n",
       "      <td>878 [435-1513]</td>\n",
       "    </tr>\n",
       "  </tbody>\n",
       "</table>\n",
       "<p>14640 rows × 6 columns</p>\n",
       "</div>"
      ],
      "text/plain": [
       "           Country  Year                         Causes            Both sexes  \\\n",
       "0      Afghanistan  2019            Malignant neoplasms    15565 [7609-28280]   \n",
       "1      Afghanistan  2019              Diabetes mellitus     8060 [3827-14468]   \n",
       "2      Afghanistan  2019        Cardiovascular diseases  71264 [42413-108472]   \n",
       "3      Afghanistan  2019   Chronic respiratory diseases     8285 [3618-14626]   \n",
       "4      Afghanistan  2018            Malignant neoplasms    15065 [7337-27401]   \n",
       "...            ...   ...                            ...                   ...   \n",
       "14635     Zimbabwe  2001   Chronic respiratory diseases      1884 [1044-3046]   \n",
       "14636     Zimbabwe  2000            Malignant neoplasms     7474 [4592-11441]   \n",
       "14637     Zimbabwe  2000              Diabetes mellitus      2039 [1227-3219]   \n",
       "14638     Zimbabwe  2000        Cardiovascular diseases    10368 [6335-16076]   \n",
       "14639     Zimbabwe  2000   Chronic respiratory diseases      1861 [1039-2993]   \n",
       "\n",
       "                      Male               Female  \n",
       "0        7756 [3898-13841]    7809 [3711-14439]  \n",
       "1         2612 [1377-4651]     5448 [2451-9817]  \n",
       "2      33793 [20550-51028]  37471 [21863-57444]  \n",
       "3         3920 [1877-6745]     4365 [1741-7881]  \n",
       "4        7534 [3766-13454]    7531 [3570-13948]  \n",
       "...                    ...                  ...  \n",
       "14635       996 [603-1513]       887 [441-1533]  \n",
       "14636     3838 [2512-5647]     3636 [2080-5794]  \n",
       "14637       810 [507-1246]      1229 [720-1972]  \n",
       "14638     4425 [2818-6837]     5943 [3516-9239]  \n",
       "14639       983 [605-1481]       878 [435-1513]  \n",
       "\n",
       "[14640 rows x 6 columns]"
      ]
     },
     "execution_count": 4,
     "metadata": {},
     "output_type": "execute_result"
    }
   ],
   "source": [
    "df"
   ]
  },
  {
   "cell_type": "code",
   "execution_count": 5,
   "metadata": {
    "colab": {
     "base_uri": "https://localhost:8080/"
    },
    "id": "5CZpC6r98-ww",
    "outputId": "179a33fa-127a-46f6-f6be-e3d9bc6b8c72"
   },
   "outputs": [
    {
     "name": "stdout",
     "output_type": "stream",
     "text": [
      "Philippines    80\n",
      "Angola         80\n",
      "Guyana         80\n",
      "Kiribati       80\n",
      "Lebanon        80\n",
      "               ..\n",
      "Timor-Leste    80\n",
      "Gambia         80\n",
      "Peru           80\n",
      "Zimbabwe       80\n",
      "Viet Nam       80\n",
      "Name: Country, Length: 183, dtype: int64\n",
      "*-*-*-*-*-*-*-*-*-*-*-*-*-*-*-*-*-*-*-*-\n",
      "2015    732\n",
      "2007    732\n",
      "2008    732\n",
      "2016    732\n",
      "2001    732\n",
      "2009    732\n",
      "2017    732\n",
      "2002    732\n",
      "2010    732\n",
      "2018    732\n",
      "2003    732\n",
      "2011    732\n",
      "2019    732\n",
      "2004    732\n",
      "2012    732\n",
      "2005    732\n",
      "2013    732\n",
      "2006    732\n",
      "2014    732\n",
      "2000    732\n",
      "Name: Year, dtype: int64\n",
      "*-*-*-*-*-*-*-*-*-*-*-*-*-*-*-*-*-*-*-*-\n",
      " Malignant neoplasms             3660\n",
      " Chronic respiratory diseases    3660\n",
      " Diabetes mellitus               3660\n",
      " Cardiovascular diseases         3660\n",
      "Name: Causes, dtype: int64\n",
      "*-*-*-*-*-*-*-*-*-*-*-*-*-*-*-*-*-*-*-*-\n",
      "29 [18-43]             6\n",
      "27 [19-37]             4\n",
      "36 [26-49]             3\n",
      "51 [38-67]             3\n",
      "86 [50-141]            3\n",
      "                      ..\n",
      "17527 [13811-22428]    1\n",
      "2379 [1909-3034]       1\n",
      "387 [237-801]          1\n",
      "15307 [11025-18490]    1\n",
      "4391 [2518-7117]       1\n",
      "Name:  Both sexes, Length: 14531, dtype: int64\n",
      "*-*-*-*-*-*-*-*-*-*-*-*-*-*-*-*-*-*-*-*-\n",
      "15 [10-22]             9\n",
      "27 [17-41]             7\n",
      "25 [18-33]             7\n",
      "17 [11-24]             6\n",
      "16 [10-23]             6\n",
      "                      ..\n",
      "1185 [895-1534]        1\n",
      "182 [124-248]          1\n",
      "28530 [22321-35985]    1\n",
      "19314 [13380-26859]    1\n",
      "5761 [4834-6877]       1\n",
      "Name:  Male, Length: 14337, dtype: int64\n",
      "*-*-*-*-*-*-*-*-*-*-*-*-*-*-*-*-*-*-*-*-\n",
      "13 [9-18]            16\n",
      "12 [7-19]            11\n",
      "12 [8-16]             9\n",
      "11 [6-17]             8\n",
      "43 [24-70]            7\n",
      "                     ..\n",
      "5664 [4201-7241]      1\n",
      "350 [205-564]         1\n",
      "8709 [6262-11668]     1\n",
      "7211 [3912-10946]     1\n",
      "7573 [4742-10949]     1\n",
      "Name:  Female, Length: 14331, dtype: int64\n",
      "*-*-*-*-*-*-*-*-*-*-*-*-*-*-*-*-*-*-*-*-\n"
     ]
    }
   ],
   "source": [
    "for i in df.columns:\n",
    "  print(df[i].value_counts(dropna =False))\n",
    "  print(\"*-\"*20)"
   ]
  },
  {
   "cell_type": "markdown",
   "metadata": {
    "id": "IQ8zBK9rqKI7"
   },
   "source": [
    "## REARANGE COLUMNS NAMES"
   ]
  },
  {
   "cell_type": "code",
   "execution_count": 6,
   "metadata": {
    "id": "OABJ3jK49ynD"
   },
   "outputs": [],
   "source": [
    " # df[\"Male\"]"
   ]
  },
  {
   "cell_type": "code",
   "execution_count": 7,
   "metadata": {
    "colab": {
     "base_uri": "https://localhost:8080/"
    },
    "id": "-_Xpbmbd_foS",
    "outputId": "ac83a439-893a-43a1-8246-e7812817bf5a"
   },
   "outputs": [
    {
     "data": {
      "text/plain": [
       "Index(['Country', 'Year', 'Causes', ' Both sexes', ' Male', ' Female'], dtype='object')"
      ]
     },
     "execution_count": 7,
     "metadata": {},
     "output_type": "execute_result"
    }
   ],
   "source": [
    "df.columns"
   ]
  },
  {
   "cell_type": "code",
   "execution_count": 8,
   "metadata": {
    "colab": {
     "base_uri": "https://localhost:8080/"
    },
    "id": "YOMarO7h_Nwe",
    "outputId": "6141665e-71a9-4793-f601-6c1739300fc8"
   },
   "outputs": [
    {
     "data": {
      "text/plain": [
       "Index(['Country', 'Year', 'Causes', 'Both sexes', 'Male', 'Female'], dtype='object')"
      ]
     },
     "execution_count": 8,
     "metadata": {},
     "output_type": "execute_result"
    }
   ],
   "source": [
    "df.columns.str.strip()"
   ]
  },
  {
   "cell_type": "code",
   "execution_count": 9,
   "metadata": {
    "id": "_I3PqKSI_rVG"
   },
   "outputs": [],
   "source": [
    "df.columns = df.columns.str.strip()"
   ]
  },
  {
   "cell_type": "markdown",
   "metadata": {
    "id": "Id3ch7FBZpFJ"
   },
   "source": [
    "## DEAL WITH SAME ISSUE IF VALUES HAVE SOMETHING LIKE THIS ABOVE"
   ]
  },
  {
   "cell_type": "code",
   "execution_count": 10,
   "metadata": {
    "colab": {
     "base_uri": "https://localhost:8080/"
    },
    "id": "0KZmYr9zcENz",
    "outputId": "a4597c30-355c-43ca-d043-16379a93744f"
   },
   "outputs": [
    {
     "data": {
      "text/plain": [
       "array([' Malignant neoplasms', ' Diabetes mellitus',\n",
       "       ' Cardiovascular diseases', ' Chronic respiratory diseases'],\n",
       "      dtype=object)"
      ]
     },
     "execution_count": 10,
     "metadata": {},
     "output_type": "execute_result"
    }
   ],
   "source": [
    "df.Causes.unique()"
   ]
  },
  {
   "cell_type": "code",
   "execution_count": 11,
   "metadata": {
    "colab": {
     "base_uri": "https://localhost:8080/"
    },
    "id": "-EioeJJtbYsO",
    "outputId": "65ca4a83-ca49-453e-eb6b-c37bd2a78f3e"
   },
   "outputs": [
    {
     "data": {
      "text/plain": [
       "Index(['Country', 'Causes', 'Both sexes', 'Male', 'Female'], dtype='object')"
      ]
     },
     "execution_count": 11,
     "metadata": {},
     "output_type": "execute_result"
    }
   ],
   "source": [
    "df.select_dtypes(\"object\").columns"
   ]
  },
  {
   "cell_type": "code",
   "execution_count": 12,
   "metadata": {
    "id": "40j1dKArZk-Y"
   },
   "outputs": [],
   "source": [
    "for column in df.select_dtypes(\"object\").columns:\n",
    "  df[column] = df[column].apply(lambda x :x.strip())"
   ]
  },
  {
   "cell_type": "code",
   "execution_count": 13,
   "metadata": {
    "colab": {
     "base_uri": "https://localhost:8080/"
    },
    "id": "zxOdTEMvbtU9",
    "outputId": "e3a1d65e-ec08-49ac-da08-5fb6d77f7539"
   },
   "outputs": [
    {
     "data": {
      "text/plain": [
       "array(['Malignant neoplasms', 'Diabetes mellitus',\n",
       "       'Cardiovascular diseases', 'Chronic respiratory diseases'],\n",
       "      dtype=object)"
      ]
     },
     "execution_count": 13,
     "metadata": {},
     "output_type": "execute_result"
    }
   ],
   "source": [
    "df.Causes.unique()"
   ]
  },
  {
   "cell_type": "markdown",
   "metadata": {
    "id": "PE709_O7qVKo"
   },
   "source": [
    "## CREATE NEW FEATURES FROM Both sexes, Male, Female \n",
    "* NOTE : the first number is recent and the numbers in bracket are min and max"
   ]
  },
  {
   "cell_type": "code",
   "execution_count": 14,
   "metadata": {
    "colab": {
     "base_uri": "https://localhost:8080/"
    },
    "id": "J8LF7Q_UAueP",
    "outputId": "65538420-acc4-41ef-cfb6-14f43389b64d"
   },
   "outputs": [
    {
     "data": {
      "text/plain": [
       "0          7756 [3898-13841]\n",
       "1           2612 [1377-4651]\n",
       "2        33793 [20550-51028]\n",
       "3           3920 [1877-6745]\n",
       "4          7534 [3766-13454]\n",
       "                ...         \n",
       "14635         996 [603-1513]\n",
       "14636       3838 [2512-5647]\n",
       "14637         810 [507-1246]\n",
       "14638       4425 [2818-6837]\n",
       "14639         983 [605-1481]\n",
       "Name: Male, Length: 14640, dtype: object"
      ]
     },
     "execution_count": 14,
     "metadata": {},
     "output_type": "execute_result"
    }
   ],
   "source": [
    "df.Male"
   ]
  },
  {
   "cell_type": "code",
   "execution_count": 15,
   "metadata": {
    "colab": {
     "base_uri": "https://localhost:8080/"
    },
    "id": "59Sxbvnc_ycg",
    "outputId": "ad11d39e-f2b8-42ff-f084-441cd63e0c64"
   },
   "outputs": [
    {
     "data": {
      "text/plain": [
       "0         7756\n",
       "1         2612\n",
       "2        33793\n",
       "3         3920\n",
       "4         7534\n",
       "         ...  \n",
       "14635      996\n",
       "14636     3838\n",
       "14637      810\n",
       "14638     4425\n",
       "14639      983\n",
       "Name: Male, Length: 14640, dtype: int32"
      ]
     },
     "execution_count": 15,
     "metadata": {},
     "output_type": "execute_result"
    }
   ],
   "source": [
    "df.Male.apply(lambda x : x.split()[0]).astype(\"int\")"
   ]
  },
  {
   "cell_type": "code",
   "execution_count": 16,
   "metadata": {
    "colab": {
     "base_uri": "https://localhost:8080/"
    },
    "id": "hVQCAm_rC3xU",
    "outputId": "ec7b6103-7957-462d-834f-619d4cd788d0"
   },
   "outputs": [
    {
     "data": {
      "text/plain": [
       "0         3898\n",
       "1         1377\n",
       "2        20550\n",
       "3         1877\n",
       "4         3766\n",
       "         ...  \n",
       "14635      603\n",
       "14636     2512\n",
       "14637      507\n",
       "14638     2818\n",
       "14639      605\n",
       "Name: Male, Length: 14640, dtype: object"
      ]
     },
     "execution_count": 16,
     "metadata": {},
     "output_type": "execute_result"
    }
   ],
   "source": [
    "df.Male.apply(lambda x : x.split()[1].split(\"-\")[0].strip(\"[]\"))"
   ]
  },
  {
   "cell_type": "code",
   "execution_count": 17,
   "metadata": {
    "colab": {
     "base_uri": "https://localhost:8080/"
    },
    "id": "7rg_UuI1EhU4",
    "outputId": "b9983ce4-6c8b-40b3-d19d-467eddb68fa2"
   },
   "outputs": [
    {
     "data": {
      "text/plain": [
       "0        13841\n",
       "1         4651\n",
       "2        51028\n",
       "3         6745\n",
       "4        13454\n",
       "         ...  \n",
       "14635     1513\n",
       "14636     5647\n",
       "14637     1246\n",
       "14638     6837\n",
       "14639     1481\n",
       "Name: Male, Length: 14640, dtype: object"
      ]
     },
     "execution_count": 17,
     "metadata": {},
     "output_type": "execute_result"
    }
   ],
   "source": [
    "df.Male.apply(lambda x : x.split()[1].split(\"-\")[1].strip(\"[]\"))"
   ]
  },
  {
   "cell_type": "code",
   "execution_count": 18,
   "metadata": {
    "id": "LEyYuTpZ_02p"
   },
   "outputs": [],
   "source": [
    "for i in df.columns[-3:]:\n",
    "  df[i+\"_recent\"] = df[i].apply(lambda x : x.split()[0]).astype(\"int\")\n",
    "  df[i+\"_min\"] = df[i].apply(lambda x : x.split()[1].split(\"-\")[0].strip(\"[]\")).astype(\"int\")\n",
    "  df[i+\"_max\"] = df[i].apply(lambda x : x.split()[1].split(\"-\")[1].strip(\"[]\")).astype(\"int\")"
   ]
  },
  {
   "cell_type": "code",
   "execution_count": 19,
   "metadata": {
    "colab": {
     "base_uri": "https://localhost:8080/",
     "height": 540
    },
    "id": "dTrry-4VCbiq",
    "outputId": "35571365-1ab0-4b19-b2c5-3d9cc09971ef"
   },
   "outputs": [
    {
     "data": {
      "text/html": [
       "<div>\n",
       "<style scoped>\n",
       "    .dataframe tbody tr th:only-of-type {\n",
       "        vertical-align: middle;\n",
       "    }\n",
       "\n",
       "    .dataframe tbody tr th {\n",
       "        vertical-align: top;\n",
       "    }\n",
       "\n",
       "    .dataframe thead th {\n",
       "        text-align: right;\n",
       "    }\n",
       "</style>\n",
       "<table border=\"1\" class=\"dataframe\">\n",
       "  <thead>\n",
       "    <tr style=\"text-align: right;\">\n",
       "      <th></th>\n",
       "      <th>Country</th>\n",
       "      <th>Year</th>\n",
       "      <th>Causes</th>\n",
       "      <th>Both sexes</th>\n",
       "      <th>Male</th>\n",
       "      <th>Female</th>\n",
       "      <th>Both sexes_recent</th>\n",
       "      <th>Both sexes_min</th>\n",
       "      <th>Both sexes_max</th>\n",
       "      <th>Male_recent</th>\n",
       "      <th>Male_min</th>\n",
       "      <th>Male_max</th>\n",
       "      <th>Female_recent</th>\n",
       "      <th>Female_min</th>\n",
       "      <th>Female_max</th>\n",
       "    </tr>\n",
       "  </thead>\n",
       "  <tbody>\n",
       "    <tr>\n",
       "      <th>0</th>\n",
       "      <td>Afghanistan</td>\n",
       "      <td>2019</td>\n",
       "      <td>Malignant neoplasms</td>\n",
       "      <td>15565 [7609-28280]</td>\n",
       "      <td>7756 [3898-13841]</td>\n",
       "      <td>7809 [3711-14439]</td>\n",
       "      <td>15565</td>\n",
       "      <td>7609</td>\n",
       "      <td>28280</td>\n",
       "      <td>7756</td>\n",
       "      <td>3898</td>\n",
       "      <td>13841</td>\n",
       "      <td>7809</td>\n",
       "      <td>3711</td>\n",
       "      <td>14439</td>\n",
       "    </tr>\n",
       "    <tr>\n",
       "      <th>1</th>\n",
       "      <td>Afghanistan</td>\n",
       "      <td>2019</td>\n",
       "      <td>Diabetes mellitus</td>\n",
       "      <td>8060 [3827-14468]</td>\n",
       "      <td>2612 [1377-4651]</td>\n",
       "      <td>5448 [2451-9817]</td>\n",
       "      <td>8060</td>\n",
       "      <td>3827</td>\n",
       "      <td>14468</td>\n",
       "      <td>2612</td>\n",
       "      <td>1377</td>\n",
       "      <td>4651</td>\n",
       "      <td>5448</td>\n",
       "      <td>2451</td>\n",
       "      <td>9817</td>\n",
       "    </tr>\n",
       "    <tr>\n",
       "      <th>2</th>\n",
       "      <td>Afghanistan</td>\n",
       "      <td>2019</td>\n",
       "      <td>Cardiovascular diseases</td>\n",
       "      <td>71264 [42413-108472]</td>\n",
       "      <td>33793 [20550-51028]</td>\n",
       "      <td>37471 [21863-57444]</td>\n",
       "      <td>71264</td>\n",
       "      <td>42413</td>\n",
       "      <td>108472</td>\n",
       "      <td>33793</td>\n",
       "      <td>20550</td>\n",
       "      <td>51028</td>\n",
       "      <td>37471</td>\n",
       "      <td>21863</td>\n",
       "      <td>57444</td>\n",
       "    </tr>\n",
       "    <tr>\n",
       "      <th>3</th>\n",
       "      <td>Afghanistan</td>\n",
       "      <td>2019</td>\n",
       "      <td>Chronic respiratory diseases</td>\n",
       "      <td>8285 [3618-14626]</td>\n",
       "      <td>3920 [1877-6745]</td>\n",
       "      <td>4365 [1741-7881]</td>\n",
       "      <td>8285</td>\n",
       "      <td>3618</td>\n",
       "      <td>14626</td>\n",
       "      <td>3920</td>\n",
       "      <td>1877</td>\n",
       "      <td>6745</td>\n",
       "      <td>4365</td>\n",
       "      <td>1741</td>\n",
       "      <td>7881</td>\n",
       "    </tr>\n",
       "    <tr>\n",
       "      <th>4</th>\n",
       "      <td>Afghanistan</td>\n",
       "      <td>2018</td>\n",
       "      <td>Malignant neoplasms</td>\n",
       "      <td>15065 [7337-27401]</td>\n",
       "      <td>7534 [3766-13454]</td>\n",
       "      <td>7531 [3570-13948]</td>\n",
       "      <td>15065</td>\n",
       "      <td>7337</td>\n",
       "      <td>27401</td>\n",
       "      <td>7534</td>\n",
       "      <td>3766</td>\n",
       "      <td>13454</td>\n",
       "      <td>7531</td>\n",
       "      <td>3570</td>\n",
       "      <td>13948</td>\n",
       "    </tr>\n",
       "    <tr>\n",
       "      <th>...</th>\n",
       "      <td>...</td>\n",
       "      <td>...</td>\n",
       "      <td>...</td>\n",
       "      <td>...</td>\n",
       "      <td>...</td>\n",
       "      <td>...</td>\n",
       "      <td>...</td>\n",
       "      <td>...</td>\n",
       "      <td>...</td>\n",
       "      <td>...</td>\n",
       "      <td>...</td>\n",
       "      <td>...</td>\n",
       "      <td>...</td>\n",
       "      <td>...</td>\n",
       "      <td>...</td>\n",
       "    </tr>\n",
       "    <tr>\n",
       "      <th>14635</th>\n",
       "      <td>Zimbabwe</td>\n",
       "      <td>2001</td>\n",
       "      <td>Chronic respiratory diseases</td>\n",
       "      <td>1884 [1044-3046]</td>\n",
       "      <td>996 [603-1513]</td>\n",
       "      <td>887 [441-1533]</td>\n",
       "      <td>1884</td>\n",
       "      <td>1044</td>\n",
       "      <td>3046</td>\n",
       "      <td>996</td>\n",
       "      <td>603</td>\n",
       "      <td>1513</td>\n",
       "      <td>887</td>\n",
       "      <td>441</td>\n",
       "      <td>1533</td>\n",
       "    </tr>\n",
       "    <tr>\n",
       "      <th>14636</th>\n",
       "      <td>Zimbabwe</td>\n",
       "      <td>2000</td>\n",
       "      <td>Malignant neoplasms</td>\n",
       "      <td>7474 [4592-11441]</td>\n",
       "      <td>3838 [2512-5647]</td>\n",
       "      <td>3636 [2080-5794]</td>\n",
       "      <td>7474</td>\n",
       "      <td>4592</td>\n",
       "      <td>11441</td>\n",
       "      <td>3838</td>\n",
       "      <td>2512</td>\n",
       "      <td>5647</td>\n",
       "      <td>3636</td>\n",
       "      <td>2080</td>\n",
       "      <td>5794</td>\n",
       "    </tr>\n",
       "    <tr>\n",
       "      <th>14637</th>\n",
       "      <td>Zimbabwe</td>\n",
       "      <td>2000</td>\n",
       "      <td>Diabetes mellitus</td>\n",
       "      <td>2039 [1227-3219]</td>\n",
       "      <td>810 [507-1246]</td>\n",
       "      <td>1229 [720-1972]</td>\n",
       "      <td>2039</td>\n",
       "      <td>1227</td>\n",
       "      <td>3219</td>\n",
       "      <td>810</td>\n",
       "      <td>507</td>\n",
       "      <td>1246</td>\n",
       "      <td>1229</td>\n",
       "      <td>720</td>\n",
       "      <td>1972</td>\n",
       "    </tr>\n",
       "    <tr>\n",
       "      <th>14638</th>\n",
       "      <td>Zimbabwe</td>\n",
       "      <td>2000</td>\n",
       "      <td>Cardiovascular diseases</td>\n",
       "      <td>10368 [6335-16076]</td>\n",
       "      <td>4425 [2818-6837]</td>\n",
       "      <td>5943 [3516-9239]</td>\n",
       "      <td>10368</td>\n",
       "      <td>6335</td>\n",
       "      <td>16076</td>\n",
       "      <td>4425</td>\n",
       "      <td>2818</td>\n",
       "      <td>6837</td>\n",
       "      <td>5943</td>\n",
       "      <td>3516</td>\n",
       "      <td>9239</td>\n",
       "    </tr>\n",
       "    <tr>\n",
       "      <th>14639</th>\n",
       "      <td>Zimbabwe</td>\n",
       "      <td>2000</td>\n",
       "      <td>Chronic respiratory diseases</td>\n",
       "      <td>1861 [1039-2993]</td>\n",
       "      <td>983 [605-1481]</td>\n",
       "      <td>878 [435-1513]</td>\n",
       "      <td>1861</td>\n",
       "      <td>1039</td>\n",
       "      <td>2993</td>\n",
       "      <td>983</td>\n",
       "      <td>605</td>\n",
       "      <td>1481</td>\n",
       "      <td>878</td>\n",
       "      <td>435</td>\n",
       "      <td>1513</td>\n",
       "    </tr>\n",
       "  </tbody>\n",
       "</table>\n",
       "<p>14640 rows × 15 columns</p>\n",
       "</div>"
      ],
      "text/plain": [
       "           Country  Year                        Causes            Both sexes  \\\n",
       "0      Afghanistan  2019           Malignant neoplasms    15565 [7609-28280]   \n",
       "1      Afghanistan  2019             Diabetes mellitus     8060 [3827-14468]   \n",
       "2      Afghanistan  2019       Cardiovascular diseases  71264 [42413-108472]   \n",
       "3      Afghanistan  2019  Chronic respiratory diseases     8285 [3618-14626]   \n",
       "4      Afghanistan  2018           Malignant neoplasms    15065 [7337-27401]   \n",
       "...            ...   ...                           ...                   ...   \n",
       "14635     Zimbabwe  2001  Chronic respiratory diseases      1884 [1044-3046]   \n",
       "14636     Zimbabwe  2000           Malignant neoplasms     7474 [4592-11441]   \n",
       "14637     Zimbabwe  2000             Diabetes mellitus      2039 [1227-3219]   \n",
       "14638     Zimbabwe  2000       Cardiovascular diseases    10368 [6335-16076]   \n",
       "14639     Zimbabwe  2000  Chronic respiratory diseases      1861 [1039-2993]   \n",
       "\n",
       "                      Male               Female  Both sexes_recent  \\\n",
       "0        7756 [3898-13841]    7809 [3711-14439]              15565   \n",
       "1         2612 [1377-4651]     5448 [2451-9817]               8060   \n",
       "2      33793 [20550-51028]  37471 [21863-57444]              71264   \n",
       "3         3920 [1877-6745]     4365 [1741-7881]               8285   \n",
       "4        7534 [3766-13454]    7531 [3570-13948]              15065   \n",
       "...                    ...                  ...                ...   \n",
       "14635       996 [603-1513]       887 [441-1533]               1884   \n",
       "14636     3838 [2512-5647]     3636 [2080-5794]               7474   \n",
       "14637       810 [507-1246]      1229 [720-1972]               2039   \n",
       "14638     4425 [2818-6837]     5943 [3516-9239]              10368   \n",
       "14639       983 [605-1481]       878 [435-1513]               1861   \n",
       "\n",
       "       Both sexes_min  Both sexes_max  Male_recent  Male_min  Male_max  \\\n",
       "0                7609           28280         7756      3898     13841   \n",
       "1                3827           14468         2612      1377      4651   \n",
       "2               42413          108472        33793     20550     51028   \n",
       "3                3618           14626         3920      1877      6745   \n",
       "4                7337           27401         7534      3766     13454   \n",
       "...               ...             ...          ...       ...       ...   \n",
       "14635            1044            3046          996       603      1513   \n",
       "14636            4592           11441         3838      2512      5647   \n",
       "14637            1227            3219          810       507      1246   \n",
       "14638            6335           16076         4425      2818      6837   \n",
       "14639            1039            2993          983       605      1481   \n",
       "\n",
       "       Female_recent  Female_min  Female_max  \n",
       "0               7809        3711       14439  \n",
       "1               5448        2451        9817  \n",
       "2              37471       21863       57444  \n",
       "3               4365        1741        7881  \n",
       "4               7531        3570       13948  \n",
       "...              ...         ...         ...  \n",
       "14635            887         441        1533  \n",
       "14636           3636        2080        5794  \n",
       "14637           1229         720        1972  \n",
       "14638           5943        3516        9239  \n",
       "14639            878         435        1513  \n",
       "\n",
       "[14640 rows x 15 columns]"
      ]
     },
     "execution_count": 19,
     "metadata": {},
     "output_type": "execute_result"
    }
   ],
   "source": [
    "df"
   ]
  },
  {
   "cell_type": "markdown",
   "metadata": {
    "id": "Pfly3jfcrieu"
   },
   "source": [
    "## DROP UNNECESSARY FEATURES"
   ]
  },
  {
   "cell_type": "code",
   "execution_count": 20,
   "metadata": {
    "id": "2-LFh1pTCcZX"
   },
   "outputs": [],
   "source": [
    "df_rearanged = df.drop(df.columns[3:6],axis=1)"
   ]
  },
  {
   "cell_type": "code",
   "execution_count": 21,
   "metadata": {
    "colab": {
     "base_uri": "https://localhost:8080/",
     "height": 406
    },
    "id": "_ICnsGfGE5dy",
    "outputId": "6adb63e9-2fbb-4adf-9130-d68b7731339e"
   },
   "outputs": [
    {
     "data": {
      "text/html": [
       "<div>\n",
       "<style scoped>\n",
       "    .dataframe tbody tr th:only-of-type {\n",
       "        vertical-align: middle;\n",
       "    }\n",
       "\n",
       "    .dataframe tbody tr th {\n",
       "        vertical-align: top;\n",
       "    }\n",
       "\n",
       "    .dataframe thead th {\n",
       "        text-align: right;\n",
       "    }\n",
       "</style>\n",
       "<table border=\"1\" class=\"dataframe\">\n",
       "  <thead>\n",
       "    <tr style=\"text-align: right;\">\n",
       "      <th></th>\n",
       "      <th>Country</th>\n",
       "      <th>Year</th>\n",
       "      <th>Causes</th>\n",
       "      <th>Both sexes_recent</th>\n",
       "      <th>Both sexes_min</th>\n",
       "      <th>Both sexes_max</th>\n",
       "      <th>Male_recent</th>\n",
       "      <th>Male_min</th>\n",
       "      <th>Male_max</th>\n",
       "      <th>Female_recent</th>\n",
       "      <th>Female_min</th>\n",
       "      <th>Female_max</th>\n",
       "    </tr>\n",
       "  </thead>\n",
       "  <tbody>\n",
       "    <tr>\n",
       "      <th>0</th>\n",
       "      <td>Afghanistan</td>\n",
       "      <td>2019</td>\n",
       "      <td>Malignant neoplasms</td>\n",
       "      <td>15565</td>\n",
       "      <td>7609</td>\n",
       "      <td>28280</td>\n",
       "      <td>7756</td>\n",
       "      <td>3898</td>\n",
       "      <td>13841</td>\n",
       "      <td>7809</td>\n",
       "      <td>3711</td>\n",
       "      <td>14439</td>\n",
       "    </tr>\n",
       "    <tr>\n",
       "      <th>1</th>\n",
       "      <td>Afghanistan</td>\n",
       "      <td>2019</td>\n",
       "      <td>Diabetes mellitus</td>\n",
       "      <td>8060</td>\n",
       "      <td>3827</td>\n",
       "      <td>14468</td>\n",
       "      <td>2612</td>\n",
       "      <td>1377</td>\n",
       "      <td>4651</td>\n",
       "      <td>5448</td>\n",
       "      <td>2451</td>\n",
       "      <td>9817</td>\n",
       "    </tr>\n",
       "    <tr>\n",
       "      <th>2</th>\n",
       "      <td>Afghanistan</td>\n",
       "      <td>2019</td>\n",
       "      <td>Cardiovascular diseases</td>\n",
       "      <td>71264</td>\n",
       "      <td>42413</td>\n",
       "      <td>108472</td>\n",
       "      <td>33793</td>\n",
       "      <td>20550</td>\n",
       "      <td>51028</td>\n",
       "      <td>37471</td>\n",
       "      <td>21863</td>\n",
       "      <td>57444</td>\n",
       "    </tr>\n",
       "    <tr>\n",
       "      <th>3</th>\n",
       "      <td>Afghanistan</td>\n",
       "      <td>2019</td>\n",
       "      <td>Chronic respiratory diseases</td>\n",
       "      <td>8285</td>\n",
       "      <td>3618</td>\n",
       "      <td>14626</td>\n",
       "      <td>3920</td>\n",
       "      <td>1877</td>\n",
       "      <td>6745</td>\n",
       "      <td>4365</td>\n",
       "      <td>1741</td>\n",
       "      <td>7881</td>\n",
       "    </tr>\n",
       "    <tr>\n",
       "      <th>4</th>\n",
       "      <td>Afghanistan</td>\n",
       "      <td>2018</td>\n",
       "      <td>Malignant neoplasms</td>\n",
       "      <td>15065</td>\n",
       "      <td>7337</td>\n",
       "      <td>27401</td>\n",
       "      <td>7534</td>\n",
       "      <td>3766</td>\n",
       "      <td>13454</td>\n",
       "      <td>7531</td>\n",
       "      <td>3570</td>\n",
       "      <td>13948</td>\n",
       "    </tr>\n",
       "    <tr>\n",
       "      <th>...</th>\n",
       "      <td>...</td>\n",
       "      <td>...</td>\n",
       "      <td>...</td>\n",
       "      <td>...</td>\n",
       "      <td>...</td>\n",
       "      <td>...</td>\n",
       "      <td>...</td>\n",
       "      <td>...</td>\n",
       "      <td>...</td>\n",
       "      <td>...</td>\n",
       "      <td>...</td>\n",
       "      <td>...</td>\n",
       "    </tr>\n",
       "    <tr>\n",
       "      <th>14635</th>\n",
       "      <td>Zimbabwe</td>\n",
       "      <td>2001</td>\n",
       "      <td>Chronic respiratory diseases</td>\n",
       "      <td>1884</td>\n",
       "      <td>1044</td>\n",
       "      <td>3046</td>\n",
       "      <td>996</td>\n",
       "      <td>603</td>\n",
       "      <td>1513</td>\n",
       "      <td>887</td>\n",
       "      <td>441</td>\n",
       "      <td>1533</td>\n",
       "    </tr>\n",
       "    <tr>\n",
       "      <th>14636</th>\n",
       "      <td>Zimbabwe</td>\n",
       "      <td>2000</td>\n",
       "      <td>Malignant neoplasms</td>\n",
       "      <td>7474</td>\n",
       "      <td>4592</td>\n",
       "      <td>11441</td>\n",
       "      <td>3838</td>\n",
       "      <td>2512</td>\n",
       "      <td>5647</td>\n",
       "      <td>3636</td>\n",
       "      <td>2080</td>\n",
       "      <td>5794</td>\n",
       "    </tr>\n",
       "    <tr>\n",
       "      <th>14637</th>\n",
       "      <td>Zimbabwe</td>\n",
       "      <td>2000</td>\n",
       "      <td>Diabetes mellitus</td>\n",
       "      <td>2039</td>\n",
       "      <td>1227</td>\n",
       "      <td>3219</td>\n",
       "      <td>810</td>\n",
       "      <td>507</td>\n",
       "      <td>1246</td>\n",
       "      <td>1229</td>\n",
       "      <td>720</td>\n",
       "      <td>1972</td>\n",
       "    </tr>\n",
       "    <tr>\n",
       "      <th>14638</th>\n",
       "      <td>Zimbabwe</td>\n",
       "      <td>2000</td>\n",
       "      <td>Cardiovascular diseases</td>\n",
       "      <td>10368</td>\n",
       "      <td>6335</td>\n",
       "      <td>16076</td>\n",
       "      <td>4425</td>\n",
       "      <td>2818</td>\n",
       "      <td>6837</td>\n",
       "      <td>5943</td>\n",
       "      <td>3516</td>\n",
       "      <td>9239</td>\n",
       "    </tr>\n",
       "    <tr>\n",
       "      <th>14639</th>\n",
       "      <td>Zimbabwe</td>\n",
       "      <td>2000</td>\n",
       "      <td>Chronic respiratory diseases</td>\n",
       "      <td>1861</td>\n",
       "      <td>1039</td>\n",
       "      <td>2993</td>\n",
       "      <td>983</td>\n",
       "      <td>605</td>\n",
       "      <td>1481</td>\n",
       "      <td>878</td>\n",
       "      <td>435</td>\n",
       "      <td>1513</td>\n",
       "    </tr>\n",
       "  </tbody>\n",
       "</table>\n",
       "<p>14640 rows × 12 columns</p>\n",
       "</div>"
      ],
      "text/plain": [
       "           Country  Year                        Causes  Both sexes_recent  \\\n",
       "0      Afghanistan  2019           Malignant neoplasms              15565   \n",
       "1      Afghanistan  2019             Diabetes mellitus               8060   \n",
       "2      Afghanistan  2019       Cardiovascular diseases              71264   \n",
       "3      Afghanistan  2019  Chronic respiratory diseases               8285   \n",
       "4      Afghanistan  2018           Malignant neoplasms              15065   \n",
       "...            ...   ...                           ...                ...   \n",
       "14635     Zimbabwe  2001  Chronic respiratory diseases               1884   \n",
       "14636     Zimbabwe  2000           Malignant neoplasms               7474   \n",
       "14637     Zimbabwe  2000             Diabetes mellitus               2039   \n",
       "14638     Zimbabwe  2000       Cardiovascular diseases              10368   \n",
       "14639     Zimbabwe  2000  Chronic respiratory diseases               1861   \n",
       "\n",
       "       Both sexes_min  Both sexes_max  Male_recent  Male_min  Male_max  \\\n",
       "0                7609           28280         7756      3898     13841   \n",
       "1                3827           14468         2612      1377      4651   \n",
       "2               42413          108472        33793     20550     51028   \n",
       "3                3618           14626         3920      1877      6745   \n",
       "4                7337           27401         7534      3766     13454   \n",
       "...               ...             ...          ...       ...       ...   \n",
       "14635            1044            3046          996       603      1513   \n",
       "14636            4592           11441         3838      2512      5647   \n",
       "14637            1227            3219          810       507      1246   \n",
       "14638            6335           16076         4425      2818      6837   \n",
       "14639            1039            2993          983       605      1481   \n",
       "\n",
       "       Female_recent  Female_min  Female_max  \n",
       "0               7809        3711       14439  \n",
       "1               5448        2451        9817  \n",
       "2              37471       21863       57444  \n",
       "3               4365        1741        7881  \n",
       "4               7531        3570       13948  \n",
       "...              ...         ...         ...  \n",
       "14635            887         441        1533  \n",
       "14636           3636        2080        5794  \n",
       "14637           1229         720        1972  \n",
       "14638           5943        3516        9239  \n",
       "14639            878         435        1513  \n",
       "\n",
       "[14640 rows x 12 columns]"
      ]
     },
     "execution_count": 21,
     "metadata": {},
     "output_type": "execute_result"
    }
   ],
   "source": [
    "df_rearanged"
   ]
  },
  {
   "cell_type": "markdown",
   "metadata": {
    "id": "7I7mTxEFtGfa"
   },
   "source": [
    "## DESCRIPTIVE ANALYSIS"
   ]
  },
  {
   "cell_type": "code",
   "execution_count": 22,
   "metadata": {
    "colab": {
     "base_uri": "https://localhost:8080/"
    },
    "id": "6zcMdUWYFUGI",
    "outputId": "b59ee07e-4130-4ff3-adda-9e896059c18f"
   },
   "outputs": [
    {
     "data": {
      "text/plain": [
       "Country              False\n",
       "Year                 False\n",
       "Causes               False\n",
       "Both sexes_recent    False\n",
       "Both sexes_min       False\n",
       "Both sexes_max       False\n",
       "Male_recent          False\n",
       "Male_min             False\n",
       "Male_max             False\n",
       "Female_recent        False\n",
       "Female_min           False\n",
       "Female_max           False\n",
       "dtype: bool"
      ]
     },
     "execution_count": 22,
     "metadata": {},
     "output_type": "execute_result"
    }
   ],
   "source": [
    "df_rearanged.isnull().any()"
   ]
  },
  {
   "cell_type": "code",
   "execution_count": 23,
   "metadata": {
    "colab": {
     "base_uri": "https://localhost:8080/",
     "height": 287
    },
    "id": "Vrdy8pzOFahj",
    "outputId": "3a436be9-8d0f-48c1-95c5-bede70ffa2ca"
   },
   "outputs": [
    {
     "data": {
      "application/javascript": [
       "\n",
       "        if (window._pyforest_update_imports_cell) { window._pyforest_update_imports_cell('import pandas as pd'); }\n",
       "    "
      ],
      "text/plain": [
       "<IPython.core.display.Javascript object>"
      ]
     },
     "metadata": {},
     "output_type": "display_data"
    },
    {
     "data": {
      "text/html": [
       "<div>\n",
       "<style scoped>\n",
       "    .dataframe tbody tr th:only-of-type {\n",
       "        vertical-align: middle;\n",
       "    }\n",
       "\n",
       "    .dataframe tbody tr th {\n",
       "        vertical-align: top;\n",
       "    }\n",
       "\n",
       "    .dataframe thead th {\n",
       "        text-align: right;\n",
       "    }\n",
       "</style>\n",
       "<table border=\"1\" class=\"dataframe\">\n",
       "  <thead>\n",
       "    <tr style=\"text-align: right;\">\n",
       "      <th></th>\n",
       "      <th>Year</th>\n",
       "      <th>Both sexes_recent</th>\n",
       "      <th>Both sexes_min</th>\n",
       "      <th>Both sexes_max</th>\n",
       "      <th>Male_recent</th>\n",
       "      <th>Male_min</th>\n",
       "      <th>Male_max</th>\n",
       "      <th>Female_recent</th>\n",
       "      <th>Female_min</th>\n",
       "      <th>Female_max</th>\n",
       "    </tr>\n",
       "  </thead>\n",
       "  <tbody>\n",
       "    <tr>\n",
       "      <th>count</th>\n",
       "      <td>14,640</td>\n",
       "      <td>14,640</td>\n",
       "      <td>14,640</td>\n",
       "      <td>14,640</td>\n",
       "      <td>14,640</td>\n",
       "      <td>14,640</td>\n",
       "      <td>14,640</td>\n",
       "      <td>14,640</td>\n",
       "      <td>14,640</td>\n",
       "      <td>14,640</td>\n",
       "    </tr>\n",
       "    <tr>\n",
       "      <th>mean</th>\n",
       "      <td>2,010</td>\n",
       "      <td>39,983</td>\n",
       "      <td>31,587</td>\n",
       "      <td>49,221</td>\n",
       "      <td>21,311</td>\n",
       "      <td>17,140</td>\n",
       "      <td>26,038</td>\n",
       "      <td>18,672</td>\n",
       "      <td>14,447</td>\n",
       "      <td>23,183</td>\n",
       "    </tr>\n",
       "    <tr>\n",
       "      <th>std</th>\n",
       "      <td>6</td>\n",
       "      <td>198,613</td>\n",
       "      <td>165,303</td>\n",
       "      <td>232,468</td>\n",
       "      <td>112,578</td>\n",
       "      <td>94,515</td>\n",
       "      <td>131,513</td>\n",
       "      <td>87,033</td>\n",
       "      <td>71,645</td>\n",
       "      <td>102,106</td>\n",
       "    </tr>\n",
       "    <tr>\n",
       "      <th>min</th>\n",
       "      <td>2,000</td>\n",
       "      <td>13</td>\n",
       "      <td>8</td>\n",
       "      <td>18</td>\n",
       "      <td>7</td>\n",
       "      <td>4</td>\n",
       "      <td>11</td>\n",
       "      <td>5</td>\n",
       "      <td>3</td>\n",
       "      <td>6</td>\n",
       "    </tr>\n",
       "    <tr>\n",
       "      <th>25%</th>\n",
       "      <td>2,005</td>\n",
       "      <td>997</td>\n",
       "      <td>641</td>\n",
       "      <td>1,452</td>\n",
       "      <td>516</td>\n",
       "      <td>332</td>\n",
       "      <td>732</td>\n",
       "      <td>461</td>\n",
       "      <td>298</td>\n",
       "      <td>680</td>\n",
       "    </tr>\n",
       "    <tr>\n",
       "      <th>50%</th>\n",
       "      <td>2,010</td>\n",
       "      <td>4,478</td>\n",
       "      <td>2,842</td>\n",
       "      <td>6,454</td>\n",
       "      <td>2,259</td>\n",
       "      <td>1,456</td>\n",
       "      <td>3,188</td>\n",
       "      <td>2,104</td>\n",
       "      <td>1,354</td>\n",
       "      <td>3,102</td>\n",
       "    </tr>\n",
       "    <tr>\n",
       "      <th>75%</th>\n",
       "      <td>2,014</td>\n",
       "      <td>18,375</td>\n",
       "      <td>13,010</td>\n",
       "      <td>25,051</td>\n",
       "      <td>9,246</td>\n",
       "      <td>6,642</td>\n",
       "      <td>12,145</td>\n",
       "      <td>8,979</td>\n",
       "      <td>6,130</td>\n",
       "      <td>12,286</td>\n",
       "    </tr>\n",
       "    <tr>\n",
       "      <th>max</th>\n",
       "      <td>2,019</td>\n",
       "      <td>4,306,536</td>\n",
       "      <td>3,385,792</td>\n",
       "      <td>5,228,328</td>\n",
       "      <td>2,429,441</td>\n",
       "      <td>1,922,224</td>\n",
       "      <td>2,945,644</td>\n",
       "      <td>1,877,096</td>\n",
       "      <td>1,463,568</td>\n",
       "      <td>2,282,684</td>\n",
       "    </tr>\n",
       "  </tbody>\n",
       "</table>\n",
       "</div>"
      ],
      "text/plain": [
       "        Year  Both sexes_recent  Both sexes_min  Both sexes_max  Male_recent  \\\n",
       "count 14,640             14,640          14,640          14,640       14,640   \n",
       "mean   2,010             39,983          31,587          49,221       21,311   \n",
       "std        6            198,613         165,303         232,468      112,578   \n",
       "min    2,000                 13               8              18            7   \n",
       "25%    2,005                997             641           1,452          516   \n",
       "50%    2,010              4,478           2,842           6,454        2,259   \n",
       "75%    2,014             18,375          13,010          25,051        9,246   \n",
       "max    2,019          4,306,536       3,385,792       5,228,328    2,429,441   \n",
       "\n",
       "       Male_min  Male_max  Female_recent  Female_min  Female_max  \n",
       "count    14,640    14,640         14,640      14,640      14,640  \n",
       "mean     17,140    26,038         18,672      14,447      23,183  \n",
       "std      94,515   131,513         87,033      71,645     102,106  \n",
       "min           4        11              5           3           6  \n",
       "25%         332       732            461         298         680  \n",
       "50%       1,456     3,188          2,104       1,354       3,102  \n",
       "75%       6,642    12,145          8,979       6,130      12,286  \n",
       "max   1,922,224 2,945,644      1,877,096   1,463,568   2,282,684  "
      ]
     },
     "execution_count": 23,
     "metadata": {},
     "output_type": "execute_result"
    }
   ],
   "source": [
    "pd.options.display.float_format = '{:,.0f}'.format\n",
    "df_rearanged.describe()\n"
   ]
  },
  {
   "cell_type": "code",
   "execution_count": 24,
   "metadata": {
    "colab": {
     "base_uri": "https://localhost:8080/",
     "height": 77
    },
    "id": "mg2IszLEFh1Y",
    "outputId": "d87ca783-8b86-4077-cdc6-eee3fdb85f87"
   },
   "outputs": [
    {
     "data": {
      "text/html": [
       "<div>\n",
       "<style scoped>\n",
       "    .dataframe tbody tr th:only-of-type {\n",
       "        vertical-align: middle;\n",
       "    }\n",
       "\n",
       "    .dataframe tbody tr th {\n",
       "        vertical-align: top;\n",
       "    }\n",
       "\n",
       "    .dataframe thead th {\n",
       "        text-align: right;\n",
       "    }\n",
       "</style>\n",
       "<table border=\"1\" class=\"dataframe\">\n",
       "  <thead>\n",
       "    <tr style=\"text-align: right;\">\n",
       "      <th></th>\n",
       "      <th>Country</th>\n",
       "      <th>Year</th>\n",
       "      <th>Causes</th>\n",
       "      <th>Both sexes_recent</th>\n",
       "      <th>Both sexes_min</th>\n",
       "      <th>Both sexes_max</th>\n",
       "      <th>Male_recent</th>\n",
       "      <th>Male_min</th>\n",
       "      <th>Male_max</th>\n",
       "      <th>Female_recent</th>\n",
       "      <th>Female_min</th>\n",
       "      <th>Female_max</th>\n",
       "    </tr>\n",
       "  </thead>\n",
       "  <tbody>\n",
       "    <tr>\n",
       "      <th>2722</th>\n",
       "      <td>China</td>\n",
       "      <td>2019</td>\n",
       "      <td>Cardiovascular diseases</td>\n",
       "      <td>4306536</td>\n",
       "      <td>3385792</td>\n",
       "      <td>5228328</td>\n",
       "      <td>2429441</td>\n",
       "      <td>1922224</td>\n",
       "      <td>2945644</td>\n",
       "      <td>1877096</td>\n",
       "      <td>1463568</td>\n",
       "      <td>2282684</td>\n",
       "    </tr>\n",
       "  </tbody>\n",
       "</table>\n",
       "</div>"
      ],
      "text/plain": [
       "     Country  Year                   Causes  Both sexes_recent  \\\n",
       "2722   China  2019  Cardiovascular diseases            4306536   \n",
       "\n",
       "      Both sexes_min  Both sexes_max  Male_recent  Male_min  Male_max  \\\n",
       "2722         3385792         5228328      2429441   1922224   2945644   \n",
       "\n",
       "      Female_recent  Female_min  Female_max  \n",
       "2722        1877096     1463568     2282684  "
      ]
     },
     "execution_count": 24,
     "metadata": {},
     "output_type": "execute_result"
    }
   ],
   "source": [
    "df_rearanged[df_rearanged[\"Both sexes_recent\"] == df_rearanged[\"Both sexes_recent\"].max() ]"
   ]
  },
  {
   "cell_type": "code",
   "execution_count": 25,
   "metadata": {
    "colab": {
     "base_uri": "https://localhost:8080/",
     "height": 77
    },
    "id": "XVlxszNSc4Ek",
    "outputId": "0f32301d-6c80-4c3e-b245-76b15bef936e"
   },
   "outputs": [
    {
     "data": {
      "text/html": [
       "<div>\n",
       "<style scoped>\n",
       "    .dataframe tbody tr th:only-of-type {\n",
       "        vertical-align: middle;\n",
       "    }\n",
       "\n",
       "    .dataframe tbody tr th {\n",
       "        vertical-align: top;\n",
       "    }\n",
       "\n",
       "    .dataframe thead th {\n",
       "        text-align: right;\n",
       "    }\n",
       "</style>\n",
       "<table border=\"1\" class=\"dataframe\">\n",
       "  <thead>\n",
       "    <tr style=\"text-align: right;\">\n",
       "      <th></th>\n",
       "      <th>Country</th>\n",
       "      <th>Year</th>\n",
       "      <th>Causes</th>\n",
       "      <th>Both sexes_recent</th>\n",
       "      <th>Both sexes_min</th>\n",
       "      <th>Both sexes_max</th>\n",
       "      <th>Male_recent</th>\n",
       "      <th>Male_min</th>\n",
       "      <th>Male_max</th>\n",
       "      <th>Female_recent</th>\n",
       "      <th>Female_min</th>\n",
       "      <th>Female_max</th>\n",
       "    </tr>\n",
       "  </thead>\n",
       "  <tbody>\n",
       "    <tr>\n",
       "      <th>387</th>\n",
       "      <td>Antigua and Barbuda</td>\n",
       "      <td>2003</td>\n",
       "      <td>Chronic respiratory diseases</td>\n",
       "      <td>13</td>\n",
       "      <td>9</td>\n",
       "      <td>18</td>\n",
       "      <td>8</td>\n",
       "      <td>6</td>\n",
       "      <td>11</td>\n",
       "      <td>5</td>\n",
       "      <td>3</td>\n",
       "      <td>6</td>\n",
       "    </tr>\n",
       "  </tbody>\n",
       "</table>\n",
       "</div>"
      ],
      "text/plain": [
       "                 Country  Year                        Causes  \\\n",
       "387  Antigua and Barbuda  2003  Chronic respiratory diseases   \n",
       "\n",
       "     Both sexes_recent  Both sexes_min  Both sexes_max  Male_recent  Male_min  \\\n",
       "387                 13               9              18            8         6   \n",
       "\n",
       "     Male_max  Female_recent  Female_min  Female_max  \n",
       "387        11              5           3           6  "
      ]
     },
     "execution_count": 25,
     "metadata": {},
     "output_type": "execute_result"
    }
   ],
   "source": [
    "df_rearanged[df_rearanged[\"Both sexes_recent\"] == df_rearanged[\"Both sexes_recent\"].min() ]"
   ]
  },
  {
   "cell_type": "markdown",
   "metadata": {
    "id": "UXYMxibY9-n2"
   },
   "source": [
    "## PIVOT TABLE\n",
    "\n",
    "* We are looking for how the Diabetes mellitus\tavarege rate changed 2000 to 2019."
   ]
  },
  {
   "cell_type": "code",
   "execution_count": 26,
   "metadata": {
    "colab": {
     "base_uri": "https://localhost:8080/",
     "height": 16
    },
    "id": "huxDPXKFw7xA",
    "outputId": "0717fc38-74f4-4d02-8d6f-3e656e8f2f17"
   },
   "outputs": [
    {
     "data": {
      "application/javascript": [
       "\n",
       "        if (window._pyforest_update_imports_cell) { window._pyforest_update_imports_cell('import pandas as pd'); }\n",
       "    "
      ],
      "text/plain": [
       "<IPython.core.display.Javascript object>"
      ]
     },
     "metadata": {},
     "output_type": "display_data"
    }
   ],
   "source": [
    "df_rearanged_pivot = pd.pivot_table(df_rearanged,values= ['Both sexes_recent', 'Both sexes_min', 'Both sexes_max', 'Male_recent',\n",
    "       'Male_min', 'Male_max', 'Female_recent', 'Female_min', 'Female_max'], index=['Country', 'Year', 'Causes'])"
   ]
  },
  {
   "cell_type": "code",
   "execution_count": 27,
   "metadata": {
    "colab": {
     "base_uri": "https://localhost:8080/",
     "height": 436
    },
    "id": "4PPLFAD9vAkS",
    "outputId": "412136cb-9747-401a-ec5e-a377eb2c6860"
   },
   "outputs": [
    {
     "data": {
      "text/html": [
       "<div>\n",
       "<style scoped>\n",
       "    .dataframe tbody tr th:only-of-type {\n",
       "        vertical-align: middle;\n",
       "    }\n",
       "\n",
       "    .dataframe tbody tr th {\n",
       "        vertical-align: top;\n",
       "    }\n",
       "\n",
       "    .dataframe thead th {\n",
       "        text-align: right;\n",
       "    }\n",
       "</style>\n",
       "<table border=\"1\" class=\"dataframe\">\n",
       "  <thead>\n",
       "    <tr style=\"text-align: right;\">\n",
       "      <th></th>\n",
       "      <th></th>\n",
       "      <th></th>\n",
       "      <th>Both sexes_max</th>\n",
       "      <th>Both sexes_min</th>\n",
       "      <th>Both sexes_recent</th>\n",
       "      <th>Female_max</th>\n",
       "      <th>Female_min</th>\n",
       "      <th>Female_recent</th>\n",
       "      <th>Male_max</th>\n",
       "      <th>Male_min</th>\n",
       "      <th>Male_recent</th>\n",
       "    </tr>\n",
       "    <tr>\n",
       "      <th>Country</th>\n",
       "      <th>Year</th>\n",
       "      <th>Causes</th>\n",
       "      <th></th>\n",
       "      <th></th>\n",
       "      <th></th>\n",
       "      <th></th>\n",
       "      <th></th>\n",
       "      <th></th>\n",
       "      <th></th>\n",
       "      <th></th>\n",
       "      <th></th>\n",
       "    </tr>\n",
       "  </thead>\n",
       "  <tbody>\n",
       "    <tr>\n",
       "      <th rowspan=\"5\" valign=\"top\">Afghanistan</th>\n",
       "      <th rowspan=\"4\" valign=\"top\">2000</th>\n",
       "      <th>Cardiovascular diseases</th>\n",
       "      <td>70123</td>\n",
       "      <td>25975</td>\n",
       "      <td>44706</td>\n",
       "      <td>34435</td>\n",
       "      <td>11921</td>\n",
       "      <td>21492</td>\n",
       "      <td>35688</td>\n",
       "      <td>14054</td>\n",
       "      <td>23214</td>\n",
       "    </tr>\n",
       "    <tr>\n",
       "      <th>Chronic respiratory diseases</th>\n",
       "      <td>11226</td>\n",
       "      <td>2398</td>\n",
       "      <td>6088</td>\n",
       "      <td>5486</td>\n",
       "      <td>1055</td>\n",
       "      <td>2914</td>\n",
       "      <td>5740</td>\n",
       "      <td>1343</td>\n",
       "      <td>3174</td>\n",
       "    </tr>\n",
       "    <tr>\n",
       "      <th>Diabetes mellitus</th>\n",
       "      <td>6103</td>\n",
       "      <td>1526</td>\n",
       "      <td>3218</td>\n",
       "      <td>3710</td>\n",
       "      <td>877</td>\n",
       "      <td>1936</td>\n",
       "      <td>2392</td>\n",
       "      <td>649</td>\n",
       "      <td>1282</td>\n",
       "    </tr>\n",
       "    <tr>\n",
       "      <th>Malignant neoplasms</th>\n",
       "      <td>16134</td>\n",
       "      <td>3751</td>\n",
       "      <td>8378</td>\n",
       "      <td>7918</td>\n",
       "      <td>1792</td>\n",
       "      <td>4075</td>\n",
       "      <td>8216</td>\n",
       "      <td>1959</td>\n",
       "      <td>4304</td>\n",
       "    </tr>\n",
       "    <tr>\n",
       "      <th>2001</th>\n",
       "      <th>Cardiovascular diseases</th>\n",
       "      <td>73446</td>\n",
       "      <td>27138</td>\n",
       "      <td>46859</td>\n",
       "      <td>36267</td>\n",
       "      <td>12531</td>\n",
       "      <td>22630</td>\n",
       "      <td>37179</td>\n",
       "      <td>14607</td>\n",
       "      <td>24229</td>\n",
       "    </tr>\n",
       "    <tr>\n",
       "      <th>...</th>\n",
       "      <th>...</th>\n",
       "      <th>...</th>\n",
       "      <td>...</td>\n",
       "      <td>...</td>\n",
       "      <td>...</td>\n",
       "      <td>...</td>\n",
       "      <td>...</td>\n",
       "      <td>...</td>\n",
       "      <td>...</td>\n",
       "      <td>...</td>\n",
       "      <td>...</td>\n",
       "    </tr>\n",
       "    <tr>\n",
       "      <th rowspan=\"5\" valign=\"top\">Zimbabwe</th>\n",
       "      <th>2018</th>\n",
       "      <th>Malignant neoplasms</th>\n",
       "      <td>16974</td>\n",
       "      <td>6208</td>\n",
       "      <td>10650</td>\n",
       "      <td>11038</td>\n",
       "      <td>3934</td>\n",
       "      <td>6887</td>\n",
       "      <td>5936</td>\n",
       "      <td>2274</td>\n",
       "      <td>3763</td>\n",
       "    </tr>\n",
       "    <tr>\n",
       "      <th rowspan=\"4\" valign=\"top\">2019</th>\n",
       "      <th>Cardiovascular diseases</th>\n",
       "      <td>27148</td>\n",
       "      <td>10438</td>\n",
       "      <td>17335</td>\n",
       "      <td>15524</td>\n",
       "      <td>6031</td>\n",
       "      <td>10035</td>\n",
       "      <td>11625</td>\n",
       "      <td>4407</td>\n",
       "      <td>7300</td>\n",
       "    </tr>\n",
       "    <tr>\n",
       "      <th>Chronic respiratory diseases</th>\n",
       "      <td>4904</td>\n",
       "      <td>1287</td>\n",
       "      <td>2807</td>\n",
       "      <td>2585</td>\n",
       "      <td>508</td>\n",
       "      <td>1381</td>\n",
       "      <td>2319</td>\n",
       "      <td>780</td>\n",
       "      <td>1426</td>\n",
       "    </tr>\n",
       "    <tr>\n",
       "      <th>Diabetes mellitus</th>\n",
       "      <td>6314</td>\n",
       "      <td>2305</td>\n",
       "      <td>3934</td>\n",
       "      <td>3888</td>\n",
       "      <td>1423</td>\n",
       "      <td>2404</td>\n",
       "      <td>2426</td>\n",
       "      <td>882</td>\n",
       "      <td>1530</td>\n",
       "    </tr>\n",
       "    <tr>\n",
       "      <th>Malignant neoplasms</th>\n",
       "      <td>17377</td>\n",
       "      <td>6293</td>\n",
       "      <td>10876</td>\n",
       "      <td>11249</td>\n",
       "      <td>3966</td>\n",
       "      <td>7002</td>\n",
       "      <td>6127</td>\n",
       "      <td>2328</td>\n",
       "      <td>3875</td>\n",
       "    </tr>\n",
       "  </tbody>\n",
       "</table>\n",
       "<p>14640 rows × 9 columns</p>\n",
       "</div>"
      ],
      "text/plain": [
       "                                               Both sexes_max  Both sexes_min  \\\n",
       "Country     Year Causes                                                         \n",
       "Afghanistan 2000 Cardiovascular diseases                70123           25975   \n",
       "                 Chronic respiratory diseases           11226            2398   \n",
       "                 Diabetes mellitus                       6103            1526   \n",
       "                 Malignant neoplasms                    16134            3751   \n",
       "            2001 Cardiovascular diseases                73446           27138   \n",
       "...                                                       ...             ...   \n",
       "Zimbabwe    2018 Malignant neoplasms                    16974            6208   \n",
       "            2019 Cardiovascular diseases                27148           10438   \n",
       "                 Chronic respiratory diseases            4904            1287   \n",
       "                 Diabetes mellitus                       6314            2305   \n",
       "                 Malignant neoplasms                    17377            6293   \n",
       "\n",
       "                                               Both sexes_recent  Female_max  \\\n",
       "Country     Year Causes                                                        \n",
       "Afghanistan 2000 Cardiovascular diseases                   44706       34435   \n",
       "                 Chronic respiratory diseases               6088        5486   \n",
       "                 Diabetes mellitus                          3218        3710   \n",
       "                 Malignant neoplasms                        8378        7918   \n",
       "            2001 Cardiovascular diseases                   46859       36267   \n",
       "...                                                          ...         ...   \n",
       "Zimbabwe    2018 Malignant neoplasms                       10650       11038   \n",
       "            2019 Cardiovascular diseases                   17335       15524   \n",
       "                 Chronic respiratory diseases               2807        2585   \n",
       "                 Diabetes mellitus                          3934        3888   \n",
       "                 Malignant neoplasms                       10876       11249   \n",
       "\n",
       "                                               Female_min  Female_recent  \\\n",
       "Country     Year Causes                                                    \n",
       "Afghanistan 2000 Cardiovascular diseases            11921          21492   \n",
       "                 Chronic respiratory diseases        1055           2914   \n",
       "                 Diabetes mellitus                    877           1936   \n",
       "                 Malignant neoplasms                 1792           4075   \n",
       "            2001 Cardiovascular diseases            12531          22630   \n",
       "...                                                   ...            ...   \n",
       "Zimbabwe    2018 Malignant neoplasms                 3934           6887   \n",
       "            2019 Cardiovascular diseases             6031          10035   \n",
       "                 Chronic respiratory diseases         508           1381   \n",
       "                 Diabetes mellitus                   1423           2404   \n",
       "                 Malignant neoplasms                 3966           7002   \n",
       "\n",
       "                                               Male_max  Male_min  Male_recent  \n",
       "Country     Year Causes                                                         \n",
       "Afghanistan 2000 Cardiovascular diseases          35688     14054        23214  \n",
       "                 Chronic respiratory diseases      5740      1343         3174  \n",
       "                 Diabetes mellitus                 2392       649         1282  \n",
       "                 Malignant neoplasms               8216      1959         4304  \n",
       "            2001 Cardiovascular diseases          37179     14607        24229  \n",
       "...                                                 ...       ...          ...  \n",
       "Zimbabwe    2018 Malignant neoplasms               5936      2274         3763  \n",
       "            2019 Cardiovascular diseases          11625      4407         7300  \n",
       "                 Chronic respiratory diseases      2319       780         1426  \n",
       "                 Diabetes mellitus                 2426       882         1530  \n",
       "                 Malignant neoplasms               6127      2328         3875  \n",
       "\n",
       "[14640 rows x 9 columns]"
      ]
     },
     "execution_count": 27,
     "metadata": {},
     "output_type": "execute_result"
    }
   ],
   "source": [
    "df_rearanged_pivot"
   ]
  },
  {
   "cell_type": "code",
   "execution_count": 28,
   "metadata": {
    "colab": {
     "base_uri": "https://localhost:8080/"
    },
    "id": "_elZJmCn3Tiv",
    "outputId": "38d01567-d8df-4943-f938-aed6a7aed5b8"
   },
   "outputs": [
    {
     "data": {
      "text/plain": [
       "array(['Malignant neoplasms', 'Diabetes mellitus',\n",
       "       'Cardiovascular diseases', 'Chronic respiratory diseases'],\n",
       "      dtype=object)"
      ]
     },
     "execution_count": 28,
     "metadata": {},
     "output_type": "execute_result"
    }
   ],
   "source": [
    "df.Causes.unique()"
   ]
  },
  {
   "cell_type": "code",
   "execution_count": 29,
   "metadata": {
    "colab": {
     "base_uri": "https://localhost:8080/",
     "height": 436
    },
    "id": "FEGLxlw3AKwy",
    "outputId": "81eaf3a4-3dd4-4fd3-84b3-867b6232303b"
   },
   "outputs": [
    {
     "data": {
      "text/html": [
       "<div>\n",
       "<style scoped>\n",
       "    .dataframe tbody tr th:only-of-type {\n",
       "        vertical-align: middle;\n",
       "    }\n",
       "\n",
       "    .dataframe tbody tr th {\n",
       "        vertical-align: top;\n",
       "    }\n",
       "\n",
       "    .dataframe thead th {\n",
       "        text-align: right;\n",
       "    }\n",
       "</style>\n",
       "<table border=\"1\" class=\"dataframe\">\n",
       "  <thead>\n",
       "    <tr style=\"text-align: right;\">\n",
       "      <th></th>\n",
       "      <th></th>\n",
       "      <th></th>\n",
       "      <th>Both sexes_max</th>\n",
       "      <th>Both sexes_min</th>\n",
       "      <th>Both sexes_recent</th>\n",
       "      <th>Female_max</th>\n",
       "      <th>Female_min</th>\n",
       "      <th>Female_recent</th>\n",
       "      <th>Male_max</th>\n",
       "      <th>Male_min</th>\n",
       "      <th>Male_recent</th>\n",
       "    </tr>\n",
       "    <tr>\n",
       "      <th>Country</th>\n",
       "      <th>Year</th>\n",
       "      <th>Causes</th>\n",
       "      <th></th>\n",
       "      <th></th>\n",
       "      <th></th>\n",
       "      <th></th>\n",
       "      <th></th>\n",
       "      <th></th>\n",
       "      <th></th>\n",
       "      <th></th>\n",
       "      <th></th>\n",
       "    </tr>\n",
       "  </thead>\n",
       "  <tbody>\n",
       "    <tr>\n",
       "      <th rowspan=\"5\" valign=\"top\">Afghanistan</th>\n",
       "      <th rowspan=\"4\" valign=\"top\">2000</th>\n",
       "      <th>Cardiovascular diseases</th>\n",
       "      <td>70123</td>\n",
       "      <td>25975</td>\n",
       "      <td>44706</td>\n",
       "      <td>34435</td>\n",
       "      <td>11921</td>\n",
       "      <td>21492</td>\n",
       "      <td>35688</td>\n",
       "      <td>14054</td>\n",
       "      <td>23214</td>\n",
       "    </tr>\n",
       "    <tr>\n",
       "      <th>Chronic respiratory diseases</th>\n",
       "      <td>11226</td>\n",
       "      <td>2398</td>\n",
       "      <td>6088</td>\n",
       "      <td>5486</td>\n",
       "      <td>1055</td>\n",
       "      <td>2914</td>\n",
       "      <td>5740</td>\n",
       "      <td>1343</td>\n",
       "      <td>3174</td>\n",
       "    </tr>\n",
       "    <tr>\n",
       "      <th>Diabetes mellitus</th>\n",
       "      <td>6103</td>\n",
       "      <td>1526</td>\n",
       "      <td>3218</td>\n",
       "      <td>3710</td>\n",
       "      <td>877</td>\n",
       "      <td>1936</td>\n",
       "      <td>2392</td>\n",
       "      <td>649</td>\n",
       "      <td>1282</td>\n",
       "    </tr>\n",
       "    <tr>\n",
       "      <th>Malignant neoplasms</th>\n",
       "      <td>16134</td>\n",
       "      <td>3751</td>\n",
       "      <td>8378</td>\n",
       "      <td>7918</td>\n",
       "      <td>1792</td>\n",
       "      <td>4075</td>\n",
       "      <td>8216</td>\n",
       "      <td>1959</td>\n",
       "      <td>4304</td>\n",
       "    </tr>\n",
       "    <tr>\n",
       "      <th>2001</th>\n",
       "      <th>Cardiovascular diseases</th>\n",
       "      <td>73446</td>\n",
       "      <td>27138</td>\n",
       "      <td>46859</td>\n",
       "      <td>36267</td>\n",
       "      <td>12531</td>\n",
       "      <td>22630</td>\n",
       "      <td>37179</td>\n",
       "      <td>14607</td>\n",
       "      <td>24229</td>\n",
       "    </tr>\n",
       "    <tr>\n",
       "      <th>...</th>\n",
       "      <th>...</th>\n",
       "      <th>...</th>\n",
       "      <td>...</td>\n",
       "      <td>...</td>\n",
       "      <td>...</td>\n",
       "      <td>...</td>\n",
       "      <td>...</td>\n",
       "      <td>...</td>\n",
       "      <td>...</td>\n",
       "      <td>...</td>\n",
       "      <td>...</td>\n",
       "    </tr>\n",
       "    <tr>\n",
       "      <th rowspan=\"5\" valign=\"top\">Zimbabwe</th>\n",
       "      <th>2018</th>\n",
       "      <th>Malignant neoplasms</th>\n",
       "      <td>16974</td>\n",
       "      <td>6208</td>\n",
       "      <td>10650</td>\n",
       "      <td>11038</td>\n",
       "      <td>3934</td>\n",
       "      <td>6887</td>\n",
       "      <td>5936</td>\n",
       "      <td>2274</td>\n",
       "      <td>3763</td>\n",
       "    </tr>\n",
       "    <tr>\n",
       "      <th rowspan=\"4\" valign=\"top\">2019</th>\n",
       "      <th>Cardiovascular diseases</th>\n",
       "      <td>27148</td>\n",
       "      <td>10438</td>\n",
       "      <td>17335</td>\n",
       "      <td>15524</td>\n",
       "      <td>6031</td>\n",
       "      <td>10035</td>\n",
       "      <td>11625</td>\n",
       "      <td>4407</td>\n",
       "      <td>7300</td>\n",
       "    </tr>\n",
       "    <tr>\n",
       "      <th>Chronic respiratory diseases</th>\n",
       "      <td>4904</td>\n",
       "      <td>1287</td>\n",
       "      <td>2807</td>\n",
       "      <td>2585</td>\n",
       "      <td>508</td>\n",
       "      <td>1381</td>\n",
       "      <td>2319</td>\n",
       "      <td>780</td>\n",
       "      <td>1426</td>\n",
       "    </tr>\n",
       "    <tr>\n",
       "      <th>Diabetes mellitus</th>\n",
       "      <td>6314</td>\n",
       "      <td>2305</td>\n",
       "      <td>3934</td>\n",
       "      <td>3888</td>\n",
       "      <td>1423</td>\n",
       "      <td>2404</td>\n",
       "      <td>2426</td>\n",
       "      <td>882</td>\n",
       "      <td>1530</td>\n",
       "    </tr>\n",
       "    <tr>\n",
       "      <th>Malignant neoplasms</th>\n",
       "      <td>17377</td>\n",
       "      <td>6293</td>\n",
       "      <td>10876</td>\n",
       "      <td>11249</td>\n",
       "      <td>3966</td>\n",
       "      <td>7002</td>\n",
       "      <td>6127</td>\n",
       "      <td>2328</td>\n",
       "      <td>3875</td>\n",
       "    </tr>\n",
       "  </tbody>\n",
       "</table>\n",
       "<p>14640 rows × 9 columns</p>\n",
       "</div>"
      ],
      "text/plain": [
       "                                               Both sexes_max  Both sexes_min  \\\n",
       "Country     Year Causes                                                         \n",
       "Afghanistan 2000 Cardiovascular diseases                70123           25975   \n",
       "                 Chronic respiratory diseases           11226            2398   \n",
       "                 Diabetes mellitus                       6103            1526   \n",
       "                 Malignant neoplasms                    16134            3751   \n",
       "            2001 Cardiovascular diseases                73446           27138   \n",
       "...                                                       ...             ...   \n",
       "Zimbabwe    2018 Malignant neoplasms                    16974            6208   \n",
       "            2019 Cardiovascular diseases                27148           10438   \n",
       "                 Chronic respiratory diseases            4904            1287   \n",
       "                 Diabetes mellitus                       6314            2305   \n",
       "                 Malignant neoplasms                    17377            6293   \n",
       "\n",
       "                                               Both sexes_recent  Female_max  \\\n",
       "Country     Year Causes                                                        \n",
       "Afghanistan 2000 Cardiovascular diseases                   44706       34435   \n",
       "                 Chronic respiratory diseases               6088        5486   \n",
       "                 Diabetes mellitus                          3218        3710   \n",
       "                 Malignant neoplasms                        8378        7918   \n",
       "            2001 Cardiovascular diseases                   46859       36267   \n",
       "...                                                          ...         ...   \n",
       "Zimbabwe    2018 Malignant neoplasms                       10650       11038   \n",
       "            2019 Cardiovascular diseases                   17335       15524   \n",
       "                 Chronic respiratory diseases               2807        2585   \n",
       "                 Diabetes mellitus                          3934        3888   \n",
       "                 Malignant neoplasms                       10876       11249   \n",
       "\n",
       "                                               Female_min  Female_recent  \\\n",
       "Country     Year Causes                                                    \n",
       "Afghanistan 2000 Cardiovascular diseases            11921          21492   \n",
       "                 Chronic respiratory diseases        1055           2914   \n",
       "                 Diabetes mellitus                    877           1936   \n",
       "                 Malignant neoplasms                 1792           4075   \n",
       "            2001 Cardiovascular diseases            12531          22630   \n",
       "...                                                   ...            ...   \n",
       "Zimbabwe    2018 Malignant neoplasms                 3934           6887   \n",
       "            2019 Cardiovascular diseases             6031          10035   \n",
       "                 Chronic respiratory diseases         508           1381   \n",
       "                 Diabetes mellitus                   1423           2404   \n",
       "                 Malignant neoplasms                 3966           7002   \n",
       "\n",
       "                                               Male_max  Male_min  Male_recent  \n",
       "Country     Year Causes                                                         \n",
       "Afghanistan 2000 Cardiovascular diseases          35688     14054        23214  \n",
       "                 Chronic respiratory diseases      5740      1343         3174  \n",
       "                 Diabetes mellitus                 2392       649         1282  \n",
       "                 Malignant neoplasms               8216      1959         4304  \n",
       "            2001 Cardiovascular diseases          37179     14607        24229  \n",
       "...                                                 ...       ...          ...  \n",
       "Zimbabwe    2018 Malignant neoplasms               5936      2274         3763  \n",
       "            2019 Cardiovascular diseases          11625      4407         7300  \n",
       "                 Chronic respiratory diseases      2319       780         1426  \n",
       "                 Diabetes mellitus                 2426       882         1530  \n",
       "                 Malignant neoplasms               6127      2328         3875  \n",
       "\n",
       "[14640 rows x 9 columns]"
      ]
     },
     "execution_count": 29,
     "metadata": {},
     "output_type": "execute_result"
    }
   ],
   "source": [
    "df_rearanged_pivot"
   ]
  },
  {
   "cell_type": "code",
   "execution_count": 30,
   "metadata": {
    "colab": {
     "base_uri": "https://localhost:8080/",
     "height": 436
    },
    "id": "2K14wJp3ylOq",
    "outputId": "76eeb841-3bac-46d8-ed68-b1a0d0dd591e"
   },
   "outputs": [
    {
     "data": {
      "text/html": [
       "<div>\n",
       "<style scoped>\n",
       "    .dataframe tbody tr th:only-of-type {\n",
       "        vertical-align: middle;\n",
       "    }\n",
       "\n",
       "    .dataframe tbody tr th {\n",
       "        vertical-align: top;\n",
       "    }\n",
       "\n",
       "    .dataframe thead th {\n",
       "        text-align: right;\n",
       "    }\n",
       "</style>\n",
       "<table border=\"1\" class=\"dataframe\">\n",
       "  <thead>\n",
       "    <tr style=\"text-align: right;\">\n",
       "      <th></th>\n",
       "      <th>Both sexes_max</th>\n",
       "      <th>Both sexes_min</th>\n",
       "      <th>Both sexes_recent</th>\n",
       "      <th>Female_max</th>\n",
       "      <th>Female_min</th>\n",
       "      <th>Female_recent</th>\n",
       "      <th>Male_max</th>\n",
       "      <th>Male_min</th>\n",
       "      <th>Male_recent</th>\n",
       "    </tr>\n",
       "    <tr>\n",
       "      <th>Country</th>\n",
       "      <th></th>\n",
       "      <th></th>\n",
       "      <th></th>\n",
       "      <th></th>\n",
       "      <th></th>\n",
       "      <th></th>\n",
       "      <th></th>\n",
       "      <th></th>\n",
       "      <th></th>\n",
       "    </tr>\n",
       "  </thead>\n",
       "  <tbody>\n",
       "    <tr>\n",
       "      <th>Afghanistan</th>\n",
       "      <td>14468</td>\n",
       "      <td>3827</td>\n",
       "      <td>8060</td>\n",
       "      <td>9817</td>\n",
       "      <td>2451</td>\n",
       "      <td>5448</td>\n",
       "      <td>4651</td>\n",
       "      <td>1377</td>\n",
       "      <td>2612</td>\n",
       "    </tr>\n",
       "    <tr>\n",
       "      <th>Albania</th>\n",
       "      <td>439</td>\n",
       "      <td>156</td>\n",
       "      <td>269</td>\n",
       "      <td>246</td>\n",
       "      <td>88</td>\n",
       "      <td>151</td>\n",
       "      <td>194</td>\n",
       "      <td>68</td>\n",
       "      <td>118</td>\n",
       "    </tr>\n",
       "    <tr>\n",
       "      <th>Algeria</th>\n",
       "      <td>11849</td>\n",
       "      <td>4065</td>\n",
       "      <td>7186</td>\n",
       "      <td>6815</td>\n",
       "      <td>2306</td>\n",
       "      <td>4071</td>\n",
       "      <td>5034</td>\n",
       "      <td>1759</td>\n",
       "      <td>3115</td>\n",
       "    </tr>\n",
       "    <tr>\n",
       "      <th>Angola</th>\n",
       "      <td>8070</td>\n",
       "      <td>3049</td>\n",
       "      <td>5143</td>\n",
       "      <td>3072</td>\n",
       "      <td>1086</td>\n",
       "      <td>1905</td>\n",
       "      <td>4998</td>\n",
       "      <td>1962</td>\n",
       "      <td>3238</td>\n",
       "    </tr>\n",
       "    <tr>\n",
       "      <th>Antigua and Barbuda</th>\n",
       "      <td>90</td>\n",
       "      <td>47</td>\n",
       "      <td>67</td>\n",
       "      <td>52</td>\n",
       "      <td>28</td>\n",
       "      <td>39</td>\n",
       "      <td>38</td>\n",
       "      <td>19</td>\n",
       "      <td>28</td>\n",
       "    </tr>\n",
       "    <tr>\n",
       "      <th>...</th>\n",
       "      <td>...</td>\n",
       "      <td>...</td>\n",
       "      <td>...</td>\n",
       "      <td>...</td>\n",
       "      <td>...</td>\n",
       "      <td>...</td>\n",
       "      <td>...</td>\n",
       "      <td>...</td>\n",
       "      <td>...</td>\n",
       "    </tr>\n",
       "    <tr>\n",
       "      <th>Venezuela (Bolivarian Republic of)</th>\n",
       "      <td>21794</td>\n",
       "      <td>9691</td>\n",
       "      <td>14969</td>\n",
       "      <td>11244</td>\n",
       "      <td>5035</td>\n",
       "      <td>7745</td>\n",
       "      <td>10550</td>\n",
       "      <td>4656</td>\n",
       "      <td>7224</td>\n",
       "    </tr>\n",
       "    <tr>\n",
       "      <th>Viet Nam</th>\n",
       "      <td>69161</td>\n",
       "      <td>27215</td>\n",
       "      <td>45193</td>\n",
       "      <td>42918</td>\n",
       "      <td>16745</td>\n",
       "      <td>28107</td>\n",
       "      <td>26244</td>\n",
       "      <td>10470</td>\n",
       "      <td>17086</td>\n",
       "    </tr>\n",
       "    <tr>\n",
       "      <th>Yemen</th>\n",
       "      <td>4601</td>\n",
       "      <td>1353</td>\n",
       "      <td>2627</td>\n",
       "      <td>2665</td>\n",
       "      <td>769</td>\n",
       "      <td>1512</td>\n",
       "      <td>1935</td>\n",
       "      <td>584</td>\n",
       "      <td>1114</td>\n",
       "    </tr>\n",
       "    <tr>\n",
       "      <th>Zambia</th>\n",
       "      <td>4586</td>\n",
       "      <td>1750</td>\n",
       "      <td>2935</td>\n",
       "      <td>1940</td>\n",
       "      <td>728</td>\n",
       "      <td>1232</td>\n",
       "      <td>2646</td>\n",
       "      <td>1021</td>\n",
       "      <td>1702</td>\n",
       "    </tr>\n",
       "    <tr>\n",
       "      <th>Zimbabwe</th>\n",
       "      <td>6314</td>\n",
       "      <td>2305</td>\n",
       "      <td>3934</td>\n",
       "      <td>3888</td>\n",
       "      <td>1423</td>\n",
       "      <td>2404</td>\n",
       "      <td>2426</td>\n",
       "      <td>882</td>\n",
       "      <td>1530</td>\n",
       "    </tr>\n",
       "  </tbody>\n",
       "</table>\n",
       "<p>183 rows × 9 columns</p>\n",
       "</div>"
      ],
      "text/plain": [
       "                                    Both sexes_max  Both sexes_min  \\\n",
       "Country                                                              \n",
       "Afghanistan                                  14468            3827   \n",
       "Albania                                        439             156   \n",
       "Algeria                                      11849            4065   \n",
       "Angola                                        8070            3049   \n",
       "Antigua and Barbuda                             90              47   \n",
       "...                                            ...             ...   \n",
       "Venezuela (Bolivarian Republic of)           21794            9691   \n",
       "Viet Nam                                     69161           27215   \n",
       "Yemen                                         4601            1353   \n",
       "Zambia                                        4586            1750   \n",
       "Zimbabwe                                      6314            2305   \n",
       "\n",
       "                                    Both sexes_recent  Female_max  Female_min  \\\n",
       "Country                                                                         \n",
       "Afghanistan                                      8060        9817        2451   \n",
       "Albania                                           269         246          88   \n",
       "Algeria                                          7186        6815        2306   \n",
       "Angola                                           5143        3072        1086   \n",
       "Antigua and Barbuda                                67          52          28   \n",
       "...                                               ...         ...         ...   \n",
       "Venezuela (Bolivarian Republic of)              14969       11244        5035   \n",
       "Viet Nam                                        45193       42918       16745   \n",
       "Yemen                                            2627        2665         769   \n",
       "Zambia                                           2935        1940         728   \n",
       "Zimbabwe                                         3934        3888        1423   \n",
       "\n",
       "                                    Female_recent  Male_max  Male_min  \\\n",
       "Country                                                                 \n",
       "Afghanistan                                  5448      4651      1377   \n",
       "Albania                                       151       194        68   \n",
       "Algeria                                      4071      5034      1759   \n",
       "Angola                                       1905      4998      1962   \n",
       "Antigua and Barbuda                            39        38        19   \n",
       "...                                           ...       ...       ...   \n",
       "Venezuela (Bolivarian Republic of)           7745     10550      4656   \n",
       "Viet Nam                                    28107     26244     10470   \n",
       "Yemen                                        1512      1935       584   \n",
       "Zambia                                       1232      2646      1021   \n",
       "Zimbabwe                                     2404      2426       882   \n",
       "\n",
       "                                    Male_recent  \n",
       "Country                                          \n",
       "Afghanistan                                2612  \n",
       "Albania                                     118  \n",
       "Algeria                                    3115  \n",
       "Angola                                     3238  \n",
       "Antigua and Barbuda                          28  \n",
       "...                                         ...  \n",
       "Venezuela (Bolivarian Republic of)         7224  \n",
       "Viet Nam                                  17086  \n",
       "Yemen                                      1114  \n",
       "Zambia                                     1702  \n",
       "Zimbabwe                                   1530  \n",
       "\n",
       "[183 rows x 9 columns]"
      ]
     },
     "execution_count": 30,
     "metadata": {},
     "output_type": "execute_result"
    }
   ],
   "source": [
    "df_rearanged_pivot.xs((2019, \"Diabetes mellitus\"), level=[1, \"Causes\"])"
   ]
  },
  {
   "cell_type": "code",
   "execution_count": 31,
   "metadata": {
    "colab": {
     "base_uri": "https://localhost:8080/",
     "height": 107
    },
    "id": "QJySWJT_zXIE",
    "outputId": "be7a46a7-755b-46bd-ee7e-e9cfb85b2bda"
   },
   "outputs": [
    {
     "data": {
      "text/html": [
       "<div>\n",
       "<style scoped>\n",
       "    .dataframe tbody tr th:only-of-type {\n",
       "        vertical-align: middle;\n",
       "    }\n",
       "\n",
       "    .dataframe tbody tr th {\n",
       "        vertical-align: top;\n",
       "    }\n",
       "\n",
       "    .dataframe thead th {\n",
       "        text-align: right;\n",
       "    }\n",
       "</style>\n",
       "<table border=\"1\" class=\"dataframe\">\n",
       "  <thead>\n",
       "    <tr style=\"text-align: right;\">\n",
       "      <th></th>\n",
       "      <th>Both sexes_max</th>\n",
       "      <th>Both sexes_min</th>\n",
       "      <th>Both sexes_recent</th>\n",
       "      <th>Female_max</th>\n",
       "      <th>Female_min</th>\n",
       "      <th>Female_recent</th>\n",
       "      <th>Male_max</th>\n",
       "      <th>Male_min</th>\n",
       "      <th>Male_recent</th>\n",
       "    </tr>\n",
       "  </thead>\n",
       "  <tbody>\n",
       "    <tr>\n",
       "      <th>median</th>\n",
       "      <td>3,612</td>\n",
       "      <td>1,423</td>\n",
       "      <td>2,363</td>\n",
       "      <td>1,941</td>\n",
       "      <td>769</td>\n",
       "      <td>1,300</td>\n",
       "      <td>1,604</td>\n",
       "      <td>661</td>\n",
       "      <td>1,078</td>\n",
       "    </tr>\n",
       "    <tr>\n",
       "      <th>mean</th>\n",
       "      <td>14,672</td>\n",
       "      <td>7,463</td>\n",
       "      <td>10,678</td>\n",
       "      <td>7,400</td>\n",
       "      <td>3,726</td>\n",
       "      <td>5,382</td>\n",
       "      <td>7,272</td>\n",
       "      <td>3,737</td>\n",
       "      <td>5,296</td>\n",
       "    </tr>\n",
       "  </tbody>\n",
       "</table>\n",
       "</div>"
      ],
      "text/plain": [
       "        Both sexes_max  Both sexes_min  Both sexes_recent  Female_max  \\\n",
       "median           3,612           1,423              2,363       1,941   \n",
       "mean            14,672           7,463             10,678       7,400   \n",
       "\n",
       "        Female_min  Female_recent  Male_max  Male_min  Male_recent  \n",
       "median         769          1,300     1,604       661        1,078  \n",
       "mean         3,726          5,382     7,272     3,737        5,296  "
      ]
     },
     "execution_count": 31,
     "metadata": {},
     "output_type": "execute_result"
    }
   ],
   "source": [
    "df_rearanged_pivot.xs((2019, \"Diabetes mellitus\"), level=[1, \"Causes\"]).agg([\"median\",\"mean\"])"
   ]
  },
  {
   "cell_type": "code",
   "execution_count": 32,
   "metadata": {
    "colab": {
     "base_uri": "https://localhost:8080/",
     "height": 107
    },
    "id": "Onvbr-2NBTuo",
    "outputId": "943b3d01-3244-4df9-df01-5f352df7500b"
   },
   "outputs": [
    {
     "data": {
      "text/html": [
       "<div>\n",
       "<style scoped>\n",
       "    .dataframe tbody tr th:only-of-type {\n",
       "        vertical-align: middle;\n",
       "    }\n",
       "\n",
       "    .dataframe tbody tr th {\n",
       "        vertical-align: top;\n",
       "    }\n",
       "\n",
       "    .dataframe thead th {\n",
       "        text-align: right;\n",
       "    }\n",
       "</style>\n",
       "<table border=\"1\" class=\"dataframe\">\n",
       "  <thead>\n",
       "    <tr style=\"text-align: right;\">\n",
       "      <th></th>\n",
       "      <th>Both sexes_max</th>\n",
       "      <th>Both sexes_min</th>\n",
       "      <th>Both sexes_recent</th>\n",
       "      <th>Female_max</th>\n",
       "      <th>Female_min</th>\n",
       "      <th>Female_recent</th>\n",
       "      <th>Male_max</th>\n",
       "      <th>Male_min</th>\n",
       "      <th>Male_recent</th>\n",
       "    </tr>\n",
       "  </thead>\n",
       "  <tbody>\n",
       "    <tr>\n",
       "      <th>median</th>\n",
       "      <td>2,033</td>\n",
       "      <td>952</td>\n",
       "      <td>1,415</td>\n",
       "      <td>1,134</td>\n",
       "      <td>521</td>\n",
       "      <td>753</td>\n",
       "      <td>917</td>\n",
       "      <td>423</td>\n",
       "      <td>636</td>\n",
       "    </tr>\n",
       "    <tr>\n",
       "      <th>mean</th>\n",
       "      <td>8,095</td>\n",
       "      <td>4,650</td>\n",
       "      <td>6,196</td>\n",
       "      <td>4,263</td>\n",
       "      <td>2,448</td>\n",
       "      <td>3,267</td>\n",
       "      <td>3,832</td>\n",
       "      <td>2,202</td>\n",
       "      <td>2,930</td>\n",
       "    </tr>\n",
       "  </tbody>\n",
       "</table>\n",
       "</div>"
      ],
      "text/plain": [
       "        Both sexes_max  Both sexes_min  Both sexes_recent  Female_max  \\\n",
       "median           2,033             952              1,415       1,134   \n",
       "mean             8,095           4,650              6,196       4,263   \n",
       "\n",
       "        Female_min  Female_recent  Male_max  Male_min  Male_recent  \n",
       "median         521            753       917       423          636  \n",
       "mean         2,448          3,267     3,832     2,202        2,930  "
      ]
     },
     "execution_count": 32,
     "metadata": {},
     "output_type": "execute_result"
    }
   ],
   "source": [
    "df_rearanged_pivot.xs((2000, \"Diabetes mellitus\"), level=[1, \"Causes\"]).agg([\"median\",\"mean\"])"
   ]
  },
  {
   "cell_type": "code",
   "execution_count": 33,
   "metadata": {
    "id": "wBDtskpQhF7U"
   },
   "outputs": [],
   "source": [
    "#fig , ax = plt.subplots(2,1,figsize=(30,5))\n",
    "#ax[0] = sns.histplot(df_rearanged_pivot.xs((2019, \"Diabetes mellitus\"), level=[1, \"Causes\"])[\"Both sexes_recent\"])\n",
    "#ax[1] = sns.histplot(df_rearanged_pivot.xs((2000, \"Diabetes mellitus\"), level=[1, \"Causes\"])[\"Both sexes_recent\"]) ///"
   ]
  },
  {
   "cell_type": "code",
   "execution_count": 34,
   "metadata": {
    "colab": {
     "base_uri": "https://localhost:8080/",
     "height": 585
    },
    "id": "26Q5ekF1BJ7t",
    "outputId": "5c112501-c7bf-4009-e2a0-0535294e9f64"
   },
   "outputs": [
    {
     "data": {
      "application/javascript": [
       "\n",
       "        if (window._pyforest_update_imports_cell) { window._pyforest_update_imports_cell('import pandas as pd\\nimport matplotlib.pyplot as plt'); }\n",
       "    "
      ],
      "text/plain": [
       "<IPython.core.display.Javascript object>"
      ]
     },
     "metadata": {},
     "output_type": "display_data"
    },
    {
     "data": {
      "text/plain": [
       "<AxesSubplot:xlabel='Country'>"
      ]
     },
     "execution_count": 34,
     "metadata": {},
     "output_type": "execute_result"
    },
    {
     "data": {
      "image/png": "[encoded data removed]",
      "text/plain": [
       "<Figure size 2160x360 with 1 Axes>"
      ]
     },
     "metadata": {
      "needs_background": "light"
     },
     "output_type": "display_data"
    }
   ],
   "source": [
    "plt.figure(figsize=(30,5))\n",
    "df_rearanged_pivot.xs((2019, \"Diabetes mellitus\"), level=[1, \"Causes\"])[\"Both sexes_recent\"].plot.bar()"
   ]
  },
  {
   "cell_type": "code",
   "execution_count": 35,
   "metadata": {
    "colab": {
     "base_uri": "https://localhost:8080/",
     "height": 585
    },
    "id": "mwyVgDVW79al",
    "outputId": "22b1e6b0-12b5-4060-ac75-40a4e2d31d0b"
   },
   "outputs": [
    {
     "data": {
      "application/javascript": [
       "\n",
       "        if (window._pyforest_update_imports_cell) { window._pyforest_update_imports_cell('import pandas as pd\\nimport matplotlib.pyplot as plt'); }\n",
       "    "
      ],
      "text/plain": [
       "<IPython.core.display.Javascript object>"
      ]
     },
     "metadata": {},
     "output_type": "display_data"
    },
    {
     "data": {
      "text/plain": [
       "<AxesSubplot:xlabel='Country'>"
      ]
     },
     "execution_count": 35,
     "metadata": {},
     "output_type": "execute_result"
    },
    {
     "data": {
      "image/png": "[encoded data removed]",
      "text/plain": [
       "<Figure size 2160x360 with 1 Axes>"
      ]
     },
     "metadata": {
      "needs_background": "light"
     },
     "output_type": "display_data"
    }
   ],
   "source": [
    "plt.figure(figsize=(30,5))\n",
    "df_rearanged_pivot.xs((2000, \"Diabetes mellitus\"), level=[1, \"Causes\"])[\"Both sexes_recent\"].plot.bar()"
   ]
  },
  {
   "cell_type": "markdown",
   "metadata": {
    "id": "Qo30E_lAtXIi"
   },
   "source": [
    "# GDP DATA"
   ]
  },
  {
   "cell_type": "code",
   "execution_count": 36,
   "metadata": {
    "colab": {
     "base_uri": "https://localhost:8080/",
     "height": 16
    },
    "id": "M_llh_-1GyEJ",
    "outputId": "e4be8707-6135-46d6-e8d4-521e69c05781"
   },
   "outputs": [
    {
     "data": {
      "application/javascript": [
       "\n",
       "        if (window._pyforest_update_imports_cell) { window._pyforest_update_imports_cell('import pandas as pd\\nimport matplotlib.pyplot as plt'); }\n",
       "    "
      ],
      "text/plain": [
       "<IPython.core.display.Javascript object>"
      ]
     },
     "metadata": {},
     "output_type": "display_data"
    }
   ],
   "source": [
    "df_gdp = pd.read_csv(\"Metadata_Country_API_NY.GDP.MKTP.KD.ZG_DS2_en_csv_v2_2055665.csv\")"
   ]
  },
  {
   "cell_type": "code",
   "execution_count": 37,
   "metadata": {
    "colab": {
     "base_uri": "https://localhost:8080/",
     "height": 406
    },
    "id": "j4mVFU8EKA0I",
    "outputId": "e4e63520-cc25-4e33-f33e-5671f9307120"
   },
   "outputs": [
    {
     "data": {
      "text/html": [
       "<div>\n",
       "<style scoped>\n",
       "    .dataframe tbody tr th:only-of-type {\n",
       "        vertical-align: middle;\n",
       "    }\n",
       "\n",
       "    .dataframe tbody tr th {\n",
       "        vertical-align: top;\n",
       "    }\n",
       "\n",
       "    .dataframe thead th {\n",
       "        text-align: right;\n",
       "    }\n",
       "</style>\n",
       "<table border=\"1\" class=\"dataframe\">\n",
       "  <thead>\n",
       "    <tr style=\"text-align: right;\">\n",
       "      <th></th>\n",
       "      <th>Country Code</th>\n",
       "      <th>Region</th>\n",
       "      <th>IncomeGroup</th>\n",
       "      <th>SpecialNotes</th>\n",
       "      <th>TableName</th>\n",
       "      <th>Unnamed: 5</th>\n",
       "    </tr>\n",
       "  </thead>\n",
       "  <tbody>\n",
       "    <tr>\n",
       "      <th>0</th>\n",
       "      <td>ABW</td>\n",
       "      <td>Latin America &amp; Caribbean</td>\n",
       "      <td>High income</td>\n",
       "      <td>NaN</td>\n",
       "      <td>Aruba</td>\n",
       "      <td>nan</td>\n",
       "    </tr>\n",
       "    <tr>\n",
       "      <th>1</th>\n",
       "      <td>AFG</td>\n",
       "      <td>South Asia</td>\n",
       "      <td>Low income</td>\n",
       "      <td>NaN</td>\n",
       "      <td>Afghanistan</td>\n",
       "      <td>nan</td>\n",
       "    </tr>\n",
       "    <tr>\n",
       "      <th>2</th>\n",
       "      <td>AGO</td>\n",
       "      <td>Sub-Saharan Africa</td>\n",
       "      <td>Lower middle income</td>\n",
       "      <td>NaN</td>\n",
       "      <td>Angola</td>\n",
       "      <td>nan</td>\n",
       "    </tr>\n",
       "    <tr>\n",
       "      <th>3</th>\n",
       "      <td>ALB</td>\n",
       "      <td>Europe &amp; Central Asia</td>\n",
       "      <td>Upper middle income</td>\n",
       "      <td>NaN</td>\n",
       "      <td>Albania</td>\n",
       "      <td>nan</td>\n",
       "    </tr>\n",
       "    <tr>\n",
       "      <th>4</th>\n",
       "      <td>AND</td>\n",
       "      <td>Europe &amp; Central Asia</td>\n",
       "      <td>High income</td>\n",
       "      <td>NaN</td>\n",
       "      <td>Andorra</td>\n",
       "      <td>nan</td>\n",
       "    </tr>\n",
       "    <tr>\n",
       "      <th>...</th>\n",
       "      <td>...</td>\n",
       "      <td>...</td>\n",
       "      <td>...</td>\n",
       "      <td>...</td>\n",
       "      <td>...</td>\n",
       "      <td>...</td>\n",
       "    </tr>\n",
       "    <tr>\n",
       "      <th>258</th>\n",
       "      <td>XKX</td>\n",
       "      <td>Europe &amp; Central Asia</td>\n",
       "      <td>Upper middle income</td>\n",
       "      <td>NaN</td>\n",
       "      <td>Kosovo</td>\n",
       "      <td>nan</td>\n",
       "    </tr>\n",
       "    <tr>\n",
       "      <th>259</th>\n",
       "      <td>YEM</td>\n",
       "      <td>Middle East &amp; North Africa</td>\n",
       "      <td>Low income</td>\n",
       "      <td>NaN</td>\n",
       "      <td>Yemen, Rep.</td>\n",
       "      <td>nan</td>\n",
       "    </tr>\n",
       "    <tr>\n",
       "      <th>260</th>\n",
       "      <td>ZAF</td>\n",
       "      <td>Sub-Saharan Africa</td>\n",
       "      <td>Upper middle income</td>\n",
       "      <td>Fiscal year end: March 31; reporting period fo...</td>\n",
       "      <td>South Africa</td>\n",
       "      <td>nan</td>\n",
       "    </tr>\n",
       "    <tr>\n",
       "      <th>261</th>\n",
       "      <td>ZMB</td>\n",
       "      <td>Sub-Saharan Africa</td>\n",
       "      <td>Lower middle income</td>\n",
       "      <td>National accounts data were rebased to reflect...</td>\n",
       "      <td>Zambia</td>\n",
       "      <td>nan</td>\n",
       "    </tr>\n",
       "    <tr>\n",
       "      <th>262</th>\n",
       "      <td>ZWE</td>\n",
       "      <td>Sub-Saharan Africa</td>\n",
       "      <td>Lower middle income</td>\n",
       "      <td>NaN</td>\n",
       "      <td>Zimbabwe</td>\n",
       "      <td>nan</td>\n",
       "    </tr>\n",
       "  </tbody>\n",
       "</table>\n",
       "<p>263 rows × 6 columns</p>\n",
       "</div>"
      ],
      "text/plain": [
       "    Country Code                      Region          IncomeGroup  \\\n",
       "0            ABW   Latin America & Caribbean          High income   \n",
       "1            AFG                  South Asia           Low income   \n",
       "2            AGO          Sub-Saharan Africa  Lower middle income   \n",
       "3            ALB       Europe & Central Asia  Upper middle income   \n",
       "4            AND       Europe & Central Asia          High income   \n",
       "..           ...                         ...                  ...   \n",
       "258          XKX       Europe & Central Asia  Upper middle income   \n",
       "259          YEM  Middle East & North Africa           Low income   \n",
       "260          ZAF          Sub-Saharan Africa  Upper middle income   \n",
       "261          ZMB          Sub-Saharan Africa  Lower middle income   \n",
       "262          ZWE          Sub-Saharan Africa  Lower middle income   \n",
       "\n",
       "                                          SpecialNotes     TableName  \\\n",
       "0                                                  NaN         Aruba   \n",
       "1                                                  NaN   Afghanistan   \n",
       "2                                                  NaN        Angola   \n",
       "3                                                  NaN       Albania   \n",
       "4                                                  NaN       Andorra   \n",
       "..                                                 ...           ...   \n",
       "258                                                NaN        Kosovo   \n",
       "259                                                NaN   Yemen, Rep.   \n",
       "260  Fiscal year end: March 31; reporting period fo...  South Africa   \n",
       "261  National accounts data were rebased to reflect...        Zambia   \n",
       "262                                                NaN      Zimbabwe   \n",
       "\n",
       "     Unnamed: 5  \n",
       "0           nan  \n",
       "1           nan  \n",
       "2           nan  \n",
       "3           nan  \n",
       "4           nan  \n",
       "..          ...  \n",
       "258         nan  \n",
       "259         nan  \n",
       "260         nan  \n",
       "261         nan  \n",
       "262         nan  \n",
       "\n",
       "[263 rows x 6 columns]"
      ]
     },
     "execution_count": 37,
     "metadata": {},
     "output_type": "execute_result"
    }
   ],
   "source": [
    "df_gdp"
   ]
  },
  {
   "cell_type": "markdown",
   "metadata": {
    "id": "W3GZjNHRivBd"
   },
   "source": [
    "## MISSING VALUES"
   ]
  },
  {
   "cell_type": "code",
   "execution_count": 38,
   "metadata": {
    "colab": {
     "base_uri": "https://localhost:8080/"
    },
    "id": "kZv_UmEjiXZY",
    "outputId": "a05c5513-a57c-44e4-f7bc-d67999885cb5"
   },
   "outputs": [
    {
     "data": {
      "text/plain": [
       "Country Code      0\n",
       "Region           46\n",
       "IncomeGroup      46\n",
       "SpecialNotes    169\n",
       "TableName         0\n",
       "Unnamed: 5      263\n",
       "dtype: int64"
      ]
     },
     "execution_count": 38,
     "metadata": {},
     "output_type": "execute_result"
    }
   ],
   "source": [
    "df_gdp.isnull().sum()"
   ]
  },
  {
   "cell_type": "code",
   "execution_count": 39,
   "metadata": {
    "colab": {
     "base_uri": "https://localhost:8080/"
    },
    "id": "M2X3Fsntr-GR",
    "outputId": "0b858d2c-8102-49c5-8035-e414ea987039"
   },
   "outputs": [
    {
     "name": "stdout",
     "output_type": "stream",
     "text": [
      "IRL    1\n",
      "EMU    1\n",
      "HND    1\n",
      "CPV    1\n",
      "CZE    1\n",
      "      ..\n",
      "OSS    1\n",
      "IDB    1\n",
      "PER    1\n",
      "XKX    1\n",
      "BIH    1\n",
      "Name: Country Code, Length: 263, dtype: int64\n",
      "*-*-*-*-*-*-*-*-*-*-*-*-*-*-*-*-*-*-*-*-\n",
      "Europe & Central Asia         58\n",
      "Sub-Saharan Africa            48\n",
      "NaN                           46\n",
      "Latin America & Caribbean     42\n",
      "East Asia & Pacific           37\n",
      "Middle East & North Africa    21\n",
      "South Asia                     8\n",
      "North America                  3\n",
      "Name: Region, dtype: int64\n",
      "*-*-*-*-*-*-*-*-*-*-*-*-*-*-*-*-*-*-*-*-\n",
      "High income            82\n",
      "Upper middle income    56\n",
      "Lower middle income    50\n",
      "NaN                    46\n",
      "Low income             29\n",
      "Name: IncomeGroup, dtype: int64\n",
      "*-*-*-*-*-*-*-*-*-*-*-*-*-*-*-*-*-*-*-*-\n",
      "NaN                                                                                                                                                                                                                                                                                                                                                                    169\n",
      "Fiscal year end: March 31; reporting period for national accounts data: CY.                                                                                                                                                                                                                                                                                              7\n",
      "Fiscal year end: June 30; reporting period for national accounts data: FY.                                                                                                                                                                                                                                                                                               6\n",
      "Fiscal year end: June 30; reporting period for national accounts data: CY.                                                                                                                                                                                                                                                                                               2\n",
      "Fiscal year ends on September 30; reporting period for national accounts data: FY.                                                                                                                                                                                                                                                                                       2\n",
      "                                                                                                                                                                                                                                                                                                                                                                      ... \n",
      "Excluding Transnistria. For 1950-94, World Bank estimates using UN World Population Prospects' growth rates of whole Moldova.                                                                                                                                                                                                                                            1\n",
      "Data before 2015 were adjusted to reflect the new denomination effective from July 1, 2016 (BYN), a decrease of 10,000 times (1 BYN = 10,000 BYR)                                                                                                                                                                                                                        1\n",
      "Sub-Saharan Africa regional aggregate (includes all income levels).                                                                                                                                                                                                                                                                                                      1\n",
      "Euro area aggregate.                                                                                                                                                                                                                                                                                                                                                     1\n",
      "A simple multiplier is used to convert the national currencies of EMU members to euros. The following irrevocable euro conversion rate was adopted by the EU Council on January 1, 1999: 1 euro = 200.482 Portuguese escudo. Please note that historical data before 1999 are not actual euros and are not comparable or suitable for aggregation across countries.      1\n",
      "Name: SpecialNotes, Length: 81, dtype: int64\n",
      "*-*-*-*-*-*-*-*-*-*-*-*-*-*-*-*-*-*-*-*-\n",
      "Cambodia               1\n",
      "Suriname               1\n",
      "Cuba                   1\n",
      "Dominica               1\n",
      "French Polynesia       1\n",
      "                      ..\n",
      "Lower middle income    1\n",
      "Bulgaria               1\n",
      "Sudan                  1\n",
      "Nauru                  1\n",
      "Bhutan                 1\n",
      "Name: TableName, Length: 263, dtype: int64\n",
      "*-*-*-*-*-*-*-*-*-*-*-*-*-*-*-*-*-*-*-*-\n",
      "nan    263\n",
      "Name: Unnamed: 5, dtype: int64\n",
      "*-*-*-*-*-*-*-*-*-*-*-*-*-*-*-*-*-*-*-*-\n"
     ]
    }
   ],
   "source": [
    "for i in df_gdp.columns:\n",
    "  print(df_gdp[i].value_counts(dropna =False))\n",
    "  print(\"*-\"*20)"
   ]
  },
  {
   "cell_type": "code",
   "execution_count": 40,
   "metadata": {
    "id": "9AfU4xbaqUQ0"
   },
   "outputs": [],
   "source": [
    "df_gdp.dropna(axis=1,how=\"all\",inplace=True)"
   ]
  },
  {
   "cell_type": "code",
   "execution_count": 41,
   "metadata": {
    "id": "bfftLhrSrB5x"
   },
   "outputs": [
    {
     "data": {
      "text/html": [
       "<div>\n",
       "<style scoped>\n",
       "    .dataframe tbody tr th:only-of-type {\n",
       "        vertical-align: middle;\n",
       "    }\n",
       "\n",
       "    .dataframe tbody tr th {\n",
       "        vertical-align: top;\n",
       "    }\n",
       "\n",
       "    .dataframe thead th {\n",
       "        text-align: right;\n",
       "    }\n",
       "</style>\n",
       "<table border=\"1\" class=\"dataframe\">\n",
       "  <thead>\n",
       "    <tr style=\"text-align: right;\">\n",
       "      <th></th>\n",
       "      <th>Country Code</th>\n",
       "      <th>Region</th>\n",
       "      <th>IncomeGroup</th>\n",
       "      <th>SpecialNotes</th>\n",
       "      <th>TableName</th>\n",
       "    </tr>\n",
       "  </thead>\n",
       "  <tbody>\n",
       "    <tr>\n",
       "      <th>0</th>\n",
       "      <td>ABW</td>\n",
       "      <td>Latin America &amp; Caribbean</td>\n",
       "      <td>High income</td>\n",
       "      <td>NaN</td>\n",
       "      <td>Aruba</td>\n",
       "    </tr>\n",
       "    <tr>\n",
       "      <th>1</th>\n",
       "      <td>AFG</td>\n",
       "      <td>South Asia</td>\n",
       "      <td>Low income</td>\n",
       "      <td>NaN</td>\n",
       "      <td>Afghanistan</td>\n",
       "    </tr>\n",
       "    <tr>\n",
       "      <th>2</th>\n",
       "      <td>AGO</td>\n",
       "      <td>Sub-Saharan Africa</td>\n",
       "      <td>Lower middle income</td>\n",
       "      <td>NaN</td>\n",
       "      <td>Angola</td>\n",
       "    </tr>\n",
       "    <tr>\n",
       "      <th>3</th>\n",
       "      <td>ALB</td>\n",
       "      <td>Europe &amp; Central Asia</td>\n",
       "      <td>Upper middle income</td>\n",
       "      <td>NaN</td>\n",
       "      <td>Albania</td>\n",
       "    </tr>\n",
       "    <tr>\n",
       "      <th>4</th>\n",
       "      <td>AND</td>\n",
       "      <td>Europe &amp; Central Asia</td>\n",
       "      <td>High income</td>\n",
       "      <td>NaN</td>\n",
       "      <td>Andorra</td>\n",
       "    </tr>\n",
       "    <tr>\n",
       "      <th>...</th>\n",
       "      <td>...</td>\n",
       "      <td>...</td>\n",
       "      <td>...</td>\n",
       "      <td>...</td>\n",
       "      <td>...</td>\n",
       "    </tr>\n",
       "    <tr>\n",
       "      <th>258</th>\n",
       "      <td>XKX</td>\n",
       "      <td>Europe &amp; Central Asia</td>\n",
       "      <td>Upper middle income</td>\n",
       "      <td>NaN</td>\n",
       "      <td>Kosovo</td>\n",
       "    </tr>\n",
       "    <tr>\n",
       "      <th>259</th>\n",
       "      <td>YEM</td>\n",
       "      <td>Middle East &amp; North Africa</td>\n",
       "      <td>Low income</td>\n",
       "      <td>NaN</td>\n",
       "      <td>Yemen, Rep.</td>\n",
       "    </tr>\n",
       "    <tr>\n",
       "      <th>260</th>\n",
       "      <td>ZAF</td>\n",
       "      <td>Sub-Saharan Africa</td>\n",
       "      <td>Upper middle income</td>\n",
       "      <td>Fiscal year end: March 31; reporting period fo...</td>\n",
       "      <td>South Africa</td>\n",
       "    </tr>\n",
       "    <tr>\n",
       "      <th>261</th>\n",
       "      <td>ZMB</td>\n",
       "      <td>Sub-Saharan Africa</td>\n",
       "      <td>Lower middle income</td>\n",
       "      <td>National accounts data were rebased to reflect...</td>\n",
       "      <td>Zambia</td>\n",
       "    </tr>\n",
       "    <tr>\n",
       "      <th>262</th>\n",
       "      <td>ZWE</td>\n",
       "      <td>Sub-Saharan Africa</td>\n",
       "      <td>Lower middle income</td>\n",
       "      <td>NaN</td>\n",
       "      <td>Zimbabwe</td>\n",
       "    </tr>\n",
       "  </tbody>\n",
       "</table>\n",
       "<p>263 rows × 5 columns</p>\n",
       "</div>"
      ],
      "text/plain": [
       "    Country Code                      Region          IncomeGroup  \\\n",
       "0            ABW   Latin America & Caribbean          High income   \n",
       "1            AFG                  South Asia           Low income   \n",
       "2            AGO          Sub-Saharan Africa  Lower middle income   \n",
       "3            ALB       Europe & Central Asia  Upper middle income   \n",
       "4            AND       Europe & Central Asia          High income   \n",
       "..           ...                         ...                  ...   \n",
       "258          XKX       Europe & Central Asia  Upper middle income   \n",
       "259          YEM  Middle East & North Africa           Low income   \n",
       "260          ZAF          Sub-Saharan Africa  Upper middle income   \n",
       "261          ZMB          Sub-Saharan Africa  Lower middle income   \n",
       "262          ZWE          Sub-Saharan Africa  Lower middle income   \n",
       "\n",
       "                                          SpecialNotes     TableName  \n",
       "0                                                  NaN         Aruba  \n",
       "1                                                  NaN   Afghanistan  \n",
       "2                                                  NaN        Angola  \n",
       "3                                                  NaN       Albania  \n",
       "4                                                  NaN       Andorra  \n",
       "..                                                 ...           ...  \n",
       "258                                                NaN        Kosovo  \n",
       "259                                                NaN   Yemen, Rep.  \n",
       "260  Fiscal year end: March 31; reporting period fo...  South Africa  \n",
       "261  National accounts data were rebased to reflect...        Zambia  \n",
       "262                                                NaN      Zimbabwe  \n",
       "\n",
       "[263 rows x 5 columns]"
      ]
     },
     "execution_count": 41,
     "metadata": {},
     "output_type": "execute_result"
    }
   ],
   "source": [
    "df_gdp.dropna(axis=0,how=\"all\",)#inplace=True)"
   ]
  },
  {
   "cell_type": "code",
   "execution_count": 42,
   "metadata": {
    "colab": {
     "base_uri": "https://localhost:8080/",
     "height": 406
    },
    "id": "eII_kW1vKd_i",
    "outputId": "461a5f8d-77af-479c-bad1-e63349d89501"
   },
   "outputs": [
    {
     "data": {
      "text/html": [
       "<div>\n",
       "<style scoped>\n",
       "    .dataframe tbody tr th:only-of-type {\n",
       "        vertical-align: middle;\n",
       "    }\n",
       "\n",
       "    .dataframe tbody tr th {\n",
       "        vertical-align: top;\n",
       "    }\n",
       "\n",
       "    .dataframe thead th {\n",
       "        text-align: right;\n",
       "    }\n",
       "</style>\n",
       "<table border=\"1\" class=\"dataframe\">\n",
       "  <thead>\n",
       "    <tr style=\"text-align: right;\">\n",
       "      <th></th>\n",
       "      <th>Country Code</th>\n",
       "      <th>Region</th>\n",
       "      <th>IncomeGroup</th>\n",
       "      <th>TableName</th>\n",
       "    </tr>\n",
       "  </thead>\n",
       "  <tbody>\n",
       "    <tr>\n",
       "      <th>0</th>\n",
       "      <td>ABW</td>\n",
       "      <td>Latin America &amp; Caribbean</td>\n",
       "      <td>High income</td>\n",
       "      <td>Aruba</td>\n",
       "    </tr>\n",
       "    <tr>\n",
       "      <th>1</th>\n",
       "      <td>AFG</td>\n",
       "      <td>South Asia</td>\n",
       "      <td>Low income</td>\n",
       "      <td>Afghanistan</td>\n",
       "    </tr>\n",
       "    <tr>\n",
       "      <th>2</th>\n",
       "      <td>AGO</td>\n",
       "      <td>Sub-Saharan Africa</td>\n",
       "      <td>Lower middle income</td>\n",
       "      <td>Angola</td>\n",
       "    </tr>\n",
       "    <tr>\n",
       "      <th>3</th>\n",
       "      <td>ALB</td>\n",
       "      <td>Europe &amp; Central Asia</td>\n",
       "      <td>Upper middle income</td>\n",
       "      <td>Albania</td>\n",
       "    </tr>\n",
       "    <tr>\n",
       "      <th>4</th>\n",
       "      <td>AND</td>\n",
       "      <td>Europe &amp; Central Asia</td>\n",
       "      <td>High income</td>\n",
       "      <td>Andorra</td>\n",
       "    </tr>\n",
       "    <tr>\n",
       "      <th>...</th>\n",
       "      <td>...</td>\n",
       "      <td>...</td>\n",
       "      <td>...</td>\n",
       "      <td>...</td>\n",
       "    </tr>\n",
       "    <tr>\n",
       "      <th>258</th>\n",
       "      <td>XKX</td>\n",
       "      <td>Europe &amp; Central Asia</td>\n",
       "      <td>Upper middle income</td>\n",
       "      <td>Kosovo</td>\n",
       "    </tr>\n",
       "    <tr>\n",
       "      <th>259</th>\n",
       "      <td>YEM</td>\n",
       "      <td>Middle East &amp; North Africa</td>\n",
       "      <td>Low income</td>\n",
       "      <td>Yemen, Rep.</td>\n",
       "    </tr>\n",
       "    <tr>\n",
       "      <th>260</th>\n",
       "      <td>ZAF</td>\n",
       "      <td>Sub-Saharan Africa</td>\n",
       "      <td>Upper middle income</td>\n",
       "      <td>South Africa</td>\n",
       "    </tr>\n",
       "    <tr>\n",
       "      <th>261</th>\n",
       "      <td>ZMB</td>\n",
       "      <td>Sub-Saharan Africa</td>\n",
       "      <td>Lower middle income</td>\n",
       "      <td>Zambia</td>\n",
       "    </tr>\n",
       "    <tr>\n",
       "      <th>262</th>\n",
       "      <td>ZWE</td>\n",
       "      <td>Sub-Saharan Africa</td>\n",
       "      <td>Lower middle income</td>\n",
       "      <td>Zimbabwe</td>\n",
       "    </tr>\n",
       "  </tbody>\n",
       "</table>\n",
       "<p>263 rows × 4 columns</p>\n",
       "</div>"
      ],
      "text/plain": [
       "    Country Code                      Region          IncomeGroup  \\\n",
       "0            ABW   Latin America & Caribbean          High income   \n",
       "1            AFG                  South Asia           Low income   \n",
       "2            AGO          Sub-Saharan Africa  Lower middle income   \n",
       "3            ALB       Europe & Central Asia  Upper middle income   \n",
       "4            AND       Europe & Central Asia          High income   \n",
       "..           ...                         ...                  ...   \n",
       "258          XKX       Europe & Central Asia  Upper middle income   \n",
       "259          YEM  Middle East & North Africa           Low income   \n",
       "260          ZAF          Sub-Saharan Africa  Upper middle income   \n",
       "261          ZMB          Sub-Saharan Africa  Lower middle income   \n",
       "262          ZWE          Sub-Saharan Africa  Lower middle income   \n",
       "\n",
       "        TableName  \n",
       "0           Aruba  \n",
       "1     Afghanistan  \n",
       "2          Angola  \n",
       "3         Albania  \n",
       "4         Andorra  \n",
       "..            ...  \n",
       "258        Kosovo  \n",
       "259   Yemen, Rep.  \n",
       "260  South Africa  \n",
       "261        Zambia  \n",
       "262      Zimbabwe  \n",
       "\n",
       "[263 rows x 4 columns]"
      ]
     },
     "execution_count": 42,
     "metadata": {},
     "output_type": "execute_result"
    }
   ],
   "source": [
    "df_gdp.drop(df_gdp.columns[3], axis=1, inplace=True)\n",
    "df_gdp"
   ]
  },
  {
   "cell_type": "code",
   "execution_count": 43,
   "metadata": {
    "colab": {
     "base_uri": "https://localhost:8080/"
    },
    "id": "U7qqkV0dsZJL",
    "outputId": "a4e37f39-b210-46f3-b872-799d6bde0ca1"
   },
   "outputs": [
    {
     "data": {
      "text/plain": [
       "Country Code     0\n",
       "Region          46\n",
       "IncomeGroup     46\n",
       "TableName        0\n",
       "dtype: int64"
      ]
     },
     "execution_count": 43,
     "metadata": {},
     "output_type": "execute_result"
    }
   ],
   "source": [
    "df_gdp.isnull().sum()"
   ]
  },
  {
   "cell_type": "code",
   "execution_count": 44,
   "metadata": {
    "colab": {
     "base_uri": "https://localhost:8080/",
     "height": 1000
    },
    "id": "gcG7EdvPsatH",
    "outputId": "661ae0be-ddbd-4cee-8db1-c03894e75f66"
   },
   "outputs": [
    {
     "data": {
      "text/html": [
       "<div>\n",
       "<style scoped>\n",
       "    .dataframe tbody tr th:only-of-type {\n",
       "        vertical-align: middle;\n",
       "    }\n",
       "\n",
       "    .dataframe tbody tr th {\n",
       "        vertical-align: top;\n",
       "    }\n",
       "\n",
       "    .dataframe thead th {\n",
       "        text-align: right;\n",
       "    }\n",
       "</style>\n",
       "<table border=\"1\" class=\"dataframe\">\n",
       "  <thead>\n",
       "    <tr style=\"text-align: right;\">\n",
       "      <th></th>\n",
       "      <th>Country Code</th>\n",
       "      <th>Region</th>\n",
       "      <th>IncomeGroup</th>\n",
       "      <th>TableName</th>\n",
       "    </tr>\n",
       "  </thead>\n",
       "  <tbody>\n",
       "    <tr>\n",
       "      <th>5</th>\n",
       "      <td>ARB</td>\n",
       "      <td>NaN</td>\n",
       "      <td>NaN</td>\n",
       "      <td>Arab World</td>\n",
       "    </tr>\n",
       "    <tr>\n",
       "      <th>34</th>\n",
       "      <td>CEB</td>\n",
       "      <td>NaN</td>\n",
       "      <td>NaN</td>\n",
       "      <td>Central Europe and the Baltics</td>\n",
       "    </tr>\n",
       "    <tr>\n",
       "      <th>47</th>\n",
       "      <td>CSS</td>\n",
       "      <td>NaN</td>\n",
       "      <td>NaN</td>\n",
       "      <td>Caribbean small states</td>\n",
       "    </tr>\n",
       "    <tr>\n",
       "      <th>59</th>\n",
       "      <td>EAP</td>\n",
       "      <td>NaN</td>\n",
       "      <td>NaN</td>\n",
       "      <td>East Asia &amp; Pacific (excluding high income)</td>\n",
       "    </tr>\n",
       "    <tr>\n",
       "      <th>60</th>\n",
       "      <td>EAR</td>\n",
       "      <td>NaN</td>\n",
       "      <td>NaN</td>\n",
       "      <td>Early-demographic dividend</td>\n",
       "    </tr>\n",
       "    <tr>\n",
       "      <th>61</th>\n",
       "      <td>EAS</td>\n",
       "      <td>NaN</td>\n",
       "      <td>NaN</td>\n",
       "      <td>East Asia &amp; Pacific</td>\n",
       "    </tr>\n",
       "    <tr>\n",
       "      <th>62</th>\n",
       "      <td>ECA</td>\n",
       "      <td>NaN</td>\n",
       "      <td>NaN</td>\n",
       "      <td>Europe &amp; Central Asia (excluding high income)</td>\n",
       "    </tr>\n",
       "    <tr>\n",
       "      <th>63</th>\n",
       "      <td>ECS</td>\n",
       "      <td>NaN</td>\n",
       "      <td>NaN</td>\n",
       "      <td>Europe &amp; Central Asia</td>\n",
       "    </tr>\n",
       "    <tr>\n",
       "      <th>66</th>\n",
       "      <td>EMU</td>\n",
       "      <td>NaN</td>\n",
       "      <td>NaN</td>\n",
       "      <td>Euro area</td>\n",
       "    </tr>\n",
       "    <tr>\n",
       "      <th>71</th>\n",
       "      <td>EUU</td>\n",
       "      <td>NaN</td>\n",
       "      <td>NaN</td>\n",
       "      <td>European Union</td>\n",
       "    </tr>\n",
       "    <tr>\n",
       "      <th>72</th>\n",
       "      <td>FCS</td>\n",
       "      <td>NaN</td>\n",
       "      <td>NaN</td>\n",
       "      <td>Fragile and conflict affected situations</td>\n",
       "    </tr>\n",
       "    <tr>\n",
       "      <th>93</th>\n",
       "      <td>HIC</td>\n",
       "      <td>NaN</td>\n",
       "      <td>NaN</td>\n",
       "      <td>High income</td>\n",
       "    </tr>\n",
       "    <tr>\n",
       "      <th>96</th>\n",
       "      <td>HPC</td>\n",
       "      <td>NaN</td>\n",
       "      <td>NaN</td>\n",
       "      <td>Heavily indebted poor countries (HIPC)</td>\n",
       "    </tr>\n",
       "    <tr>\n",
       "      <th>100</th>\n",
       "      <td>IBD</td>\n",
       "      <td>NaN</td>\n",
       "      <td>NaN</td>\n",
       "      <td>IBRD only</td>\n",
       "    </tr>\n",
       "    <tr>\n",
       "      <th>101</th>\n",
       "      <td>IBT</td>\n",
       "      <td>NaN</td>\n",
       "      <td>NaN</td>\n",
       "      <td>IDA &amp; IBRD total</td>\n",
       "    </tr>\n",
       "    <tr>\n",
       "      <th>102</th>\n",
       "      <td>IDA</td>\n",
       "      <td>NaN</td>\n",
       "      <td>NaN</td>\n",
       "      <td>IDA total</td>\n",
       "    </tr>\n",
       "    <tr>\n",
       "      <th>103</th>\n",
       "      <td>IDB</td>\n",
       "      <td>NaN</td>\n",
       "      <td>NaN</td>\n",
       "      <td>IDA blend</td>\n",
       "    </tr>\n",
       "    <tr>\n",
       "      <th>105</th>\n",
       "      <td>IDX</td>\n",
       "      <td>NaN</td>\n",
       "      <td>NaN</td>\n",
       "      <td>IDA only</td>\n",
       "    </tr>\n",
       "    <tr>\n",
       "      <th>125</th>\n",
       "      <td>LAC</td>\n",
       "      <td>NaN</td>\n",
       "      <td>NaN</td>\n",
       "      <td>Latin America &amp; Caribbean (excluding high income)</td>\n",
       "    </tr>\n",
       "    <tr>\n",
       "      <th>131</th>\n",
       "      <td>LCN</td>\n",
       "      <td>NaN</td>\n",
       "      <td>NaN</td>\n",
       "      <td>Latin America &amp; Caribbean</td>\n",
       "    </tr>\n",
       "    <tr>\n",
       "      <th>132</th>\n",
       "      <td>LDC</td>\n",
       "      <td>NaN</td>\n",
       "      <td>NaN</td>\n",
       "      <td>Least developed countries: UN classification</td>\n",
       "    </tr>\n",
       "    <tr>\n",
       "      <th>133</th>\n",
       "      <td>LIC</td>\n",
       "      <td>NaN</td>\n",
       "      <td>NaN</td>\n",
       "      <td>Low income</td>\n",
       "    </tr>\n",
       "    <tr>\n",
       "      <th>136</th>\n",
       "      <td>LMC</td>\n",
       "      <td>NaN</td>\n",
       "      <td>NaN</td>\n",
       "      <td>Lower middle income</td>\n",
       "    </tr>\n",
       "    <tr>\n",
       "      <th>137</th>\n",
       "      <td>LMY</td>\n",
       "      <td>NaN</td>\n",
       "      <td>NaN</td>\n",
       "      <td>Low &amp; middle income</td>\n",
       "    </tr>\n",
       "    <tr>\n",
       "      <th>139</th>\n",
       "      <td>LTE</td>\n",
       "      <td>NaN</td>\n",
       "      <td>NaN</td>\n",
       "      <td>Late-demographic dividend</td>\n",
       "    </tr>\n",
       "    <tr>\n",
       "      <th>150</th>\n",
       "      <td>MEA</td>\n",
       "      <td>NaN</td>\n",
       "      <td>NaN</td>\n",
       "      <td>Middle East &amp; North Africa</td>\n",
       "    </tr>\n",
       "    <tr>\n",
       "      <th>153</th>\n",
       "      <td>MIC</td>\n",
       "      <td>NaN</td>\n",
       "      <td>NaN</td>\n",
       "      <td>Middle income</td>\n",
       "    </tr>\n",
       "    <tr>\n",
       "      <th>158</th>\n",
       "      <td>MNA</td>\n",
       "      <td>NaN</td>\n",
       "      <td>NaN</td>\n",
       "      <td>Middle East &amp; North Africa (excluding high inc...</td>\n",
       "    </tr>\n",
       "    <tr>\n",
       "      <th>167</th>\n",
       "      <td>NAC</td>\n",
       "      <td>NaN</td>\n",
       "      <td>NaN</td>\n",
       "      <td>North America</td>\n",
       "    </tr>\n",
       "    <tr>\n",
       "      <th>178</th>\n",
       "      <td>OED</td>\n",
       "      <td>NaN</td>\n",
       "      <td>NaN</td>\n",
       "      <td>OECD members</td>\n",
       "    </tr>\n",
       "    <tr>\n",
       "      <th>180</th>\n",
       "      <td>OSS</td>\n",
       "      <td>NaN</td>\n",
       "      <td>NaN</td>\n",
       "      <td>Other small states</td>\n",
       "    </tr>\n",
       "    <tr>\n",
       "      <th>188</th>\n",
       "      <td>PRE</td>\n",
       "      <td>NaN</td>\n",
       "      <td>NaN</td>\n",
       "      <td>Pre-demographic dividend</td>\n",
       "    </tr>\n",
       "    <tr>\n",
       "      <th>194</th>\n",
       "      <td>PSS</td>\n",
       "      <td>NaN</td>\n",
       "      <td>NaN</td>\n",
       "      <td>Pacific island small states</td>\n",
       "    </tr>\n",
       "    <tr>\n",
       "      <th>195</th>\n",
       "      <td>PST</td>\n",
       "      <td>NaN</td>\n",
       "      <td>NaN</td>\n",
       "      <td>Post-demographic dividend</td>\n",
       "    </tr>\n",
       "    <tr>\n",
       "      <th>201</th>\n",
       "      <td>SAS</td>\n",
       "      <td>NaN</td>\n",
       "      <td>NaN</td>\n",
       "      <td>South Asia</td>\n",
       "    </tr>\n",
       "    <tr>\n",
       "      <th>212</th>\n",
       "      <td>SSA</td>\n",
       "      <td>NaN</td>\n",
       "      <td>NaN</td>\n",
       "      <td>Sub-Saharan Africa (excluding high income)</td>\n",
       "    </tr>\n",
       "    <tr>\n",
       "      <th>214</th>\n",
       "      <td>SSF</td>\n",
       "      <td>NaN</td>\n",
       "      <td>NaN</td>\n",
       "      <td>Sub-Saharan Africa</td>\n",
       "    </tr>\n",
       "    <tr>\n",
       "      <th>215</th>\n",
       "      <td>SST</td>\n",
       "      <td>NaN</td>\n",
       "      <td>NaN</td>\n",
       "      <td>Small states</td>\n",
       "    </tr>\n",
       "    <tr>\n",
       "      <th>227</th>\n",
       "      <td>TEA</td>\n",
       "      <td>NaN</td>\n",
       "      <td>NaN</td>\n",
       "      <td>East Asia &amp; Pacific (IDA &amp; IBRD)</td>\n",
       "    </tr>\n",
       "    <tr>\n",
       "      <th>228</th>\n",
       "      <td>TEC</td>\n",
       "      <td>NaN</td>\n",
       "      <td>NaN</td>\n",
       "      <td>Europe &amp; Central Asia (IDA &amp; IBRD)</td>\n",
       "    </tr>\n",
       "    <tr>\n",
       "      <th>233</th>\n",
       "      <td>TLA</td>\n",
       "      <td>NaN</td>\n",
       "      <td>NaN</td>\n",
       "      <td>Latin America &amp; Caribbean (IDA &amp; IBRD)</td>\n",
       "    </tr>\n",
       "    <tr>\n",
       "      <th>235</th>\n",
       "      <td>TMN</td>\n",
       "      <td>NaN</td>\n",
       "      <td>NaN</td>\n",
       "      <td>Middle East &amp; North Africa (IDA &amp; IBRD)</td>\n",
       "    </tr>\n",
       "    <tr>\n",
       "      <th>237</th>\n",
       "      <td>TSA</td>\n",
       "      <td>NaN</td>\n",
       "      <td>NaN</td>\n",
       "      <td>South Asia (IDA &amp; IBRD)</td>\n",
       "    </tr>\n",
       "    <tr>\n",
       "      <th>238</th>\n",
       "      <td>TSS</td>\n",
       "      <td>NaN</td>\n",
       "      <td>NaN</td>\n",
       "      <td>Sub-Saharan Africa (IDA &amp; IBRD)</td>\n",
       "    </tr>\n",
       "    <tr>\n",
       "      <th>246</th>\n",
       "      <td>UMC</td>\n",
       "      <td>NaN</td>\n",
       "      <td>NaN</td>\n",
       "      <td>Upper middle income</td>\n",
       "    </tr>\n",
       "    <tr>\n",
       "      <th>256</th>\n",
       "      <td>WLD</td>\n",
       "      <td>NaN</td>\n",
       "      <td>NaN</td>\n",
       "      <td>World</td>\n",
       "    </tr>\n",
       "  </tbody>\n",
       "</table>\n",
       "</div>"
      ],
      "text/plain": [
       "    Country Code Region IncomeGroup  \\\n",
       "5            ARB    NaN         NaN   \n",
       "34           CEB    NaN         NaN   \n",
       "47           CSS    NaN         NaN   \n",
       "59           EAP    NaN         NaN   \n",
       "60           EAR    NaN         NaN   \n",
       "61           EAS    NaN         NaN   \n",
       "62           ECA    NaN         NaN   \n",
       "63           ECS    NaN         NaN   \n",
       "66           EMU    NaN         NaN   \n",
       "71           EUU    NaN         NaN   \n",
       "72           FCS    NaN         NaN   \n",
       "93           HIC    NaN         NaN   \n",
       "96           HPC    NaN         NaN   \n",
       "100          IBD    NaN         NaN   \n",
       "101          IBT    NaN         NaN   \n",
       "102          IDA    NaN         NaN   \n",
       "103          IDB    NaN         NaN   \n",
       "105          IDX    NaN         NaN   \n",
       "125          LAC    NaN         NaN   \n",
       "131          LCN    NaN         NaN   \n",
       "132          LDC    NaN         NaN   \n",
       "133          LIC    NaN         NaN   \n",
       "136          LMC    NaN         NaN   \n",
       "137          LMY    NaN         NaN   \n",
       "139          LTE    NaN         NaN   \n",
       "150          MEA    NaN         NaN   \n",
       "153          MIC    NaN         NaN   \n",
       "158          MNA    NaN         NaN   \n",
       "167          NAC    NaN         NaN   \n",
       "178          OED    NaN         NaN   \n",
       "180          OSS    NaN         NaN   \n",
       "188          PRE    NaN         NaN   \n",
       "194          PSS    NaN         NaN   \n",
       "195          PST    NaN         NaN   \n",
       "201          SAS    NaN         NaN   \n",
       "212          SSA    NaN         NaN   \n",
       "214          SSF    NaN         NaN   \n",
       "215          SST    NaN         NaN   \n",
       "227          TEA    NaN         NaN   \n",
       "228          TEC    NaN         NaN   \n",
       "233          TLA    NaN         NaN   \n",
       "235          TMN    NaN         NaN   \n",
       "237          TSA    NaN         NaN   \n",
       "238          TSS    NaN         NaN   \n",
       "246          UMC    NaN         NaN   \n",
       "256          WLD    NaN         NaN   \n",
       "\n",
       "                                             TableName  \n",
       "5                                           Arab World  \n",
       "34                      Central Europe and the Baltics  \n",
       "47                              Caribbean small states  \n",
       "59         East Asia & Pacific (excluding high income)  \n",
       "60                          Early-demographic dividend  \n",
       "61                                 East Asia & Pacific  \n",
       "62       Europe & Central Asia (excluding high income)  \n",
       "63                               Europe & Central Asia  \n",
       "66                                           Euro area  \n",
       "71                                      European Union  \n",
       "72            Fragile and conflict affected situations  \n",
       "93                                         High income  \n",
       "96              Heavily indebted poor countries (HIPC)  \n",
       "100                                          IBRD only  \n",
       "101                                   IDA & IBRD total  \n",
       "102                                          IDA total  \n",
       "103                                          IDA blend  \n",
       "105                                           IDA only  \n",
       "125  Latin America & Caribbean (excluding high income)  \n",
       "131                          Latin America & Caribbean  \n",
       "132       Least developed countries: UN classification  \n",
       "133                                         Low income  \n",
       "136                                Lower middle income  \n",
       "137                                Low & middle income  \n",
       "139                          Late-demographic dividend  \n",
       "150                         Middle East & North Africa  \n",
       "153                                      Middle income  \n",
       "158  Middle East & North Africa (excluding high inc...  \n",
       "167                                      North America  \n",
       "178                                       OECD members  \n",
       "180                                 Other small states  \n",
       "188                           Pre-demographic dividend  \n",
       "194                        Pacific island small states  \n",
       "195                          Post-demographic dividend  \n",
       "201                                         South Asia  \n",
       "212         Sub-Saharan Africa (excluding high income)  \n",
       "214                                 Sub-Saharan Africa  \n",
       "215                                       Small states  \n",
       "227                   East Asia & Pacific (IDA & IBRD)  \n",
       "228                 Europe & Central Asia (IDA & IBRD)  \n",
       "233             Latin America & Caribbean (IDA & IBRD)  \n",
       "235            Middle East & North Africa (IDA & IBRD)  \n",
       "237                            South Asia (IDA & IBRD)  \n",
       "238                    Sub-Saharan Africa (IDA & IBRD)  \n",
       "246                                Upper middle income  \n",
       "256                                              World  "
      ]
     },
     "execution_count": 44,
     "metadata": {},
     "output_type": "execute_result"
    }
   ],
   "source": [
    "df_gdp[df_gdp[\"Region\"].isnull() | df_gdp[\"IncomeGroup\"].isnull()]#.shape[0]"
   ]
  },
  {
   "cell_type": "code",
   "execution_count": 45,
   "metadata": {
    "colab": {
     "base_uri": "https://localhost:8080/",
     "height": 406
    },
    "id": "SXFBe6DYtoVX",
    "outputId": "5fc1906e-24ab-4044-d50f-c51814e5c0a9"
   },
   "outputs": [
    {
     "data": {
      "text/html": [
       "<div>\n",
       "<style scoped>\n",
       "    .dataframe tbody tr th:only-of-type {\n",
       "        vertical-align: middle;\n",
       "    }\n",
       "\n",
       "    .dataframe tbody tr th {\n",
       "        vertical-align: top;\n",
       "    }\n",
       "\n",
       "    .dataframe thead th {\n",
       "        text-align: right;\n",
       "    }\n",
       "</style>\n",
       "<table border=\"1\" class=\"dataframe\">\n",
       "  <thead>\n",
       "    <tr style=\"text-align: right;\">\n",
       "      <th></th>\n",
       "      <th>Country Code</th>\n",
       "      <th>Region</th>\n",
       "      <th>IncomeGroup</th>\n",
       "      <th>TableName</th>\n",
       "    </tr>\n",
       "  </thead>\n",
       "  <tbody>\n",
       "    <tr>\n",
       "      <th>0</th>\n",
       "      <td>ABW</td>\n",
       "      <td>Latin America &amp; Caribbean</td>\n",
       "      <td>High income</td>\n",
       "      <td>Aruba</td>\n",
       "    </tr>\n",
       "    <tr>\n",
       "      <th>1</th>\n",
       "      <td>AFG</td>\n",
       "      <td>South Asia</td>\n",
       "      <td>Low income</td>\n",
       "      <td>Afghanistan</td>\n",
       "    </tr>\n",
       "    <tr>\n",
       "      <th>2</th>\n",
       "      <td>AGO</td>\n",
       "      <td>Sub-Saharan Africa</td>\n",
       "      <td>Lower middle income</td>\n",
       "      <td>Angola</td>\n",
       "    </tr>\n",
       "    <tr>\n",
       "      <th>3</th>\n",
       "      <td>ALB</td>\n",
       "      <td>Europe &amp; Central Asia</td>\n",
       "      <td>Upper middle income</td>\n",
       "      <td>Albania</td>\n",
       "    </tr>\n",
       "    <tr>\n",
       "      <th>4</th>\n",
       "      <td>AND</td>\n",
       "      <td>Europe &amp; Central Asia</td>\n",
       "      <td>High income</td>\n",
       "      <td>Andorra</td>\n",
       "    </tr>\n",
       "    <tr>\n",
       "      <th>...</th>\n",
       "      <td>...</td>\n",
       "      <td>...</td>\n",
       "      <td>...</td>\n",
       "      <td>...</td>\n",
       "    </tr>\n",
       "    <tr>\n",
       "      <th>258</th>\n",
       "      <td>XKX</td>\n",
       "      <td>Europe &amp; Central Asia</td>\n",
       "      <td>Upper middle income</td>\n",
       "      <td>Kosovo</td>\n",
       "    </tr>\n",
       "    <tr>\n",
       "      <th>259</th>\n",
       "      <td>YEM</td>\n",
       "      <td>Middle East &amp; North Africa</td>\n",
       "      <td>Low income</td>\n",
       "      <td>Yemen, Rep.</td>\n",
       "    </tr>\n",
       "    <tr>\n",
       "      <th>260</th>\n",
       "      <td>ZAF</td>\n",
       "      <td>Sub-Saharan Africa</td>\n",
       "      <td>Upper middle income</td>\n",
       "      <td>South Africa</td>\n",
       "    </tr>\n",
       "    <tr>\n",
       "      <th>261</th>\n",
       "      <td>ZMB</td>\n",
       "      <td>Sub-Saharan Africa</td>\n",
       "      <td>Lower middle income</td>\n",
       "      <td>Zambia</td>\n",
       "    </tr>\n",
       "    <tr>\n",
       "      <th>262</th>\n",
       "      <td>ZWE</td>\n",
       "      <td>Sub-Saharan Africa</td>\n",
       "      <td>Lower middle income</td>\n",
       "      <td>Zimbabwe</td>\n",
       "    </tr>\n",
       "  </tbody>\n",
       "</table>\n",
       "<p>217 rows × 4 columns</p>\n",
       "</div>"
      ],
      "text/plain": [
       "    Country Code                      Region          IncomeGroup  \\\n",
       "0            ABW   Latin America & Caribbean          High income   \n",
       "1            AFG                  South Asia           Low income   \n",
       "2            AGO          Sub-Saharan Africa  Lower middle income   \n",
       "3            ALB       Europe & Central Asia  Upper middle income   \n",
       "4            AND       Europe & Central Asia          High income   \n",
       "..           ...                         ...                  ...   \n",
       "258          XKX       Europe & Central Asia  Upper middle income   \n",
       "259          YEM  Middle East & North Africa           Low income   \n",
       "260          ZAF          Sub-Saharan Africa  Upper middle income   \n",
       "261          ZMB          Sub-Saharan Africa  Lower middle income   \n",
       "262          ZWE          Sub-Saharan Africa  Lower middle income   \n",
       "\n",
       "        TableName  \n",
       "0           Aruba  \n",
       "1     Afghanistan  \n",
       "2          Angola  \n",
       "3         Albania  \n",
       "4         Andorra  \n",
       "..            ...  \n",
       "258        Kosovo  \n",
       "259   Yemen, Rep.  \n",
       "260  South Africa  \n",
       "261        Zambia  \n",
       "262      Zimbabwe  \n",
       "\n",
       "[217 rows x 4 columns]"
      ]
     },
     "execution_count": 45,
     "metadata": {},
     "output_type": "execute_result"
    }
   ],
   "source": [
    "df_gdp.dropna(inplace=True)\n",
    "\n",
    "df_gdp"
   ]
  },
  {
   "cell_type": "markdown",
   "metadata": {
    "id": "cxf51Cxmi4bA"
   },
   "source": [
    "## MERGE"
   ]
  },
  {
   "cell_type": "code",
   "execution_count": null,
   "metadata": {
    "id": "9-22qao5i3XZ"
   },
   "outputs": [],
   "source": []
  },
  {
   "cell_type": "code",
   "execution_count": 46,
   "metadata": {
    "colab": {
     "base_uri": "https://localhost:8080/",
     "height": 523
    },
    "id": "Q0rHAAZbLbhC",
    "outputId": "9b00311c-163d-445c-c554-4733be09179e"
   },
   "outputs": [
    {
     "data": {
      "text/html": [
       "<div>\n",
       "<style scoped>\n",
       "    .dataframe tbody tr th:only-of-type {\n",
       "        vertical-align: middle;\n",
       "    }\n",
       "\n",
       "    .dataframe tbody tr th {\n",
       "        vertical-align: top;\n",
       "    }\n",
       "\n",
       "    .dataframe thead th {\n",
       "        text-align: right;\n",
       "    }\n",
       "</style>\n",
       "<table border=\"1\" class=\"dataframe\">\n",
       "  <thead>\n",
       "    <tr style=\"text-align: right;\">\n",
       "      <th></th>\n",
       "      <th>Country</th>\n",
       "      <th>Year</th>\n",
       "      <th>Causes</th>\n",
       "      <th>Both sexes_recent</th>\n",
       "      <th>Both sexes_min</th>\n",
       "      <th>Both sexes_max</th>\n",
       "      <th>Male_recent</th>\n",
       "      <th>Male_min</th>\n",
       "      <th>Male_max</th>\n",
       "      <th>Female_recent</th>\n",
       "      <th>Female_min</th>\n",
       "      <th>Female_max</th>\n",
       "      <th>Country Code</th>\n",
       "      <th>Region</th>\n",
       "      <th>IncomeGroup</th>\n",
       "      <th>TableName</th>\n",
       "    </tr>\n",
       "  </thead>\n",
       "  <tbody>\n",
       "    <tr>\n",
       "      <th>0</th>\n",
       "      <td>Afghanistan</td>\n",
       "      <td>2019</td>\n",
       "      <td>Malignant neoplasms</td>\n",
       "      <td>15565</td>\n",
       "      <td>7609</td>\n",
       "      <td>28280</td>\n",
       "      <td>7756</td>\n",
       "      <td>3898</td>\n",
       "      <td>13841</td>\n",
       "      <td>7809</td>\n",
       "      <td>3711</td>\n",
       "      <td>14439</td>\n",
       "      <td>AFG</td>\n",
       "      <td>South Asia</td>\n",
       "      <td>Low income</td>\n",
       "      <td>Afghanistan</td>\n",
       "    </tr>\n",
       "    <tr>\n",
       "      <th>1</th>\n",
       "      <td>Afghanistan</td>\n",
       "      <td>2019</td>\n",
       "      <td>Diabetes mellitus</td>\n",
       "      <td>8060</td>\n",
       "      <td>3827</td>\n",
       "      <td>14468</td>\n",
       "      <td>2612</td>\n",
       "      <td>1377</td>\n",
       "      <td>4651</td>\n",
       "      <td>5448</td>\n",
       "      <td>2451</td>\n",
       "      <td>9817</td>\n",
       "      <td>AFG</td>\n",
       "      <td>South Asia</td>\n",
       "      <td>Low income</td>\n",
       "      <td>Afghanistan</td>\n",
       "    </tr>\n",
       "    <tr>\n",
       "      <th>2</th>\n",
       "      <td>Afghanistan</td>\n",
       "      <td>2019</td>\n",
       "      <td>Cardiovascular diseases</td>\n",
       "      <td>71264</td>\n",
       "      <td>42413</td>\n",
       "      <td>108472</td>\n",
       "      <td>33793</td>\n",
       "      <td>20550</td>\n",
       "      <td>51028</td>\n",
       "      <td>37471</td>\n",
       "      <td>21863</td>\n",
       "      <td>57444</td>\n",
       "      <td>AFG</td>\n",
       "      <td>South Asia</td>\n",
       "      <td>Low income</td>\n",
       "      <td>Afghanistan</td>\n",
       "    </tr>\n",
       "    <tr>\n",
       "      <th>3</th>\n",
       "      <td>Afghanistan</td>\n",
       "      <td>2019</td>\n",
       "      <td>Chronic respiratory diseases</td>\n",
       "      <td>8285</td>\n",
       "      <td>3618</td>\n",
       "      <td>14626</td>\n",
       "      <td>3920</td>\n",
       "      <td>1877</td>\n",
       "      <td>6745</td>\n",
       "      <td>4365</td>\n",
       "      <td>1741</td>\n",
       "      <td>7881</td>\n",
       "      <td>AFG</td>\n",
       "      <td>South Asia</td>\n",
       "      <td>Low income</td>\n",
       "      <td>Afghanistan</td>\n",
       "    </tr>\n",
       "    <tr>\n",
       "      <th>4</th>\n",
       "      <td>Afghanistan</td>\n",
       "      <td>2018</td>\n",
       "      <td>Malignant neoplasms</td>\n",
       "      <td>15065</td>\n",
       "      <td>7337</td>\n",
       "      <td>27401</td>\n",
       "      <td>7534</td>\n",
       "      <td>3766</td>\n",
       "      <td>13454</td>\n",
       "      <td>7531</td>\n",
       "      <td>3570</td>\n",
       "      <td>13948</td>\n",
       "      <td>AFG</td>\n",
       "      <td>South Asia</td>\n",
       "      <td>Low income</td>\n",
       "      <td>Afghanistan</td>\n",
       "    </tr>\n",
       "    <tr>\n",
       "      <th>...</th>\n",
       "      <td>...</td>\n",
       "      <td>...</td>\n",
       "      <td>...</td>\n",
       "      <td>...</td>\n",
       "      <td>...</td>\n",
       "      <td>...</td>\n",
       "      <td>...</td>\n",
       "      <td>...</td>\n",
       "      <td>...</td>\n",
       "      <td>...</td>\n",
       "      <td>...</td>\n",
       "      <td>...</td>\n",
       "      <td>...</td>\n",
       "      <td>...</td>\n",
       "      <td>...</td>\n",
       "      <td>...</td>\n",
       "    </tr>\n",
       "    <tr>\n",
       "      <th>12715</th>\n",
       "      <td>Zimbabwe</td>\n",
       "      <td>2001</td>\n",
       "      <td>Chronic respiratory diseases</td>\n",
       "      <td>1884</td>\n",
       "      <td>1044</td>\n",
       "      <td>3046</td>\n",
       "      <td>996</td>\n",
       "      <td>603</td>\n",
       "      <td>1513</td>\n",
       "      <td>887</td>\n",
       "      <td>441</td>\n",
       "      <td>1533</td>\n",
       "      <td>ZWE</td>\n",
       "      <td>Sub-Saharan Africa</td>\n",
       "      <td>Lower middle income</td>\n",
       "      <td>Zimbabwe</td>\n",
       "    </tr>\n",
       "    <tr>\n",
       "      <th>12716</th>\n",
       "      <td>Zimbabwe</td>\n",
       "      <td>2000</td>\n",
       "      <td>Malignant neoplasms</td>\n",
       "      <td>7474</td>\n",
       "      <td>4592</td>\n",
       "      <td>11441</td>\n",
       "      <td>3838</td>\n",
       "      <td>2512</td>\n",
       "      <td>5647</td>\n",
       "      <td>3636</td>\n",
       "      <td>2080</td>\n",
       "      <td>5794</td>\n",
       "      <td>ZWE</td>\n",
       "      <td>Sub-Saharan Africa</td>\n",
       "      <td>Lower middle income</td>\n",
       "      <td>Zimbabwe</td>\n",
       "    </tr>\n",
       "    <tr>\n",
       "      <th>12717</th>\n",
       "      <td>Zimbabwe</td>\n",
       "      <td>2000</td>\n",
       "      <td>Diabetes mellitus</td>\n",
       "      <td>2039</td>\n",
       "      <td>1227</td>\n",
       "      <td>3219</td>\n",
       "      <td>810</td>\n",
       "      <td>507</td>\n",
       "      <td>1246</td>\n",
       "      <td>1229</td>\n",
       "      <td>720</td>\n",
       "      <td>1972</td>\n",
       "      <td>ZWE</td>\n",
       "      <td>Sub-Saharan Africa</td>\n",
       "      <td>Lower middle income</td>\n",
       "      <td>Zimbabwe</td>\n",
       "    </tr>\n",
       "    <tr>\n",
       "      <th>12718</th>\n",
       "      <td>Zimbabwe</td>\n",
       "      <td>2000</td>\n",
       "      <td>Cardiovascular diseases</td>\n",
       "      <td>10368</td>\n",
       "      <td>6335</td>\n",
       "      <td>16076</td>\n",
       "      <td>4425</td>\n",
       "      <td>2818</td>\n",
       "      <td>6837</td>\n",
       "      <td>5943</td>\n",
       "      <td>3516</td>\n",
       "      <td>9239</td>\n",
       "      <td>ZWE</td>\n",
       "      <td>Sub-Saharan Africa</td>\n",
       "      <td>Lower middle income</td>\n",
       "      <td>Zimbabwe</td>\n",
       "    </tr>\n",
       "    <tr>\n",
       "      <th>12719</th>\n",
       "      <td>Zimbabwe</td>\n",
       "      <td>2000</td>\n",
       "      <td>Chronic respiratory diseases</td>\n",
       "      <td>1861</td>\n",
       "      <td>1039</td>\n",
       "      <td>2993</td>\n",
       "      <td>983</td>\n",
       "      <td>605</td>\n",
       "      <td>1481</td>\n",
       "      <td>878</td>\n",
       "      <td>435</td>\n",
       "      <td>1513</td>\n",
       "      <td>ZWE</td>\n",
       "      <td>Sub-Saharan Africa</td>\n",
       "      <td>Lower middle income</td>\n",
       "      <td>Zimbabwe</td>\n",
       "    </tr>\n",
       "  </tbody>\n",
       "</table>\n",
       "<p>12720 rows × 16 columns</p>\n",
       "</div>"
      ],
      "text/plain": [
       "           Country  Year                        Causes  Both sexes_recent  \\\n",
       "0      Afghanistan  2019           Malignant neoplasms              15565   \n",
       "1      Afghanistan  2019             Diabetes mellitus               8060   \n",
       "2      Afghanistan  2019       Cardiovascular diseases              71264   \n",
       "3      Afghanistan  2019  Chronic respiratory diseases               8285   \n",
       "4      Afghanistan  2018           Malignant neoplasms              15065   \n",
       "...            ...   ...                           ...                ...   \n",
       "12715     Zimbabwe  2001  Chronic respiratory diseases               1884   \n",
       "12716     Zimbabwe  2000           Malignant neoplasms               7474   \n",
       "12717     Zimbabwe  2000             Diabetes mellitus               2039   \n",
       "12718     Zimbabwe  2000       Cardiovascular diseases              10368   \n",
       "12719     Zimbabwe  2000  Chronic respiratory diseases               1861   \n",
       "\n",
       "       Both sexes_min  Both sexes_max  Male_recent  Male_min  Male_max  \\\n",
       "0                7609           28280         7756      3898     13841   \n",
       "1                3827           14468         2612      1377      4651   \n",
       "2               42413          108472        33793     20550     51028   \n",
       "3                3618           14626         3920      1877      6745   \n",
       "4                7337           27401         7534      3766     13454   \n",
       "...               ...             ...          ...       ...       ...   \n",
       "12715            1044            3046          996       603      1513   \n",
       "12716            4592           11441         3838      2512      5647   \n",
       "12717            1227            3219          810       507      1246   \n",
       "12718            6335           16076         4425      2818      6837   \n",
       "12719            1039            2993          983       605      1481   \n",
       "\n",
       "       Female_recent  Female_min  Female_max Country Code              Region  \\\n",
       "0               7809        3711       14439          AFG          South Asia   \n",
       "1               5448        2451        9817          AFG          South Asia   \n",
       "2              37471       21863       57444          AFG          South Asia   \n",
       "3               4365        1741        7881          AFG          South Asia   \n",
       "4               7531        3570       13948          AFG          South Asia   \n",
       "...              ...         ...         ...          ...                 ...   \n",
       "12715            887         441        1533          ZWE  Sub-Saharan Africa   \n",
       "12716           3636        2080        5794          ZWE  Sub-Saharan Africa   \n",
       "12717           1229         720        1972          ZWE  Sub-Saharan Africa   \n",
       "12718           5943        3516        9239          ZWE  Sub-Saharan Africa   \n",
       "12719            878         435        1513          ZWE  Sub-Saharan Africa   \n",
       "\n",
       "               IncomeGroup    TableName  \n",
       "0               Low income  Afghanistan  \n",
       "1               Low income  Afghanistan  \n",
       "2               Low income  Afghanistan  \n",
       "3               Low income  Afghanistan  \n",
       "4               Low income  Afghanistan  \n",
       "...                    ...          ...  \n",
       "12715  Lower middle income     Zimbabwe  \n",
       "12716  Lower middle income     Zimbabwe  \n",
       "12717  Lower middle income     Zimbabwe  \n",
       "12718  Lower middle income     Zimbabwe  \n",
       "12719  Lower middle income     Zimbabwe  \n",
       "\n",
       "[12720 rows x 16 columns]"
      ]
     },
     "execution_count": 46,
     "metadata": {},
     "output_type": "execute_result"
    }
   ],
   "source": [
    "df_rearanged.merge(df_gdp,how=\"inner\", left_on=\"Country\", right_on=\"TableName\")"
   ]
  },
  {
   "cell_type": "code",
   "execution_count": 47,
   "metadata": {
    "colab": {
     "base_uri": "https://localhost:8080/"
    },
    "id": "f777UFHJubq3",
    "outputId": "76977448-367e-4b9e-cfbe-b46b63048afb"
   },
   "outputs": [
    {
     "data": {
      "text/plain": [
       "(14640, 12)"
      ]
     },
     "execution_count": 47,
     "metadata": {},
     "output_type": "execute_result"
    }
   ],
   "source": [
    "df_rearanged.shape"
   ]
  },
  {
   "cell_type": "code",
   "execution_count": 48,
   "metadata": {
    "colab": {
     "base_uri": "https://localhost:8080/"
    },
    "id": "370IxTiuMmqC",
    "outputId": "2e41995b-258c-48cd-da08-7bb3eb46da4a"
   },
   "outputs": [
    {
     "data": {
      "text/plain": [
       "array(['Afghanistan', 'Albania', 'Algeria', 'Angola',\n",
       "       'Antigua and Barbuda', 'Argentina', 'Armenia', 'Australia',\n",
       "       'Austria', 'Azerbaijan', 'Bahamas', 'Bahrain', 'Bangladesh',\n",
       "       'Barbados', 'Belarus', 'Belgium', 'Belize', 'Benin', 'Bhutan',\n",
       "       'Bolivia (Plurinational State of)', 'Bosnia and Herzegovina',\n",
       "       'Botswana', 'Brazil', 'Brunei Darussalam', 'Bulgaria',\n",
       "       'Burkina Faso', 'Burundi', 'Cabo Verde', 'Cambodia', 'Cameroon',\n",
       "       'Canada', 'Central African Republic', 'Chad', 'Chile', 'China',\n",
       "       'Colombia', 'Comoros', 'Congo', 'Costa Rica', \"Côte d'Ivoire\",\n",
       "       'Croatia', 'Cuba', 'Cyprus', 'Czechia',\n",
       "       \"Democratic People's Republic of Korea\",\n",
       "       'Democratic Republic of the Congo', 'Denmark', 'Djibouti',\n",
       "       'Dominican Republic', 'Ecuador', 'Egypt', 'El Salvador',\n",
       "       'Equatorial Guinea', 'Eritrea', 'Estonia', 'Eswatini', 'Ethiopia',\n",
       "       'Fiji', 'Finland', 'France', 'Gabon', 'Gambia', 'Georgia',\n",
       "       'Germany', 'Ghana', 'Greece', 'Grenada', 'Guatemala', 'Guinea',\n",
       "       'Guinea-Bissau', 'Guyana', 'Haiti', 'Honduras', 'Hungary',\n",
       "       'Iceland', 'India', 'Indonesia', 'Iran (Islamic Republic of)',\n",
       "       'Iraq', 'Ireland', 'Israel', 'Italy', 'Jamaica', 'Japan', 'Jordan',\n",
       "       'Kazakhstan', 'Kenya', 'Kiribati', 'Kuwait', 'Kyrgyzstan',\n",
       "       \"Lao People's Democratic Republic\", 'Latvia', 'Lebanon', 'Lesotho',\n",
       "       'Liberia', 'Libya', 'Lithuania', 'Luxembourg', 'Madagascar',\n",
       "       'Malawi', 'Malaysia', 'Maldives', 'Mali', 'Malta', 'Mauritania',\n",
       "       'Mauritius', 'Mexico', 'Micronesia (Federated States of)',\n",
       "       'Mongolia', 'Montenegro', 'Morocco', 'Mozambique', 'Myanmar',\n",
       "       'Namibia', 'Nepal', 'Netherlands', 'New Zealand', 'Nicaragua',\n",
       "       'Niger', 'Nigeria', 'Norway', 'Oman', 'Pakistan', 'Panama',\n",
       "       'Papua New Guinea', 'Paraguay', 'Peru', 'Philippines', 'Poland',\n",
       "       'Portugal', 'Qatar', 'Republic of Korea', 'Republic of Moldova',\n",
       "       'North Macedonia', 'Romania', 'Russian Federation', 'Rwanda',\n",
       "       'Saint Lucia', 'Saint Vincent and the Grenadines', 'Samoa',\n",
       "       'Sao Tome and Principe', 'Saudi Arabia', 'Senegal', 'Serbia',\n",
       "       'Seychelles', 'Sierra Leone', 'Singapore', 'Slovakia', 'Slovenia',\n",
       "       'Solomon Islands', 'Somalia', 'South Africa', 'South Sudan',\n",
       "       'Spain', 'Sri Lanka', 'Sudan', 'Suriname', 'Sweden', 'Switzerland',\n",
       "       'Syrian Arab Republic', 'Tajikistan', 'Thailand', 'Timor-Leste',\n",
       "       'Togo', 'Tonga', 'Trinidad and Tobago', 'Tunisia', 'Turkey',\n",
       "       'Turkmenistan', 'Uganda', 'Ukraine', 'United Arab Emirates',\n",
       "       'United Kingdom of Great Britain and Northern Ireland',\n",
       "       'United Republic of Tanzania', 'United States of America',\n",
       "       'Uruguay', 'Uzbekistan', 'Vanuatu',\n",
       "       'Venezuela (Bolivarian Republic of)', 'Viet Nam', 'Yemen',\n",
       "       'Zambia', 'Zimbabwe'], dtype=object)"
      ]
     },
     "execution_count": 48,
     "metadata": {},
     "output_type": "execute_result"
    }
   ],
   "source": [
    "df_rearanged.Country.unique()"
   ]
  },
  {
   "cell_type": "code",
   "execution_count": 49,
   "metadata": {
    "colab": {
     "base_uri": "https://localhost:8080/"
    },
    "id": "eCOooQpmRSJF",
    "outputId": "8e7c057e-1200-42a5-ed22-388b34ec3ca6"
   },
   "outputs": [
    {
     "data": {
      "text/plain": [
       "array(['Aruba', 'Afghanistan', 'Angola', 'Albania', 'Andorra',\n",
       "       'United Arab Emirates', 'Argentina', 'Armenia', 'American Samoa',\n",
       "       'Antigua and Barbuda', 'Australia', 'Austria', 'Azerbaijan',\n",
       "       'Burundi', 'Belgium', 'Benin', 'Burkina Faso', 'Bangladesh',\n",
       "       'Bulgaria', 'Bahrain', 'Bahamas, The', 'Bosnia and Herzegovina',\n",
       "       'Belarus', 'Belize', 'Bermuda', 'Bolivia', 'Brazil', 'Barbados',\n",
       "       'Brunei Darussalam', 'Bhutan', 'Botswana',\n",
       "       'Central African Republic', 'Canada', 'Switzerland',\n",
       "       'Channel Islands', 'Chile', 'China', \"Côte d'Ivoire\", 'Cameroon',\n",
       "       'Congo, Dem. Rep.', 'Congo, Rep.', 'Colombia', 'Comoros',\n",
       "       'Cabo Verde', 'Costa Rica', 'Cuba', 'Curaçao', 'Cayman Islands',\n",
       "       'Cyprus', 'Czech Republic', 'Germany', 'Djibouti', 'Dominica',\n",
       "       'Denmark', 'Dominican Republic', 'Algeria', 'Ecuador',\n",
       "       'Egypt, Arab Rep.', 'Eritrea', 'Spain', 'Estonia', 'Ethiopia',\n",
       "       'Finland', 'Fiji', 'France', 'Faroe Islands',\n",
       "       'Micronesia, Fed. Sts.', 'Gabon', 'United Kingdom', 'Georgia',\n",
       "       'Ghana', 'Gibraltar', 'Guinea', 'Gambia, The', 'Guinea-Bissau',\n",
       "       'Equatorial Guinea', 'Greece', 'Grenada', 'Greenland', 'Guatemala',\n",
       "       'Guam', 'Guyana', 'Hong Kong SAR, China', 'Honduras', 'Croatia',\n",
       "       'Haiti', 'Hungary', 'Indonesia', 'Isle of Man', 'India', 'Ireland',\n",
       "       'Iran, Islamic Rep.', 'Iraq', 'Iceland', 'Israel', 'Italy',\n",
       "       'Jamaica', 'Jordan', 'Japan', 'Kazakhstan', 'Kenya',\n",
       "       'Kyrgyz Republic', 'Cambodia', 'Kiribati', 'St. Kitts and Nevis',\n",
       "       'Korea, Rep.', 'Kuwait', 'Lao PDR', 'Lebanon', 'Liberia', 'Libya',\n",
       "       'St. Lucia', 'Liechtenstein', 'Sri Lanka', 'Lesotho', 'Lithuania',\n",
       "       'Luxembourg', 'Latvia', 'Macao SAR, China',\n",
       "       'St. Martin (French part)', 'Morocco', 'Monaco', 'Moldova',\n",
       "       'Madagascar', 'Maldives', 'Mexico', 'Marshall Islands',\n",
       "       'North Macedonia', 'Mali', 'Malta', 'Myanmar', 'Montenegro',\n",
       "       'Mongolia', 'Northern Mariana Islands', 'Mozambique', 'Mauritania',\n",
       "       'Mauritius', 'Malawi', 'Malaysia', 'Namibia', 'New Caledonia',\n",
       "       'Niger', 'Nigeria', 'Nicaragua', 'Netherlands', 'Norway', 'Nepal',\n",
       "       'Nauru', 'New Zealand', 'Oman', 'Pakistan', 'Panama', 'Peru',\n",
       "       'Philippines', 'Palau', 'Papua New Guinea', 'Poland',\n",
       "       'Puerto Rico', \"Korea, Dem. People's Rep.\", 'Portugal', 'Paraguay',\n",
       "       'West Bank and Gaza', 'French Polynesia', 'Qatar', 'Romania',\n",
       "       'Russian Federation', 'Rwanda', 'Saudi Arabia', 'Sudan', 'Senegal',\n",
       "       'Singapore', 'Solomon Islands', 'Sierra Leone', 'El Salvador',\n",
       "       'San Marino', 'Somalia', 'Serbia', 'South Sudan',\n",
       "       'São Tomé and Principe', 'Suriname', 'Slovak Republic', 'Slovenia',\n",
       "       'Sweden', 'Eswatini', 'Sint Maarten (Dutch part)', 'Seychelles',\n",
       "       'Syrian Arab Republic', 'Turks and Caicos Islands', 'Chad', 'Togo',\n",
       "       'Thailand', 'Tajikistan', 'Turkmenistan', 'Timor-Leste', 'Tonga',\n",
       "       'Trinidad and Tobago', 'Tunisia', 'Turkey', 'Tuvalu', 'Tanzania',\n",
       "       'Uganda', 'Ukraine', 'Uruguay', 'United States', 'Uzbekistan',\n",
       "       'St. Vincent and the Grenadines', 'Venezuela, RB',\n",
       "       'British Virgin Islands', 'Virgin Islands (U.S.)', 'Vietnam',\n",
       "       'Vanuatu', 'Samoa', 'Kosovo', 'Yemen, Rep.', 'South Africa',\n",
       "       'Zambia', 'Zimbabwe'], dtype=object)"
      ]
     },
     "execution_count": 49,
     "metadata": {},
     "output_type": "execute_result"
    }
   ],
   "source": [
    "df_gdp.TableName.unique()"
   ]
  },
  {
   "cell_type": "markdown",
   "metadata": {
    "id": "B7OZKLaFAFqs"
   },
   "source": [
    "### FIND THE MISMATCHES"
   ]
  },
  {
   "cell_type": "code",
   "execution_count": 50,
   "metadata": {
    "id": "TiKFjlmsRkm1"
   },
   "outputs": [],
   "source": [
    "def mismatch (onlynumber = False, only_out=True):\n",
    "  out_num = 0\n",
    "  for i in df_rearanged.Country.unique():\n",
    "    if sum(df_gdp.TableName.unique() == i):\n",
    "      if not onlynumber:\n",
    "        if not only_out:\n",
    "          print(\"in :\",i)\n",
    "    else:\n",
    "      if not onlynumber:\n",
    "        print(\"out :\",i)\n",
    "      out_num += 1\n",
    "  print(f\"{out_num} mismatch(es) between those dataframes\".upper())"
   ]
  },
  {
   "cell_type": "code",
   "execution_count": 51,
   "metadata": {
    "colab": {
     "base_uri": "https://localhost:8080/"
    },
    "id": "fmgM5yT6YI-T",
    "outputId": "3ac859b2-e7db-4a4c-ea7f-c3eba225ce6d"
   },
   "outputs": [
    {
     "name": "stdout",
     "output_type": "stream",
     "text": [
      "out : Bahamas\n",
      "out : Bolivia (Plurinational State of)\n",
      "out : Congo\n",
      "out : Czechia\n",
      "out : Democratic People's Republic of Korea\n",
      "out : Democratic Republic of the Congo\n",
      "out : Egypt\n",
      "out : Gambia\n",
      "out : Iran (Islamic Republic of)\n",
      "out : Kyrgyzstan\n",
      "out : Lao People's Democratic Republic\n",
      "out : Micronesia (Federated States of)\n",
      "out : Republic of Korea\n",
      "out : Republic of Moldova\n",
      "out : Saint Lucia\n",
      "out : Saint Vincent and the Grenadines\n",
      "out : Sao Tome and Principe\n",
      "out : Slovakia\n",
      "out : United Kingdom of Great Britain and Northern Ireland\n",
      "out : United Republic of Tanzania\n",
      "out : United States of America\n",
      "out : Venezuela (Bolivarian Republic of)\n",
      "out : Viet Nam\n",
      "out : Yemen\n",
      "24 MISMATCH(ES) BETWEEN THOSE DATAFRAMES\n"
     ]
    }
   ],
   "source": [
    "mismatch(only_out=True)"
   ]
  },
  {
   "cell_type": "code",
   "execution_count": 52,
   "metadata": {
    "colab": {
     "base_uri": "https://localhost:8080/"
    },
    "id": "TL9NSYzDXnWO",
    "outputId": "1f91b388-d20d-4b3b-fa16-7a5074053c05"
   },
   "outputs": [
    {
     "data": {
      "text/plain": [
       "0             [Aruba]\n",
       "1       [Afghanistan]\n",
       "2            [Angola]\n",
       "3           [Albania]\n",
       "4           [Andorra]\n",
       "            ...      \n",
       "258          [Kosovo]\n",
       "259    [Yemen,  Rep.]\n",
       "260    [South Africa]\n",
       "261          [Zambia]\n",
       "262        [Zimbabwe]\n",
       "Name: TableName, Length: 217, dtype: object"
      ]
     },
     "execution_count": 52,
     "metadata": {},
     "output_type": "execute_result"
    }
   ],
   "source": [
    "df_gdp.TableName.str.split(\",\")"
   ]
  },
  {
   "cell_type": "code",
   "execution_count": 53,
   "metadata": {
    "colab": {
     "base_uri": "https://localhost:8080/",
     "height": 34
    },
    "id": "unHdWnzmM2LE",
    "outputId": "77c66548-d9cc-4170-cd9a-f223c0d23848"
   },
   "outputs": [
    {
     "data": {
      "text/plain": [
       "'Aruba'"
      ]
     },
     "execution_count": 53,
     "metadata": {},
     "output_type": "execute_result"
    }
   ],
   "source": [
    "df_gdp.TableName.str.split(\",\")[0][0]"
   ]
  },
  {
   "cell_type": "code",
   "execution_count": 54,
   "metadata": {
    "colab": {
     "base_uri": "https://localhost:8080/"
    },
    "id": "8Ep8jD2QQT35",
    "outputId": "8f2678d7-b738-450f-c0fe-e7884c64091a"
   },
   "outputs": [
    {
     "data": {
      "text/plain": [
       "0             Aruba\n",
       "1       Afghanistan\n",
       "2            Angola\n",
       "3           Albania\n",
       "4           Andorra\n",
       "           ...     \n",
       "258          Kosovo\n",
       "259           Yemen\n",
       "260    South Africa\n",
       "261          Zambia\n",
       "262        Zimbabwe\n",
       "Name: TableName, Length: 217, dtype: object"
      ]
     },
     "execution_count": 54,
     "metadata": {},
     "output_type": "execute_result"
    }
   ],
   "source": [
    "df_gdp.TableName.transform(lambda x : x.split(\",\")[0])"
   ]
  },
  {
   "cell_type": "code",
   "execution_count": 55,
   "metadata": {
    "id": "IOLKMzG6QtEl"
   },
   "outputs": [],
   "source": [
    "df_gdp[\"TableName\"] = df_gdp.TableName.transform(lambda x : x.split(\",\")[0])"
   ]
  },
  {
   "cell_type": "code",
   "execution_count": 56,
   "metadata": {
    "colab": {
     "base_uri": "https://localhost:8080/",
     "height": 523
    },
    "id": "TIAV7TARMK98",
    "outputId": "9d5a1c44-95a4-470e-f431-da51080ce8b3"
   },
   "outputs": [
    {
     "data": {
      "text/html": [
       "<div>\n",
       "<style scoped>\n",
       "    .dataframe tbody tr th:only-of-type {\n",
       "        vertical-align: middle;\n",
       "    }\n",
       "\n",
       "    .dataframe tbody tr th {\n",
       "        vertical-align: top;\n",
       "    }\n",
       "\n",
       "    .dataframe thead th {\n",
       "        text-align: right;\n",
       "    }\n",
       "</style>\n",
       "<table border=\"1\" class=\"dataframe\">\n",
       "  <thead>\n",
       "    <tr style=\"text-align: right;\">\n",
       "      <th></th>\n",
       "      <th>Country</th>\n",
       "      <th>Year</th>\n",
       "      <th>Causes</th>\n",
       "      <th>Both sexes_recent</th>\n",
       "      <th>Both sexes_min</th>\n",
       "      <th>Both sexes_max</th>\n",
       "      <th>Male_recent</th>\n",
       "      <th>Male_min</th>\n",
       "      <th>Male_max</th>\n",
       "      <th>Female_recent</th>\n",
       "      <th>Female_min</th>\n",
       "      <th>Female_max</th>\n",
       "      <th>Country Code</th>\n",
       "      <th>Region</th>\n",
       "      <th>IncomeGroup</th>\n",
       "      <th>TableName</th>\n",
       "    </tr>\n",
       "  </thead>\n",
       "  <tbody>\n",
       "    <tr>\n",
       "      <th>0</th>\n",
       "      <td>Afghanistan</td>\n",
       "      <td>2019</td>\n",
       "      <td>Malignant neoplasms</td>\n",
       "      <td>15565</td>\n",
       "      <td>7609</td>\n",
       "      <td>28280</td>\n",
       "      <td>7756</td>\n",
       "      <td>3898</td>\n",
       "      <td>13841</td>\n",
       "      <td>7809</td>\n",
       "      <td>3711</td>\n",
       "      <td>14439</td>\n",
       "      <td>AFG</td>\n",
       "      <td>South Asia</td>\n",
       "      <td>Low income</td>\n",
       "      <td>Afghanistan</td>\n",
       "    </tr>\n",
       "    <tr>\n",
       "      <th>1</th>\n",
       "      <td>Afghanistan</td>\n",
       "      <td>2019</td>\n",
       "      <td>Diabetes mellitus</td>\n",
       "      <td>8060</td>\n",
       "      <td>3827</td>\n",
       "      <td>14468</td>\n",
       "      <td>2612</td>\n",
       "      <td>1377</td>\n",
       "      <td>4651</td>\n",
       "      <td>5448</td>\n",
       "      <td>2451</td>\n",
       "      <td>9817</td>\n",
       "      <td>AFG</td>\n",
       "      <td>South Asia</td>\n",
       "      <td>Low income</td>\n",
       "      <td>Afghanistan</td>\n",
       "    </tr>\n",
       "    <tr>\n",
       "      <th>2</th>\n",
       "      <td>Afghanistan</td>\n",
       "      <td>2019</td>\n",
       "      <td>Cardiovascular diseases</td>\n",
       "      <td>71264</td>\n",
       "      <td>42413</td>\n",
       "      <td>108472</td>\n",
       "      <td>33793</td>\n",
       "      <td>20550</td>\n",
       "      <td>51028</td>\n",
       "      <td>37471</td>\n",
       "      <td>21863</td>\n",
       "      <td>57444</td>\n",
       "      <td>AFG</td>\n",
       "      <td>South Asia</td>\n",
       "      <td>Low income</td>\n",
       "      <td>Afghanistan</td>\n",
       "    </tr>\n",
       "    <tr>\n",
       "      <th>3</th>\n",
       "      <td>Afghanistan</td>\n",
       "      <td>2019</td>\n",
       "      <td>Chronic respiratory diseases</td>\n",
       "      <td>8285</td>\n",
       "      <td>3618</td>\n",
       "      <td>14626</td>\n",
       "      <td>3920</td>\n",
       "      <td>1877</td>\n",
       "      <td>6745</td>\n",
       "      <td>4365</td>\n",
       "      <td>1741</td>\n",
       "      <td>7881</td>\n",
       "      <td>AFG</td>\n",
       "      <td>South Asia</td>\n",
       "      <td>Low income</td>\n",
       "      <td>Afghanistan</td>\n",
       "    </tr>\n",
       "    <tr>\n",
       "      <th>4</th>\n",
       "      <td>Afghanistan</td>\n",
       "      <td>2018</td>\n",
       "      <td>Malignant neoplasms</td>\n",
       "      <td>15065</td>\n",
       "      <td>7337</td>\n",
       "      <td>27401</td>\n",
       "      <td>7534</td>\n",
       "      <td>3766</td>\n",
       "      <td>13454</td>\n",
       "      <td>7531</td>\n",
       "      <td>3570</td>\n",
       "      <td>13948</td>\n",
       "      <td>AFG</td>\n",
       "      <td>South Asia</td>\n",
       "      <td>Low income</td>\n",
       "      <td>Afghanistan</td>\n",
       "    </tr>\n",
       "    <tr>\n",
       "      <th>...</th>\n",
       "      <td>...</td>\n",
       "      <td>...</td>\n",
       "      <td>...</td>\n",
       "      <td>...</td>\n",
       "      <td>...</td>\n",
       "      <td>...</td>\n",
       "      <td>...</td>\n",
       "      <td>...</td>\n",
       "      <td>...</td>\n",
       "      <td>...</td>\n",
       "      <td>...</td>\n",
       "      <td>...</td>\n",
       "      <td>...</td>\n",
       "      <td>...</td>\n",
       "      <td>...</td>\n",
       "      <td>...</td>\n",
       "    </tr>\n",
       "    <tr>\n",
       "      <th>13195</th>\n",
       "      <td>Zimbabwe</td>\n",
       "      <td>2001</td>\n",
       "      <td>Chronic respiratory diseases</td>\n",
       "      <td>1884</td>\n",
       "      <td>1044</td>\n",
       "      <td>3046</td>\n",
       "      <td>996</td>\n",
       "      <td>603</td>\n",
       "      <td>1513</td>\n",
       "      <td>887</td>\n",
       "      <td>441</td>\n",
       "      <td>1533</td>\n",
       "      <td>ZWE</td>\n",
       "      <td>Sub-Saharan Africa</td>\n",
       "      <td>Lower middle income</td>\n",
       "      <td>Zimbabwe</td>\n",
       "    </tr>\n",
       "    <tr>\n",
       "      <th>13196</th>\n",
       "      <td>Zimbabwe</td>\n",
       "      <td>2000</td>\n",
       "      <td>Malignant neoplasms</td>\n",
       "      <td>7474</td>\n",
       "      <td>4592</td>\n",
       "      <td>11441</td>\n",
       "      <td>3838</td>\n",
       "      <td>2512</td>\n",
       "      <td>5647</td>\n",
       "      <td>3636</td>\n",
       "      <td>2080</td>\n",
       "      <td>5794</td>\n",
       "      <td>ZWE</td>\n",
       "      <td>Sub-Saharan Africa</td>\n",
       "      <td>Lower middle income</td>\n",
       "      <td>Zimbabwe</td>\n",
       "    </tr>\n",
       "    <tr>\n",
       "      <th>13197</th>\n",
       "      <td>Zimbabwe</td>\n",
       "      <td>2000</td>\n",
       "      <td>Diabetes mellitus</td>\n",
       "      <td>2039</td>\n",
       "      <td>1227</td>\n",
       "      <td>3219</td>\n",
       "      <td>810</td>\n",
       "      <td>507</td>\n",
       "      <td>1246</td>\n",
       "      <td>1229</td>\n",
       "      <td>720</td>\n",
       "      <td>1972</td>\n",
       "      <td>ZWE</td>\n",
       "      <td>Sub-Saharan Africa</td>\n",
       "      <td>Lower middle income</td>\n",
       "      <td>Zimbabwe</td>\n",
       "    </tr>\n",
       "    <tr>\n",
       "      <th>13198</th>\n",
       "      <td>Zimbabwe</td>\n",
       "      <td>2000</td>\n",
       "      <td>Cardiovascular diseases</td>\n",
       "      <td>10368</td>\n",
       "      <td>6335</td>\n",
       "      <td>16076</td>\n",
       "      <td>4425</td>\n",
       "      <td>2818</td>\n",
       "      <td>6837</td>\n",
       "      <td>5943</td>\n",
       "      <td>3516</td>\n",
       "      <td>9239</td>\n",
       "      <td>ZWE</td>\n",
       "      <td>Sub-Saharan Africa</td>\n",
       "      <td>Lower middle income</td>\n",
       "      <td>Zimbabwe</td>\n",
       "    </tr>\n",
       "    <tr>\n",
       "      <th>13199</th>\n",
       "      <td>Zimbabwe</td>\n",
       "      <td>2000</td>\n",
       "      <td>Chronic respiratory diseases</td>\n",
       "      <td>1861</td>\n",
       "      <td>1039</td>\n",
       "      <td>2993</td>\n",
       "      <td>983</td>\n",
       "      <td>605</td>\n",
       "      <td>1481</td>\n",
       "      <td>878</td>\n",
       "      <td>435</td>\n",
       "      <td>1513</td>\n",
       "      <td>ZWE</td>\n",
       "      <td>Sub-Saharan Africa</td>\n",
       "      <td>Lower middle income</td>\n",
       "      <td>Zimbabwe</td>\n",
       "    </tr>\n",
       "  </tbody>\n",
       "</table>\n",
       "<p>13200 rows × 16 columns</p>\n",
       "</div>"
      ],
      "text/plain": [
       "           Country  Year                        Causes  Both sexes_recent  \\\n",
       "0      Afghanistan  2019           Malignant neoplasms              15565   \n",
       "1      Afghanistan  2019             Diabetes mellitus               8060   \n",
       "2      Afghanistan  2019       Cardiovascular diseases              71264   \n",
       "3      Afghanistan  2019  Chronic respiratory diseases               8285   \n",
       "4      Afghanistan  2018           Malignant neoplasms              15065   \n",
       "...            ...   ...                           ...                ...   \n",
       "13195     Zimbabwe  2001  Chronic respiratory diseases               1884   \n",
       "13196     Zimbabwe  2000           Malignant neoplasms               7474   \n",
       "13197     Zimbabwe  2000             Diabetes mellitus               2039   \n",
       "13198     Zimbabwe  2000       Cardiovascular diseases              10368   \n",
       "13199     Zimbabwe  2000  Chronic respiratory diseases               1861   \n",
       "\n",
       "       Both sexes_min  Both sexes_max  Male_recent  Male_min  Male_max  \\\n",
       "0                7609           28280         7756      3898     13841   \n",
       "1                3827           14468         2612      1377      4651   \n",
       "2               42413          108472        33793     20550     51028   \n",
       "3                3618           14626         3920      1877      6745   \n",
       "4                7337           27401         7534      3766     13454   \n",
       "...               ...             ...          ...       ...       ...   \n",
       "13195            1044            3046          996       603      1513   \n",
       "13196            4592           11441         3838      2512      5647   \n",
       "13197            1227            3219          810       507      1246   \n",
       "13198            6335           16076         4425      2818      6837   \n",
       "13199            1039            2993          983       605      1481   \n",
       "\n",
       "       Female_recent  Female_min  Female_max Country Code              Region  \\\n",
       "0               7809        3711       14439          AFG          South Asia   \n",
       "1               5448        2451        9817          AFG          South Asia   \n",
       "2              37471       21863       57444          AFG          South Asia   \n",
       "3               4365        1741        7881          AFG          South Asia   \n",
       "4               7531        3570       13948          AFG          South Asia   \n",
       "...              ...         ...         ...          ...                 ...   \n",
       "13195            887         441        1533          ZWE  Sub-Saharan Africa   \n",
       "13196           3636        2080        5794          ZWE  Sub-Saharan Africa   \n",
       "13197           1229         720        1972          ZWE  Sub-Saharan Africa   \n",
       "13198           5943        3516        9239          ZWE  Sub-Saharan Africa   \n",
       "13199            878         435        1513          ZWE  Sub-Saharan Africa   \n",
       "\n",
       "               IncomeGroup    TableName  \n",
       "0               Low income  Afghanistan  \n",
       "1               Low income  Afghanistan  \n",
       "2               Low income  Afghanistan  \n",
       "3               Low income  Afghanistan  \n",
       "4               Low income  Afghanistan  \n",
       "...                    ...          ...  \n",
       "13195  Lower middle income     Zimbabwe  \n",
       "13196  Lower middle income     Zimbabwe  \n",
       "13197  Lower middle income     Zimbabwe  \n",
       "13198  Lower middle income     Zimbabwe  \n",
       "13199  Lower middle income     Zimbabwe  \n",
       "\n",
       "[13200 rows x 16 columns]"
      ]
     },
     "execution_count": 56,
     "metadata": {},
     "output_type": "execute_result"
    }
   ],
   "source": [
    "df_rearanged.merge(df_gdp,how=\"inner\", left_on=\"Country\", right_on=\"TableName\")"
   ]
  },
  {
   "cell_type": "code",
   "execution_count": 57,
   "metadata": {
    "colab": {
     "base_uri": "https://localhost:8080/"
    },
    "id": "P76beNo-Q-8e",
    "outputId": "2157a0fb-c491-48b4-9d1f-18d3b2d4e9d6"
   },
   "outputs": [
    {
     "name": "stdout",
     "output_type": "stream",
     "text": [
      "19 MISMATCH(ES) BETWEEN THOSE DATAFRAMES\n"
     ]
    }
   ],
   "source": [
    "mismatch(True)"
   ]
  },
  {
   "cell_type": "code",
   "execution_count": 58,
   "metadata": {
    "colab": {
     "base_uri": "https://localhost:8080/"
    },
    "id": "VSroOsNLYYgU",
    "outputId": "63c44b84-fd7e-42bd-ba59-85e26c8ab176"
   },
   "outputs": [
    {
     "name": "stdout",
     "output_type": "stream",
     "text": [
      "out : Bolivia (Plurinational State of)\n",
      "out : Czechia\n",
      "out : Democratic People's Republic of Korea\n",
      "out : Democratic Republic of the Congo\n",
      "out : Iran (Islamic Republic of)\n",
      "out : Kyrgyzstan\n",
      "out : Lao People's Democratic Republic\n",
      "out : Micronesia (Federated States of)\n",
      "out : Republic of Korea\n",
      "out : Republic of Moldova\n",
      "out : Saint Lucia\n",
      "out : Saint Vincent and the Grenadines\n",
      "out : Sao Tome and Principe\n",
      "out : Slovakia\n",
      "out : United Kingdom of Great Britain and Northern Ireland\n",
      "out : United Republic of Tanzania\n",
      "out : United States of America\n",
      "out : Venezuela (Bolivarian Republic of)\n",
      "out : Viet Nam\n",
      "19 MISMATCH(ES) BETWEEN THOSE DATAFRAMES\n"
     ]
    }
   ],
   "source": [
    "mismatch()"
   ]
  },
  {
   "cell_type": "code",
   "execution_count": 59,
   "metadata": {
    "colab": {
     "base_uri": "https://localhost:8080/",
     "height": 107
    },
    "id": "ikayOTgAh6a0",
    "outputId": "a10dfa4f-2671-40d4-ec0d-41506e5c8c69"
   },
   "outputs": [
    {
     "data": {
      "text/html": [
       "<div>\n",
       "<style scoped>\n",
       "    .dataframe tbody tr th:only-of-type {\n",
       "        vertical-align: middle;\n",
       "    }\n",
       "\n",
       "    .dataframe tbody tr th {\n",
       "        vertical-align: top;\n",
       "    }\n",
       "\n",
       "    .dataframe thead th {\n",
       "        text-align: right;\n",
       "    }\n",
       "</style>\n",
       "<table border=\"1\" class=\"dataframe\">\n",
       "  <thead>\n",
       "    <tr style=\"text-align: right;\">\n",
       "      <th></th>\n",
       "      <th>Country Code</th>\n",
       "      <th>Region</th>\n",
       "      <th>IncomeGroup</th>\n",
       "      <th>TableName</th>\n",
       "    </tr>\n",
       "  </thead>\n",
       "  <tbody>\n",
       "    <tr>\n",
       "      <th>123</th>\n",
       "      <td>KOR</td>\n",
       "      <td>East Asia &amp; Pacific</td>\n",
       "      <td>High income</td>\n",
       "      <td>Korea</td>\n",
       "    </tr>\n",
       "    <tr>\n",
       "      <th>190</th>\n",
       "      <td>PRK</td>\n",
       "      <td>East Asia &amp; Pacific</td>\n",
       "      <td>Low income</td>\n",
       "      <td>Korea</td>\n",
       "    </tr>\n",
       "  </tbody>\n",
       "</table>\n",
       "</div>"
      ],
      "text/plain": [
       "    Country Code               Region  IncomeGroup TableName\n",
       "123          KOR  East Asia & Pacific  High income     Korea\n",
       "190          PRK  East Asia & Pacific   Low income     Korea"
      ]
     },
     "execution_count": 59,
     "metadata": {},
     "output_type": "execute_result"
    }
   ],
   "source": [
    "df_gdp[df_gdp.TableName == \"Korea\"]"
   ]
  },
  {
   "cell_type": "code",
   "execution_count": 60,
   "metadata": {
    "id": "1FG25ktnx7iV"
   },
   "outputs": [],
   "source": [
    "df_gdp.loc[(df_gdp.TableName == \"Korea\") & (df_gdp[\"Country Code\"] == \"KOR\"), \"TableName\" ] = \"Republic of Korea\"\n",
    "\n",
    "df_gdp.loc[(df_gdp.TableName == \"Korea\") & (df_gdp[\"Country Code\"] == \"PRK\"), \"TableName\" ] = \"Democratic People's Republic of Korea\""
   ]
  },
  {
   "cell_type": "code",
   "execution_count": 61,
   "metadata": {
    "colab": {
     "base_uri": "https://localhost:8080/"
    },
    "id": "0fD-8Npkzg1J",
    "outputId": "e24d0256-fe49-474a-ba29-acadcc53d08d"
   },
   "outputs": [
    {
     "name": "stdout",
     "output_type": "stream",
     "text": [
      "out : Bolivia (Plurinational State of)\n",
      "out : Czechia\n",
      "out : Democratic Republic of the Congo\n",
      "out : Iran (Islamic Republic of)\n",
      "out : Kyrgyzstan\n",
      "out : Lao People's Democratic Republic\n",
      "out : Micronesia (Federated States of)\n",
      "out : Republic of Moldova\n",
      "out : Saint Lucia\n",
      "out : Saint Vincent and the Grenadines\n",
      "out : Sao Tome and Principe\n",
      "out : Slovakia\n",
      "out : United Kingdom of Great Britain and Northern Ireland\n",
      "out : United Republic of Tanzania\n",
      "out : United States of America\n",
      "out : Venezuela (Bolivarian Republic of)\n",
      "out : Viet Nam\n",
      "17 MISMATCH(ES) BETWEEN THOSE DATAFRAMES\n"
     ]
    }
   ],
   "source": [
    "mismatch()"
   ]
  },
  {
   "cell_type": "code",
   "execution_count": 62,
   "metadata": {
    "colab": {
     "base_uri": "https://localhost:8080/"
    },
    "id": "_nPO1COJ0S46",
    "outputId": "46ce5faf-d022-4eb8-f3e1-d6443db2ced1"
   },
   "outputs": [
    {
     "data": {
      "text/plain": [
       "183"
      ]
     },
     "execution_count": 62,
     "metadata": {},
     "output_type": "execute_result"
    }
   ],
   "source": [
    "df_rearanged.Country.nunique()"
   ]
  },
  {
   "cell_type": "code",
   "execution_count": 63,
   "metadata": {
    "colab": {
     "base_uri": "https://localhost:8080/"
    },
    "id": "_-wBaV5x3uEG",
    "outputId": "f8d5ac31-635c-42b5-ef86-01aeb371a285"
   },
   "outputs": [
    {
     "data": {
      "text/plain": [
       "array(['Aruba', 'Afghanistan', 'Angola', 'Albania', 'Andorra',\n",
       "       'United Arab Emirates', 'Argentina', 'Armenia', 'American Samoa',\n",
       "       'Antigua and Barbuda', 'Australia', 'Austria', 'Azerbaijan',\n",
       "       'Burundi', 'Belgium', 'Benin', 'Burkina Faso', 'Bangladesh',\n",
       "       'Bulgaria', 'Bahrain', 'Bahamas', 'Bosnia and Herzegovina',\n",
       "       'Belarus', 'Belize', 'Bermuda', 'Bolivia', 'Brazil', 'Barbados',\n",
       "       'Brunei Darussalam', 'Bhutan', 'Botswana',\n",
       "       'Central African Republic', 'Canada', 'Switzerland',\n",
       "       'Channel Islands', 'Chile', 'China', \"Côte d'Ivoire\", 'Cameroon',\n",
       "       'Congo', 'Colombia', 'Comoros', 'Cabo Verde', 'Costa Rica', 'Cuba',\n",
       "       'Curaçao', 'Cayman Islands', 'Cyprus', 'Czech Republic', 'Germany',\n",
       "       'Djibouti', 'Dominica', 'Denmark', 'Dominican Republic', 'Algeria',\n",
       "       'Ecuador', 'Egypt', 'Eritrea', 'Spain', 'Estonia', 'Ethiopia',\n",
       "       'Finland', 'Fiji', 'France', 'Faroe Islands', 'Micronesia',\n",
       "       'Gabon', 'United Kingdom', 'Georgia', 'Ghana', 'Gibraltar',\n",
       "       'Guinea', 'Gambia', 'Guinea-Bissau', 'Equatorial Guinea', 'Greece',\n",
       "       'Grenada', 'Greenland', 'Guatemala', 'Guam', 'Guyana',\n",
       "       'Hong Kong SAR', 'Honduras', 'Croatia', 'Haiti', 'Hungary',\n",
       "       'Indonesia', 'Isle of Man', 'India', 'Ireland', 'Iran', 'Iraq',\n",
       "       'Iceland', 'Israel', 'Italy', 'Jamaica', 'Jordan', 'Japan',\n",
       "       'Kazakhstan', 'Kenya', 'Kyrgyz Republic', 'Cambodia', 'Kiribati',\n",
       "       'St. Kitts and Nevis', 'Republic of Korea', 'Kuwait', 'Lao PDR',\n",
       "       'Lebanon', 'Liberia', 'Libya', 'St. Lucia', 'Liechtenstein',\n",
       "       'Sri Lanka', 'Lesotho', 'Lithuania', 'Luxembourg', 'Latvia',\n",
       "       'Macao SAR', 'St. Martin (French part)', 'Morocco', 'Monaco',\n",
       "       'Moldova', 'Madagascar', 'Maldives', 'Mexico', 'Marshall Islands',\n",
       "       'North Macedonia', 'Mali', 'Malta', 'Myanmar', 'Montenegro',\n",
       "       'Mongolia', 'Northern Mariana Islands', 'Mozambique', 'Mauritania',\n",
       "       'Mauritius', 'Malawi', 'Malaysia', 'Namibia', 'New Caledonia',\n",
       "       'Niger', 'Nigeria', 'Nicaragua', 'Netherlands', 'Norway', 'Nepal',\n",
       "       'Nauru', 'New Zealand', 'Oman', 'Pakistan', 'Panama', 'Peru',\n",
       "       'Philippines', 'Palau', 'Papua New Guinea', 'Poland',\n",
       "       'Puerto Rico', \"Democratic People's Republic of Korea\", 'Portugal',\n",
       "       'Paraguay', 'West Bank and Gaza', 'French Polynesia', 'Qatar',\n",
       "       'Romania', 'Russian Federation', 'Rwanda', 'Saudi Arabia', 'Sudan',\n",
       "       'Senegal', 'Singapore', 'Solomon Islands', 'Sierra Leone',\n",
       "       'El Salvador', 'San Marino', 'Somalia', 'Serbia', 'South Sudan',\n",
       "       'São Tomé and Principe', 'Suriname', 'Slovak Republic', 'Slovenia',\n",
       "       'Sweden', 'Eswatini', 'Sint Maarten (Dutch part)', 'Seychelles',\n",
       "       'Syrian Arab Republic', 'Turks and Caicos Islands', 'Chad', 'Togo',\n",
       "       'Thailand', 'Tajikistan', 'Turkmenistan', 'Timor-Leste', 'Tonga',\n",
       "       'Trinidad and Tobago', 'Tunisia', 'Turkey', 'Tuvalu', 'Tanzania',\n",
       "       'Uganda', 'Ukraine', 'Uruguay', 'United States', 'Uzbekistan',\n",
       "       'St. Vincent and the Grenadines', 'Venezuela',\n",
       "       'British Virgin Islands', 'Virgin Islands (U.S.)', 'Vietnam',\n",
       "       'Vanuatu', 'Samoa', 'Kosovo', 'Yemen', 'South Africa', 'Zambia',\n",
       "       'Zimbabwe'], dtype=object)"
      ]
     },
     "execution_count": 63,
     "metadata": {},
     "output_type": "execute_result"
    }
   ],
   "source": [
    "df_gdp.TableName.unique()"
   ]
  },
  {
   "cell_type": "code",
   "execution_count": 64,
   "metadata": {
    "id": "noTJew-P0lSJ"
   },
   "outputs": [],
   "source": [
    "df_rearanged[\"Country\"] =  df_rearanged.Country.transform(lambda x : x.split(\"(\")[0].strip())"
   ]
  },
  {
   "cell_type": "code",
   "execution_count": 65,
   "metadata": {
    "colab": {
     "base_uri": "https://localhost:8080/"
    },
    "id": "g9kZCqRL1A09",
    "outputId": "92375ee6-9a0c-4a1a-dceb-3542411338a8"
   },
   "outputs": [
    {
     "name": "stdout",
     "output_type": "stream",
     "text": [
      "out : Czechia\n",
      "out : Democratic Republic of the Congo\n",
      "out : Kyrgyzstan\n",
      "out : Lao People's Democratic Republic\n",
      "out : Republic of Moldova\n",
      "out : Saint Lucia\n",
      "out : Saint Vincent and the Grenadines\n",
      "out : Sao Tome and Principe\n",
      "out : Slovakia\n",
      "out : United Kingdom of Great Britain and Northern Ireland\n",
      "out : United Republic of Tanzania\n",
      "out : United States of America\n",
      "out : Viet Nam\n",
      "13 MISMATCH(ES) BETWEEN THOSE DATAFRAMES\n"
     ]
    }
   ],
   "source": [
    "mismatch()"
   ]
  },
  {
   "cell_type": "code",
   "execution_count": 66,
   "metadata": {
    "colab": {
     "base_uri": "https://localhost:8080/",
     "height": 77
    },
    "id": "ocIxtLJL1bPu",
    "outputId": "e71ca20f-58b4-43ce-ecb5-3d40c49cc63b"
   },
   "outputs": [
    {
     "data": {
      "text/html": [
       "<div>\n",
       "<style scoped>\n",
       "    .dataframe tbody tr th:only-of-type {\n",
       "        vertical-align: middle;\n",
       "    }\n",
       "\n",
       "    .dataframe tbody tr th {\n",
       "        vertical-align: top;\n",
       "    }\n",
       "\n",
       "    .dataframe thead th {\n",
       "        text-align: right;\n",
       "    }\n",
       "</style>\n",
       "<table border=\"1\" class=\"dataframe\">\n",
       "  <thead>\n",
       "    <tr style=\"text-align: right;\">\n",
       "      <th></th>\n",
       "      <th>Country Code</th>\n",
       "      <th>Region</th>\n",
       "      <th>IncomeGroup</th>\n",
       "      <th>TableName</th>\n",
       "    </tr>\n",
       "  </thead>\n",
       "  <tbody>\n",
       "    <tr>\n",
       "      <th>218</th>\n",
       "      <td>SVK</td>\n",
       "      <td>Europe &amp; Central Asia</td>\n",
       "      <td>High income</td>\n",
       "      <td>Slovak Republic</td>\n",
       "    </tr>\n",
       "  </tbody>\n",
       "</table>\n",
       "</div>"
      ],
      "text/plain": [
       "    Country Code                 Region  IncomeGroup        TableName\n",
       "218          SVK  Europe & Central Asia  High income  Slovak Republic"
      ]
     },
     "execution_count": 66,
     "metadata": {},
     "output_type": "execute_result"
    }
   ],
   "source": [
    "df_gdp[df_gdp.TableName.str.contains(\"Slovak\")]"
   ]
  },
  {
   "cell_type": "code",
   "execution_count": 67,
   "metadata": {
    "id": "JTUqdKhr2Xie"
   },
   "outputs": [],
   "source": [
    "df_gdp.loc[df_gdp.TableName.str.contains(\"Slovak\"), \"TableName\"] = \"Slovakia\""
   ]
  },
  {
   "cell_type": "code",
   "execution_count": 68,
   "metadata": {
    "colab": {
     "base_uri": "https://localhost:8080/"
    },
    "id": "uLfJAt4w6vuu",
    "outputId": "dfcc2a80-37b4-4a92-ddb5-def81ca04731"
   },
   "outputs": [
    {
     "name": "stdout",
     "output_type": "stream",
     "text": [
      "out : Czechia\n",
      "out : Democratic Republic of the Congo\n",
      "out : Kyrgyzstan\n",
      "out : Lao People's Democratic Republic\n",
      "out : Republic of Moldova\n",
      "out : Saint Lucia\n",
      "out : Saint Vincent and the Grenadines\n",
      "out : Sao Tome and Principe\n",
      "out : United Kingdom of Great Britain and Northern Ireland\n",
      "out : United Republic of Tanzania\n",
      "out : United States of America\n",
      "out : Viet Nam\n",
      "12 MISMATCH(ES) BETWEEN THOSE DATAFRAMES\n"
     ]
    }
   ],
   "source": [
    "mismatch()"
   ]
  },
  {
   "cell_type": "code",
   "execution_count": 69,
   "metadata": {
    "colab": {
     "base_uri": "https://localhost:8080/",
     "height": 47
    },
    "id": "lp0yrdoE9XRV",
    "outputId": "7e135dfa-2d00-48e5-f71e-09693ec4ff8a"
   },
   "outputs": [
    {
     "data": {
      "text/html": [
       "<div>\n",
       "<style scoped>\n",
       "    .dataframe tbody tr th:only-of-type {\n",
       "        vertical-align: middle;\n",
       "    }\n",
       "\n",
       "    .dataframe tbody tr th {\n",
       "        vertical-align: top;\n",
       "    }\n",
       "\n",
       "    .dataframe thead th {\n",
       "        text-align: right;\n",
       "    }\n",
       "</style>\n",
       "<table border=\"1\" class=\"dataframe\">\n",
       "  <thead>\n",
       "    <tr style=\"text-align: right;\">\n",
       "      <th></th>\n",
       "      <th>Country Code</th>\n",
       "      <th>Region</th>\n",
       "      <th>IncomeGroup</th>\n",
       "      <th>TableName</th>\n",
       "    </tr>\n",
       "  </thead>\n",
       "  <tbody>\n",
       "  </tbody>\n",
       "</table>\n",
       "</div>"
      ],
      "text/plain": [
       "Empty DataFrame\n",
       "Columns: [Country Code, Region, IncomeGroup, TableName]\n",
       "Index: []"
      ]
     },
     "execution_count": 69,
     "metadata": {},
     "output_type": "execute_result"
    }
   ],
   "source": [
    "df_gdp[df_gdp.TableName.str.contains(\"Sao\")]"
   ]
  },
  {
   "cell_type": "code",
   "execution_count": 70,
   "metadata": {
    "colab": {
     "base_uri": "https://localhost:8080/",
     "height": 77
    },
    "id": "2xmN9Mzg6xss",
    "outputId": "9baff41d-a362-47ab-81f1-15ac328fcc70"
   },
   "outputs": [
    {
     "data": {
      "text/html": [
       "<div>\n",
       "<style scoped>\n",
       "    .dataframe tbody tr th:only-of-type {\n",
       "        vertical-align: middle;\n",
       "    }\n",
       "\n",
       "    .dataframe tbody tr th {\n",
       "        vertical-align: top;\n",
       "    }\n",
       "\n",
       "    .dataframe thead th {\n",
       "        text-align: right;\n",
       "    }\n",
       "</style>\n",
       "<table border=\"1\" class=\"dataframe\">\n",
       "  <thead>\n",
       "    <tr style=\"text-align: right;\">\n",
       "      <th></th>\n",
       "      <th>Country Code</th>\n",
       "      <th>Region</th>\n",
       "      <th>IncomeGroup</th>\n",
       "      <th>TableName</th>\n",
       "    </tr>\n",
       "  </thead>\n",
       "  <tbody>\n",
       "    <tr>\n",
       "      <th>216</th>\n",
       "      <td>STP</td>\n",
       "      <td>Sub-Saharan Africa</td>\n",
       "      <td>Lower middle income</td>\n",
       "      <td>São Tomé and Principe</td>\n",
       "    </tr>\n",
       "  </tbody>\n",
       "</table>\n",
       "</div>"
      ],
      "text/plain": [
       "    Country Code              Region          IncomeGroup  \\\n",
       "216          STP  Sub-Saharan Africa  Lower middle income   \n",
       "\n",
       "                 TableName  \n",
       "216  São Tomé and Principe  "
      ]
     },
     "execution_count": 70,
     "metadata": {},
     "output_type": "execute_result"
    }
   ],
   "source": [
    "df_gdp[df_gdp.TableName.str.contains(\"Prin\")]"
   ]
  },
  {
   "cell_type": "code",
   "execution_count": 71,
   "metadata": {
    "id": "efOVOs5s7rGN"
   },
   "outputs": [],
   "source": [
    "df_gdp.loc[df_gdp.TableName.str.contains(\"Prin\"), \"TableName\"] = \"Sao Tome and Principe\""
   ]
  },
  {
   "cell_type": "code",
   "execution_count": 72,
   "metadata": {
    "colab": {
     "base_uri": "https://localhost:8080/"
    },
    "id": "GN087CMp8gXv",
    "outputId": "f966e077-4b83-4b89-f3e1-b36d8b4520f8"
   },
   "outputs": [
    {
     "name": "stdout",
     "output_type": "stream",
     "text": [
      "11 MISMATCH(ES) BETWEEN THOSE DATAFRAMES\n"
     ]
    }
   ],
   "source": [
    "mismatch(True)"
   ]
  },
  {
   "cell_type": "code",
   "execution_count": 73,
   "metadata": {
    "colab": {
     "base_uri": "https://localhost:8080/",
     "height": 107
    },
    "id": "Nra1JRC-86PC",
    "outputId": "2b011870-b103-45d1-fb44-c400e47066a6"
   },
   "outputs": [
    {
     "data": {
      "text/html": [
       "<div>\n",
       "<style scoped>\n",
       "    .dataframe tbody tr th:only-of-type {\n",
       "        vertical-align: middle;\n",
       "    }\n",
       "\n",
       "    .dataframe tbody tr th {\n",
       "        vertical-align: top;\n",
       "    }\n",
       "\n",
       "    .dataframe thead th {\n",
       "        text-align: right;\n",
       "    }\n",
       "</style>\n",
       "<table border=\"1\" class=\"dataframe\">\n",
       "  <thead>\n",
       "    <tr style=\"text-align: right;\">\n",
       "      <th></th>\n",
       "      <th>Country Code</th>\n",
       "      <th>Region</th>\n",
       "      <th>IncomeGroup</th>\n",
       "      <th>TableName</th>\n",
       "    </tr>\n",
       "  </thead>\n",
       "  <tbody>\n",
       "    <tr>\n",
       "      <th>41</th>\n",
       "      <td>COD</td>\n",
       "      <td>Sub-Saharan Africa</td>\n",
       "      <td>Low income</td>\n",
       "      <td>Congo</td>\n",
       "    </tr>\n",
       "    <tr>\n",
       "      <th>42</th>\n",
       "      <td>COG</td>\n",
       "      <td>Sub-Saharan Africa</td>\n",
       "      <td>Lower middle income</td>\n",
       "      <td>Congo</td>\n",
       "    </tr>\n",
       "  </tbody>\n",
       "</table>\n",
       "</div>"
      ],
      "text/plain": [
       "   Country Code              Region          IncomeGroup TableName\n",
       "41          COD  Sub-Saharan Africa           Low income     Congo\n",
       "42          COG  Sub-Saharan Africa  Lower middle income     Congo"
      ]
     },
     "execution_count": 73,
     "metadata": {},
     "output_type": "execute_result"
    }
   ],
   "source": [
    "df_gdp[df_gdp.TableName.str.contains(\"Congo\")]"
   ]
  },
  {
   "cell_type": "code",
   "execution_count": 74,
   "metadata": {
    "id": "pSJpustt8lFd"
   },
   "outputs": [],
   "source": [
    "df_gdp.loc[((df_gdp.TableName.str.contains(\"Congo\")) & (df_gdp[\"Country Code\"] == \"COD\")), \"TableName\"] = \"Democratic Republic of the Congo\""
   ]
  },
  {
   "cell_type": "code",
   "execution_count": 75,
   "metadata": {
    "colab": {
     "base_uri": "https://localhost:8080/"
    },
    "id": "cYFVPfuf8zBs",
    "outputId": "684ceaaa-071c-4fd3-a511-e028a8f319c0"
   },
   "outputs": [
    {
     "name": "stdout",
     "output_type": "stream",
     "text": [
      "out : Czechia\n",
      "out : Kyrgyzstan\n",
      "out : Lao People's Democratic Republic\n",
      "out : Republic of Moldova\n",
      "out : Saint Lucia\n",
      "out : Saint Vincent and the Grenadines\n",
      "out : United Kingdom of Great Britain and Northern Ireland\n",
      "out : United Republic of Tanzania\n",
      "out : United States of America\n",
      "out : Viet Nam\n",
      "10 MISMATCH(ES) BETWEEN THOSE DATAFRAMES\n"
     ]
    }
   ],
   "source": [
    "mismatch()"
   ]
  },
  {
   "cell_type": "code",
   "execution_count": 76,
   "metadata": {
    "colab": {
     "base_uri": "https://localhost:8080/",
     "height": 77
    },
    "id": "sf5p6ubu81n9",
    "outputId": "be764272-b87a-43df-a816-5249d4b60b94"
   },
   "outputs": [
    {
     "data": {
      "text/html": [
       "<div>\n",
       "<style scoped>\n",
       "    .dataframe tbody tr th:only-of-type {\n",
       "        vertical-align: middle;\n",
       "    }\n",
       "\n",
       "    .dataframe tbody tr th {\n",
       "        vertical-align: top;\n",
       "    }\n",
       "\n",
       "    .dataframe thead th {\n",
       "        text-align: right;\n",
       "    }\n",
       "</style>\n",
       "<table border=\"1\" class=\"dataframe\">\n",
       "  <thead>\n",
       "    <tr style=\"text-align: right;\">\n",
       "      <th></th>\n",
       "      <th>Country Code</th>\n",
       "      <th>Region</th>\n",
       "      <th>IncomeGroup</th>\n",
       "      <th>TableName</th>\n",
       "    </tr>\n",
       "  </thead>\n",
       "  <tbody>\n",
       "    <tr>\n",
       "      <th>130</th>\n",
       "      <td>LCA</td>\n",
       "      <td>Latin America &amp; Caribbean</td>\n",
       "      <td>Upper middle income</td>\n",
       "      <td>St. Lucia</td>\n",
       "    </tr>\n",
       "  </tbody>\n",
       "</table>\n",
       "</div>"
      ],
      "text/plain": [
       "    Country Code                     Region          IncomeGroup  TableName\n",
       "130          LCA  Latin America & Caribbean  Upper middle income  St. Lucia"
      ]
     },
     "execution_count": 76,
     "metadata": {},
     "output_type": "execute_result"
    }
   ],
   "source": [
    "df_gdp[df_gdp.TableName.str.contains(\"Lucia\")]"
   ]
  },
  {
   "cell_type": "code",
   "execution_count": 77,
   "metadata": {
    "id": "oDoX0EcCA0Ve"
   },
   "outputs": [],
   "source": [
    "df_gdp.loc[df_gdp.TableName.str.contains(\"Lucia\"), \"TableName\"] = \"Saint Lucia\""
   ]
  },
  {
   "cell_type": "code",
   "execution_count": 78,
   "metadata": {
    "colab": {
     "base_uri": "https://localhost:8080/"
    },
    "id": "B-jAV6LVBE1-",
    "outputId": "aeed42a2-6b5b-4311-c74a-d7ca9487bf67"
   },
   "outputs": [
    {
     "name": "stdout",
     "output_type": "stream",
     "text": [
      "out : Czechia\n",
      "out : Kyrgyzstan\n",
      "out : Lao People's Democratic Republic\n",
      "out : Republic of Moldova\n",
      "out : Saint Vincent and the Grenadines\n",
      "out : United Kingdom of Great Britain and Northern Ireland\n",
      "out : United Republic of Tanzania\n",
      "out : United States of America\n",
      "out : Viet Nam\n",
      "9 MISMATCH(ES) BETWEEN THOSE DATAFRAMES\n"
     ]
    }
   ],
   "source": [
    "mismatch()"
   ]
  },
  {
   "cell_type": "code",
   "execution_count": 79,
   "metadata": {
    "id": "_Sw68g35BGev"
   },
   "outputs": [],
   "source": [
    "def finder(value = \"\"):\n",
    "  if df_gdp.TableName.str.contains(value).sum():\n",
    "    print(df_gdp[df_gdp.TableName.str.contains(value)])\n",
    "  return df_rearanged[df_rearanged[\"Country\"].str.contains(value)][\"Country\"].values[0]"
   ]
  },
  {
   "cell_type": "code",
   "execution_count": 80,
   "metadata": {
    "colab": {
     "base_uri": "https://localhost:8080/",
     "height": 67
    },
    "id": "6PRKtkTrBjql",
    "outputId": "35393dc8-7b2f-43b3-cd80-8c7852168440"
   },
   "outputs": [
    {
     "name": "stdout",
     "output_type": "stream",
     "text": [
      "   Country Code                 Region  IncomeGroup       TableName\n",
      "52          CZE  Europe & Central Asia  High income  Czech Republic\n"
     ]
    },
    {
     "data": {
      "text/plain": [
       "'Czechia'"
      ]
     },
     "execution_count": 80,
     "metadata": {},
     "output_type": "execute_result"
    }
   ],
   "source": [
    "finder(\"Czec\")"
   ]
  },
  {
   "cell_type": "code",
   "execution_count": 81,
   "metadata": {
    "id": "3wDj_vPYBoAu"
   },
   "outputs": [],
   "source": [
    "def changer(last_val =\"\", first_val=\"\"):\n",
    "  df_gdp.loc[df_gdp.TableName.str.contains(first_val), \"TableName\"] = last_val"
   ]
  },
  {
   "cell_type": "code",
   "execution_count": 82,
   "metadata": {
    "colab": {
     "base_uri": "https://localhost:8080/"
    },
    "id": "fIC4G4stFIrf",
    "outputId": "2ffeecd3-b90f-44fa-d111-7a5176b4f8cf"
   },
   "outputs": [
    {
     "name": "stdout",
     "output_type": "stream",
     "text": [
      "   Country Code                 Region  IncomeGroup       TableName\n",
      "52          CZE  Europe & Central Asia  High income  Czech Republic\n"
     ]
    }
   ],
   "source": [
    "changer(last_val=finder(\"Czec\"),first_val=\"Czec\")"
   ]
  },
  {
   "cell_type": "code",
   "execution_count": 83,
   "metadata": {
    "colab": {
     "base_uri": "https://localhost:8080/"
    },
    "id": "BaCcJ3FfFpRD",
    "outputId": "cf155cd7-b1bb-4b8f-9dde-c11dcfaf4cf9"
   },
   "outputs": [
    {
     "name": "stdout",
     "output_type": "stream",
     "text": [
      "out : Kyrgyzstan\n",
      "out : Lao People's Democratic Republic\n",
      "out : Republic of Moldova\n",
      "out : Saint Vincent and the Grenadines\n",
      "out : United Kingdom of Great Britain and Northern Ireland\n",
      "out : United Republic of Tanzania\n",
      "out : United States of America\n",
      "out : Viet Nam\n",
      "8 MISMATCH(ES) BETWEEN THOSE DATAFRAMES\n"
     ]
    }
   ],
   "source": [
    "mismatch()"
   ]
  },
  {
   "cell_type": "code",
   "execution_count": 84,
   "metadata": {
    "colab": {
     "base_uri": "https://localhost:8080/",
     "height": 67
    },
    "id": "Q68CELuGHxKc",
    "outputId": "6e508b95-72dd-481a-b59c-edfe67c98379"
   },
   "outputs": [
    {
     "name": "stdout",
     "output_type": "stream",
     "text": [
      "    Country Code                 Region          IncomeGroup        TableName\n",
      "119          KGZ  Europe & Central Asia  Lower middle income  Kyrgyz Republic\n"
     ]
    },
    {
     "data": {
      "text/plain": [
       "'Kyrgyzstan'"
      ]
     },
     "execution_count": 84,
     "metadata": {},
     "output_type": "execute_result"
    }
   ],
   "source": [
    "finder(\"Kyrg\")"
   ]
  },
  {
   "cell_type": "code",
   "execution_count": 85,
   "metadata": {
    "colab": {
     "base_uri": "https://localhost:8080/"
    },
    "id": "NEooPEh78Fc0",
    "outputId": "06d2c1c0-f682-4b6f-e2a2-4db9d4e249d9"
   },
   "outputs": [
    {
     "name": "stdout",
     "output_type": "stream",
     "text": [
      "    Country Code                 Region          IncomeGroup        TableName\n",
      "119          KGZ  Europe & Central Asia  Lower middle income  Kyrgyz Republic\n"
     ]
    }
   ],
   "source": [
    "changer(finder(\"Kyrg\"), \"Kyrg\")"
   ]
  },
  {
   "cell_type": "code",
   "execution_count": 86,
   "metadata": {
    "colab": {
     "base_uri": "https://localhost:8080/"
    },
    "id": "7QlxvlQ08h3c",
    "outputId": "1b41ffc1-7623-4872-b4e0-cbb94882aec9"
   },
   "outputs": [
    {
     "name": "stdout",
     "output_type": "stream",
     "text": [
      "out : Lao People's Democratic Republic\n",
      "out : Republic of Moldova\n",
      "out : Saint Vincent and the Grenadines\n",
      "out : United Kingdom of Great Britain and Northern Ireland\n",
      "out : United Republic of Tanzania\n",
      "out : United States of America\n",
      "out : Viet Nam\n",
      "7 MISMATCH(ES) BETWEEN THOSE DATAFRAMES\n"
     ]
    }
   ],
   "source": [
    "mismatch()"
   ]
  },
  {
   "cell_type": "code",
   "execution_count": 87,
   "metadata": {
    "colab": {
     "base_uri": "https://localhost:8080/"
    },
    "id": "gfiel4pL8k7s",
    "outputId": "f6e14b0e-5225-4e77-a134-67ce01ddc061"
   },
   "outputs": [
    {
     "name": "stdout",
     "output_type": "stream",
     "text": [
      "    Country Code               Region          IncomeGroup TableName\n",
      "126          LAO  East Asia & Pacific  Lower middle income   Lao PDR\n"
     ]
    }
   ],
   "source": [
    "changer(finder(\"Lao\"), \"Lao\")"
   ]
  },
  {
   "cell_type": "code",
   "execution_count": 88,
   "metadata": {
    "colab": {
     "base_uri": "https://localhost:8080/"
    },
    "id": "Zw5a3zvA85Qg",
    "outputId": "2cbd913a-5a26-4455-954a-beb2726d0296"
   },
   "outputs": [
    {
     "name": "stdout",
     "output_type": "stream",
     "text": [
      "out : Republic of Moldova\n",
      "out : Saint Vincent and the Grenadines\n",
      "out : United Kingdom of Great Britain and Northern Ireland\n",
      "out : United Republic of Tanzania\n",
      "out : United States of America\n",
      "out : Viet Nam\n",
      "6 MISMATCH(ES) BETWEEN THOSE DATAFRAMES\n"
     ]
    }
   ],
   "source": [
    "mismatch()"
   ]
  },
  {
   "cell_type": "code",
   "execution_count": 89,
   "metadata": {
    "colab": {
     "base_uri": "https://localhost:8080/"
    },
    "id": "Owq7QBjp87GT",
    "outputId": "747a0255-dd5a-4d8e-e9a7-9b1f0916521b"
   },
   "outputs": [
    {
     "name": "stdout",
     "output_type": "stream",
     "text": [
      "    Country Code                 Region          IncomeGroup TableName\n",
      "147          MDA  Europe & Central Asia  Lower middle income   Moldova\n"
     ]
    }
   ],
   "source": [
    "changer(finder(\"Moldova\"), \"Moldova\")"
   ]
  },
  {
   "cell_type": "code",
   "execution_count": 90,
   "metadata": {
    "colab": {
     "base_uri": "https://localhost:8080/"
    },
    "id": "E1bFwsGz9I6E",
    "outputId": "537e5c63-e4d5-4c27-e92b-2d4b6ee0ebfb"
   },
   "outputs": [
    {
     "name": "stdout",
     "output_type": "stream",
     "text": [
      "out : Saint Vincent and the Grenadines\n",
      "out : United Kingdom of Great Britain and Northern Ireland\n",
      "out : United Republic of Tanzania\n",
      "out : United States of America\n",
      "out : Viet Nam\n",
      "5 MISMATCH(ES) BETWEEN THOSE DATAFRAMES\n"
     ]
    }
   ],
   "source": [
    "mismatch()"
   ]
  },
  {
   "cell_type": "code",
   "execution_count": 91,
   "metadata": {
    "colab": {
     "base_uri": "https://localhost:8080/"
    },
    "id": "AkALVeTm9PZr",
    "outputId": "29971b7b-ba7c-4d3a-e5f3-15da6e65592d"
   },
   "outputs": [
    {
     "name": "stdout",
     "output_type": "stream",
     "text": [
      "    Country Code                     Region          IncomeGroup  \\\n",
      "250          VCT  Latin America & Caribbean  Upper middle income   \n",
      "\n",
      "                          TableName  \n",
      "250  St. Vincent and the Grenadines  \n",
      "out : United Kingdom of Great Britain and Northern Ireland\n",
      "out : United Republic of Tanzania\n",
      "out : United States of America\n",
      "out : Viet Nam\n",
      "4 MISMATCH(ES) BETWEEN THOSE DATAFRAMES\n"
     ]
    }
   ],
   "source": [
    "changer(finder(\"Vincent\"), \"Vincent \")\n",
    "mismatch()"
   ]
  },
  {
   "cell_type": "code",
   "execution_count": 92,
   "metadata": {
    "colab": {
     "base_uri": "https://localhost:8080/"
    },
    "id": "hN3-Hc2u9dCT",
    "outputId": "7434a85f-c7eb-4f81-83e7-b5f802854ae1"
   },
   "outputs": [
    {
     "name": "stdout",
     "output_type": "stream",
     "text": [
      "   Country Code                 Region  IncomeGroup       TableName\n",
      "79          GBR  Europe & Central Asia  High income  United Kingdom\n",
      "out : United Republic of Tanzania\n",
      "out : United States of America\n",
      "out : Viet Nam\n",
      "3 MISMATCH(ES) BETWEEN THOSE DATAFRAMES\n"
     ]
    }
   ],
   "source": [
    "changer(finder(\"Kingdom\"), \"Kingdom\") #graat britain didnt work\n",
    "mismatch()"
   ]
  },
  {
   "cell_type": "code",
   "execution_count": 93,
   "metadata": {
    "colab": {
     "base_uri": "https://localhost:8080/"
    },
    "id": "KEa4PZIj9c_m",
    "outputId": "f6b4bf24-fec7-4a24-da3d-e48d2028916a"
   },
   "outputs": [
    {
     "name": "stdout",
     "output_type": "stream",
     "text": [
      "    Country Code              Region          IncomeGroup TableName\n",
      "243          TZA  Sub-Saharan Africa  Lower middle income  Tanzania\n",
      "out : United States of America\n",
      "out : Viet Nam\n",
      "2 MISMATCH(ES) BETWEEN THOSE DATAFRAMES\n"
     ]
    }
   ],
   "source": [
    "changer(finder(\"Tanz\"), \"Tanz\") \n",
    "mismatch()"
   ]
  },
  {
   "cell_type": "code",
   "execution_count": 94,
   "metadata": {
    "colab": {
     "base_uri": "https://localhost:8080/"
    },
    "id": "Lte73Yaa9c8v",
    "outputId": "8d83335b-f355-40b1-d88f-8d9b9e2ee3a0"
   },
   "outputs": [
    {
     "name": "stdout",
     "output_type": "stream",
     "text": [
      "    Country Code         Region  IncomeGroup      TableName\n",
      "248          USA  North America  High income  United States\n",
      "out : Viet Nam\n",
      "1 MISMATCH(ES) BETWEEN THOSE DATAFRAMES\n"
     ]
    }
   ],
   "source": [
    "changer(finder(\"State\"), \"State\")\n",
    "mismatch() "
   ]
  },
  {
   "cell_type": "code",
   "execution_count": 95,
   "metadata": {
    "colab": {
     "base_uri": "https://localhost:8080/"
    },
    "id": "vjY4C5ur9c6H",
    "outputId": "e20e9540-53c1-4d1f-a338-db9f709eeaaf"
   },
   "outputs": [
    {
     "name": "stdout",
     "output_type": "stream",
     "text": [
      "    Country Code               Region          IncomeGroup TableName\n",
      "254          VNM  East Asia & Pacific  Lower middle income   Vietnam\n",
      "0 MISMATCH(ES) BETWEEN THOSE DATAFRAMES\n"
     ]
    }
   ],
   "source": [
    "changer(finder(\"Viet\"), \"Viet\")\n",
    "mismatch() "
   ]
  },
  {
   "cell_type": "code",
   "execution_count": 96,
   "metadata": {
    "colab": {
     "base_uri": "https://localhost:8080/"
    },
    "id": "ha9xhNHe-67T",
    "outputId": "661a60cd-ddea-4817-acef-5db49780ad40"
   },
   "outputs": [
    {
     "name": "stdout",
     "output_type": "stream",
     "text": [
      "in : Afghanistan\n",
      "in : Albania\n",
      "in : Algeria\n",
      "in : Angola\n",
      "in : Antigua and Barbuda\n",
      "in : Argentina\n",
      "in : Armenia\n",
      "in : Australia\n",
      "in : Austria\n",
      "in : Azerbaijan\n",
      "in : Bahamas\n",
      "in : Bahrain\n",
      "in : Bangladesh\n",
      "in : Barbados\n",
      "in : Belarus\n",
      "in : Belgium\n",
      "in : Belize\n",
      "in : Benin\n",
      "in : Bhutan\n",
      "in : Bolivia\n",
      "in : Bosnia and Herzegovina\n",
      "in : Botswana\n",
      "in : Brazil\n",
      "in : Brunei Darussalam\n",
      "in : Bulgaria\n",
      "in : Burkina Faso\n",
      "in : Burundi\n",
      "in : Cabo Verde\n",
      "in : Cambodia\n",
      "in : Cameroon\n",
      "in : Canada\n",
      "in : Central African Republic\n",
      "in : Chad\n",
      "in : Chile\n",
      "in : China\n",
      "in : Colombia\n",
      "in : Comoros\n",
      "in : Congo\n",
      "in : Costa Rica\n",
      "in : Côte d'Ivoire\n",
      "in : Croatia\n",
      "in : Cuba\n",
      "in : Cyprus\n",
      "in : Czechia\n",
      "in : Democratic People's Republic of Korea\n",
      "in : Democratic Republic of the Congo\n",
      "in : Denmark\n",
      "in : Djibouti\n",
      "in : Dominican Republic\n",
      "in : Ecuador\n",
      "in : Egypt\n",
      "in : El Salvador\n",
      "in : Equatorial Guinea\n",
      "in : Eritrea\n",
      "in : Estonia\n",
      "in : Eswatini\n",
      "in : Ethiopia\n",
      "in : Fiji\n",
      "in : Finland\n",
      "in : France\n",
      "in : Gabon\n",
      "in : Gambia\n",
      "in : Georgia\n",
      "in : Germany\n",
      "in : Ghana\n",
      "in : Greece\n",
      "in : Grenada\n",
      "in : Guatemala\n",
      "in : Guinea\n",
      "in : Guinea-Bissau\n",
      "in : Guyana\n",
      "in : Haiti\n",
      "in : Honduras\n",
      "in : Hungary\n",
      "in : Iceland\n",
      "in : India\n",
      "in : Indonesia\n",
      "in : Iran\n",
      "in : Iraq\n",
      "in : Ireland\n",
      "in : Israel\n",
      "in : Italy\n",
      "in : Jamaica\n",
      "in : Japan\n",
      "in : Jordan\n",
      "in : Kazakhstan\n",
      "in : Kenya\n",
      "in : Kiribati\n",
      "in : Kuwait\n",
      "in : Kyrgyzstan\n",
      "in : Lao People's Democratic Republic\n",
      "in : Latvia\n",
      "in : Lebanon\n",
      "in : Lesotho\n",
      "in : Liberia\n",
      "in : Libya\n",
      "in : Lithuania\n",
      "in : Luxembourg\n",
      "in : Madagascar\n",
      "in : Malawi\n",
      "in : Malaysia\n",
      "in : Maldives\n",
      "in : Mali\n",
      "in : Malta\n",
      "in : Mauritania\n",
      "in : Mauritius\n",
      "in : Mexico\n",
      "in : Micronesia\n",
      "in : Mongolia\n",
      "in : Montenegro\n",
      "in : Morocco\n",
      "in : Mozambique\n",
      "in : Myanmar\n",
      "in : Namibia\n",
      "in : Nepal\n",
      "in : Netherlands\n",
      "in : New Zealand\n",
      "in : Nicaragua\n",
      "in : Niger\n",
      "in : Nigeria\n",
      "in : Norway\n",
      "in : Oman\n",
      "in : Pakistan\n",
      "in : Panama\n",
      "in : Papua New Guinea\n",
      "in : Paraguay\n",
      "in : Peru\n",
      "in : Philippines\n",
      "in : Poland\n",
      "in : Portugal\n",
      "in : Qatar\n",
      "in : Republic of Korea\n",
      "in : Republic of Moldova\n",
      "in : North Macedonia\n",
      "in : Romania\n",
      "in : Russian Federation\n",
      "in : Rwanda\n",
      "in : Saint Lucia\n",
      "in : Saint Vincent and the Grenadines\n",
      "in : Samoa\n",
      "in : Sao Tome and Principe\n",
      "in : Saudi Arabia\n",
      "in : Senegal\n",
      "in : Serbia\n",
      "in : Seychelles\n",
      "in : Sierra Leone\n",
      "in : Singapore\n",
      "in : Slovakia\n",
      "in : Slovenia\n",
      "in : Solomon Islands\n",
      "in : Somalia\n",
      "in : South Africa\n",
      "in : South Sudan\n",
      "in : Spain\n",
      "in : Sri Lanka\n",
      "in : Sudan\n",
      "in : Suriname\n",
      "in : Sweden\n",
      "in : Switzerland\n",
      "in : Syrian Arab Republic\n",
      "in : Tajikistan\n",
      "in : Thailand\n",
      "in : Timor-Leste\n",
      "in : Togo\n",
      "in : Tonga\n",
      "in : Trinidad and Tobago\n",
      "in : Tunisia\n",
      "in : Turkey\n",
      "in : Turkmenistan\n",
      "in : Uganda\n",
      "in : Ukraine\n",
      "in : United Arab Emirates\n",
      "in : United Kingdom of Great Britain and Northern Ireland\n",
      "in : United Republic of Tanzania\n",
      "in : United States of America\n",
      "in : Uruguay\n",
      "in : Uzbekistan\n",
      "in : Vanuatu\n",
      "in : Venezuela\n",
      "in : Viet Nam\n",
      "in : Yemen\n",
      "in : Zambia\n",
      "in : Zimbabwe\n",
      "0 MISMATCH(ES) BETWEEN THOSE DATAFRAMES\n"
     ]
    }
   ],
   "source": [
    "mismatch(only_out=False)"
   ]
  },
  {
   "cell_type": "markdown",
   "metadata": {
    "id": "J6Si9_pFAW34"
   },
   "source": [
    "# REMERGE"
   ]
  },
  {
   "cell_type": "code",
   "execution_count": 97,
   "metadata": {
    "colab": {
     "base_uri": "https://localhost:8080/",
     "height": 523
    },
    "id": "4cmOSuBt-_3N",
    "outputId": "c0b3778f-4809-4b45-e8ac-d1263a695dcb"
   },
   "outputs": [
    {
     "data": {
      "text/html": [
       "<div>\n",
       "<style scoped>\n",
       "    .dataframe tbody tr th:only-of-type {\n",
       "        vertical-align: middle;\n",
       "    }\n",
       "\n",
       "    .dataframe tbody tr th {\n",
       "        vertical-align: top;\n",
       "    }\n",
       "\n",
       "    .dataframe thead th {\n",
       "        text-align: right;\n",
       "    }\n",
       "</style>\n",
       "<table border=\"1\" class=\"dataframe\">\n",
       "  <thead>\n",
       "    <tr style=\"text-align: right;\">\n",
       "      <th></th>\n",
       "      <th>Country</th>\n",
       "      <th>Year</th>\n",
       "      <th>Causes</th>\n",
       "      <th>Both sexes_recent</th>\n",
       "      <th>Both sexes_min</th>\n",
       "      <th>Both sexes_max</th>\n",
       "      <th>Male_recent</th>\n",
       "      <th>Male_min</th>\n",
       "      <th>Male_max</th>\n",
       "      <th>Female_recent</th>\n",
       "      <th>Female_min</th>\n",
       "      <th>Female_max</th>\n",
       "      <th>Country Code</th>\n",
       "      <th>Region</th>\n",
       "      <th>IncomeGroup</th>\n",
       "      <th>TableName</th>\n",
       "    </tr>\n",
       "  </thead>\n",
       "  <tbody>\n",
       "    <tr>\n",
       "      <th>0</th>\n",
       "      <td>Afghanistan</td>\n",
       "      <td>2019</td>\n",
       "      <td>Malignant neoplasms</td>\n",
       "      <td>15565</td>\n",
       "      <td>7609</td>\n",
       "      <td>28280</td>\n",
       "      <td>7756</td>\n",
       "      <td>3898</td>\n",
       "      <td>13841</td>\n",
       "      <td>7809</td>\n",
       "      <td>3711</td>\n",
       "      <td>14439</td>\n",
       "      <td>AFG</td>\n",
       "      <td>South Asia</td>\n",
       "      <td>Low income</td>\n",
       "      <td>Afghanistan</td>\n",
       "    </tr>\n",
       "    <tr>\n",
       "      <th>1</th>\n",
       "      <td>Afghanistan</td>\n",
       "      <td>2019</td>\n",
       "      <td>Diabetes mellitus</td>\n",
       "      <td>8060</td>\n",
       "      <td>3827</td>\n",
       "      <td>14468</td>\n",
       "      <td>2612</td>\n",
       "      <td>1377</td>\n",
       "      <td>4651</td>\n",
       "      <td>5448</td>\n",
       "      <td>2451</td>\n",
       "      <td>9817</td>\n",
       "      <td>AFG</td>\n",
       "      <td>South Asia</td>\n",
       "      <td>Low income</td>\n",
       "      <td>Afghanistan</td>\n",
       "    </tr>\n",
       "    <tr>\n",
       "      <th>2</th>\n",
       "      <td>Afghanistan</td>\n",
       "      <td>2019</td>\n",
       "      <td>Cardiovascular diseases</td>\n",
       "      <td>71264</td>\n",
       "      <td>42413</td>\n",
       "      <td>108472</td>\n",
       "      <td>33793</td>\n",
       "      <td>20550</td>\n",
       "      <td>51028</td>\n",
       "      <td>37471</td>\n",
       "      <td>21863</td>\n",
       "      <td>57444</td>\n",
       "      <td>AFG</td>\n",
       "      <td>South Asia</td>\n",
       "      <td>Low income</td>\n",
       "      <td>Afghanistan</td>\n",
       "    </tr>\n",
       "    <tr>\n",
       "      <th>3</th>\n",
       "      <td>Afghanistan</td>\n",
       "      <td>2019</td>\n",
       "      <td>Chronic respiratory diseases</td>\n",
       "      <td>8285</td>\n",
       "      <td>3618</td>\n",
       "      <td>14626</td>\n",
       "      <td>3920</td>\n",
       "      <td>1877</td>\n",
       "      <td>6745</td>\n",
       "      <td>4365</td>\n",
       "      <td>1741</td>\n",
       "      <td>7881</td>\n",
       "      <td>AFG</td>\n",
       "      <td>South Asia</td>\n",
       "      <td>Low income</td>\n",
       "      <td>Afghanistan</td>\n",
       "    </tr>\n",
       "    <tr>\n",
       "      <th>4</th>\n",
       "      <td>Afghanistan</td>\n",
       "      <td>2018</td>\n",
       "      <td>Malignant neoplasms</td>\n",
       "      <td>15065</td>\n",
       "      <td>7337</td>\n",
       "      <td>27401</td>\n",
       "      <td>7534</td>\n",
       "      <td>3766</td>\n",
       "      <td>13454</td>\n",
       "      <td>7531</td>\n",
       "      <td>3570</td>\n",
       "      <td>13948</td>\n",
       "      <td>AFG</td>\n",
       "      <td>South Asia</td>\n",
       "      <td>Low income</td>\n",
       "      <td>Afghanistan</td>\n",
       "    </tr>\n",
       "    <tr>\n",
       "      <th>...</th>\n",
       "      <td>...</td>\n",
       "      <td>...</td>\n",
       "      <td>...</td>\n",
       "      <td>...</td>\n",
       "      <td>...</td>\n",
       "      <td>...</td>\n",
       "      <td>...</td>\n",
       "      <td>...</td>\n",
       "      <td>...</td>\n",
       "      <td>...</td>\n",
       "      <td>...</td>\n",
       "      <td>...</td>\n",
       "      <td>...</td>\n",
       "      <td>...</td>\n",
       "      <td>...</td>\n",
       "      <td>...</td>\n",
       "    </tr>\n",
       "    <tr>\n",
       "      <th>14635</th>\n",
       "      <td>Zimbabwe</td>\n",
       "      <td>2001</td>\n",
       "      <td>Chronic respiratory diseases</td>\n",
       "      <td>1884</td>\n",
       "      <td>1044</td>\n",
       "      <td>3046</td>\n",
       "      <td>996</td>\n",
       "      <td>603</td>\n",
       "      <td>1513</td>\n",
       "      <td>887</td>\n",
       "      <td>441</td>\n",
       "      <td>1533</td>\n",
       "      <td>ZWE</td>\n",
       "      <td>Sub-Saharan Africa</td>\n",
       "      <td>Lower middle income</td>\n",
       "      <td>Zimbabwe</td>\n",
       "    </tr>\n",
       "    <tr>\n",
       "      <th>14636</th>\n",
       "      <td>Zimbabwe</td>\n",
       "      <td>2000</td>\n",
       "      <td>Malignant neoplasms</td>\n",
       "      <td>7474</td>\n",
       "      <td>4592</td>\n",
       "      <td>11441</td>\n",
       "      <td>3838</td>\n",
       "      <td>2512</td>\n",
       "      <td>5647</td>\n",
       "      <td>3636</td>\n",
       "      <td>2080</td>\n",
       "      <td>5794</td>\n",
       "      <td>ZWE</td>\n",
       "      <td>Sub-Saharan Africa</td>\n",
       "      <td>Lower middle income</td>\n",
       "      <td>Zimbabwe</td>\n",
       "    </tr>\n",
       "    <tr>\n",
       "      <th>14637</th>\n",
       "      <td>Zimbabwe</td>\n",
       "      <td>2000</td>\n",
       "      <td>Diabetes mellitus</td>\n",
       "      <td>2039</td>\n",
       "      <td>1227</td>\n",
       "      <td>3219</td>\n",
       "      <td>810</td>\n",
       "      <td>507</td>\n",
       "      <td>1246</td>\n",
       "      <td>1229</td>\n",
       "      <td>720</td>\n",
       "      <td>1972</td>\n",
       "      <td>ZWE</td>\n",
       "      <td>Sub-Saharan Africa</td>\n",
       "      <td>Lower middle income</td>\n",
       "      <td>Zimbabwe</td>\n",
       "    </tr>\n",
       "    <tr>\n",
       "      <th>14638</th>\n",
       "      <td>Zimbabwe</td>\n",
       "      <td>2000</td>\n",
       "      <td>Cardiovascular diseases</td>\n",
       "      <td>10368</td>\n",
       "      <td>6335</td>\n",
       "      <td>16076</td>\n",
       "      <td>4425</td>\n",
       "      <td>2818</td>\n",
       "      <td>6837</td>\n",
       "      <td>5943</td>\n",
       "      <td>3516</td>\n",
       "      <td>9239</td>\n",
       "      <td>ZWE</td>\n",
       "      <td>Sub-Saharan Africa</td>\n",
       "      <td>Lower middle income</td>\n",
       "      <td>Zimbabwe</td>\n",
       "    </tr>\n",
       "    <tr>\n",
       "      <th>14639</th>\n",
       "      <td>Zimbabwe</td>\n",
       "      <td>2000</td>\n",
       "      <td>Chronic respiratory diseases</td>\n",
       "      <td>1861</td>\n",
       "      <td>1039</td>\n",
       "      <td>2993</td>\n",
       "      <td>983</td>\n",
       "      <td>605</td>\n",
       "      <td>1481</td>\n",
       "      <td>878</td>\n",
       "      <td>435</td>\n",
       "      <td>1513</td>\n",
       "      <td>ZWE</td>\n",
       "      <td>Sub-Saharan Africa</td>\n",
       "      <td>Lower middle income</td>\n",
       "      <td>Zimbabwe</td>\n",
       "    </tr>\n",
       "  </tbody>\n",
       "</table>\n",
       "<p>14640 rows × 16 columns</p>\n",
       "</div>"
      ],
      "text/plain": [
       "           Country  Year                        Causes  Both sexes_recent  \\\n",
       "0      Afghanistan  2019           Malignant neoplasms              15565   \n",
       "1      Afghanistan  2019             Diabetes mellitus               8060   \n",
       "2      Afghanistan  2019       Cardiovascular diseases              71264   \n",
       "3      Afghanistan  2019  Chronic respiratory diseases               8285   \n",
       "4      Afghanistan  2018           Malignant neoplasms              15065   \n",
       "...            ...   ...                           ...                ...   \n",
       "14635     Zimbabwe  2001  Chronic respiratory diseases               1884   \n",
       "14636     Zimbabwe  2000           Malignant neoplasms               7474   \n",
       "14637     Zimbabwe  2000             Diabetes mellitus               2039   \n",
       "14638     Zimbabwe  2000       Cardiovascular diseases              10368   \n",
       "14639     Zimbabwe  2000  Chronic respiratory diseases               1861   \n",
       "\n",
       "       Both sexes_min  Both sexes_max  Male_recent  Male_min  Male_max  \\\n",
       "0                7609           28280         7756      3898     13841   \n",
       "1                3827           14468         2612      1377      4651   \n",
       "2               42413          108472        33793     20550     51028   \n",
       "3                3618           14626         3920      1877      6745   \n",
       "4                7337           27401         7534      3766     13454   \n",
       "...               ...             ...          ...       ...       ...   \n",
       "14635            1044            3046          996       603      1513   \n",
       "14636            4592           11441         3838      2512      5647   \n",
       "14637            1227            3219          810       507      1246   \n",
       "14638            6335           16076         4425      2818      6837   \n",
       "14639            1039            2993          983       605      1481   \n",
       "\n",
       "       Female_recent  Female_min  Female_max Country Code              Region  \\\n",
       "0               7809        3711       14439          AFG          South Asia   \n",
       "1               5448        2451        9817          AFG          South Asia   \n",
       "2              37471       21863       57444          AFG          South Asia   \n",
       "3               4365        1741        7881          AFG          South Asia   \n",
       "4               7531        3570       13948          AFG          South Asia   \n",
       "...              ...         ...         ...          ...                 ...   \n",
       "14635            887         441        1533          ZWE  Sub-Saharan Africa   \n",
       "14636           3636        2080        5794          ZWE  Sub-Saharan Africa   \n",
       "14637           1229         720        1972          ZWE  Sub-Saharan Africa   \n",
       "14638           5943        3516        9239          ZWE  Sub-Saharan Africa   \n",
       "14639            878         435        1513          ZWE  Sub-Saharan Africa   \n",
       "\n",
       "               IncomeGroup    TableName  \n",
       "0               Low income  Afghanistan  \n",
       "1               Low income  Afghanistan  \n",
       "2               Low income  Afghanistan  \n",
       "3               Low income  Afghanistan  \n",
       "4               Low income  Afghanistan  \n",
       "...                    ...          ...  \n",
       "14635  Lower middle income     Zimbabwe  \n",
       "14636  Lower middle income     Zimbabwe  \n",
       "14637  Lower middle income     Zimbabwe  \n",
       "14638  Lower middle income     Zimbabwe  \n",
       "14639  Lower middle income     Zimbabwe  \n",
       "\n",
       "[14640 rows x 16 columns]"
      ]
     },
     "execution_count": 97,
     "metadata": {},
     "output_type": "execute_result"
    }
   ],
   "source": [
    "df_rearanged.merge(df_gdp,how=\"inner\", left_on=\"Country\", right_on=\"TableName\")"
   ]
  },
  {
   "cell_type": "code",
   "execution_count": 98,
   "metadata": {
    "colab": {
     "base_uri": "https://localhost:8080/"
    },
    "id": "s3q59JCV_HKN",
    "outputId": "55369cd8-0b5d-470a-95f7-06fd552016db"
   },
   "outputs": [
    {
     "data": {
      "text/plain": [
       "(14640, 12)"
      ]
     },
     "execution_count": 98,
     "metadata": {},
     "output_type": "execute_result"
    }
   ],
   "source": [
    "df_rearanged.shape"
   ]
  },
  {
   "cell_type": "code",
   "execution_count": 99,
   "metadata": {
    "id": "MuavvKLm_ORl"
   },
   "outputs": [],
   "source": [
    "df_merged = df_rearanged.merge(df_gdp,how=\"inner\", left_on=\"Country\", right_on=\"TableName\")"
   ]
  },
  {
   "cell_type": "code",
   "execution_count": 100,
   "metadata": {
    "colab": {
     "base_uri": "https://localhost:8080/",
     "height": 523
    },
    "id": "IZDUgLx1_Udf",
    "outputId": "a11ab2a0-366f-48fd-d95c-ba5c8b3707c3"
   },
   "outputs": [
    {
     "data": {
      "text/html": [
       "<div>\n",
       "<style scoped>\n",
       "    .dataframe tbody tr th:only-of-type {\n",
       "        vertical-align: middle;\n",
       "    }\n",
       "\n",
       "    .dataframe tbody tr th {\n",
       "        vertical-align: top;\n",
       "    }\n",
       "\n",
       "    .dataframe thead th {\n",
       "        text-align: right;\n",
       "    }\n",
       "</style>\n",
       "<table border=\"1\" class=\"dataframe\">\n",
       "  <thead>\n",
       "    <tr style=\"text-align: right;\">\n",
       "      <th></th>\n",
       "      <th>Country</th>\n",
       "      <th>Year</th>\n",
       "      <th>Causes</th>\n",
       "      <th>Both sexes_recent</th>\n",
       "      <th>Both sexes_min</th>\n",
       "      <th>Both sexes_max</th>\n",
       "      <th>Male_recent</th>\n",
       "      <th>Male_min</th>\n",
       "      <th>Male_max</th>\n",
       "      <th>Female_recent</th>\n",
       "      <th>Female_min</th>\n",
       "      <th>Female_max</th>\n",
       "      <th>Country Code</th>\n",
       "      <th>Region</th>\n",
       "      <th>IncomeGroup</th>\n",
       "    </tr>\n",
       "  </thead>\n",
       "  <tbody>\n",
       "    <tr>\n",
       "      <th>0</th>\n",
       "      <td>Afghanistan</td>\n",
       "      <td>2019</td>\n",
       "      <td>Malignant neoplasms</td>\n",
       "      <td>15565</td>\n",
       "      <td>7609</td>\n",
       "      <td>28280</td>\n",
       "      <td>7756</td>\n",
       "      <td>3898</td>\n",
       "      <td>13841</td>\n",
       "      <td>7809</td>\n",
       "      <td>3711</td>\n",
       "      <td>14439</td>\n",
       "      <td>AFG</td>\n",
       "      <td>South Asia</td>\n",
       "      <td>Low income</td>\n",
       "    </tr>\n",
       "    <tr>\n",
       "      <th>1</th>\n",
       "      <td>Afghanistan</td>\n",
       "      <td>2019</td>\n",
       "      <td>Diabetes mellitus</td>\n",
       "      <td>8060</td>\n",
       "      <td>3827</td>\n",
       "      <td>14468</td>\n",
       "      <td>2612</td>\n",
       "      <td>1377</td>\n",
       "      <td>4651</td>\n",
       "      <td>5448</td>\n",
       "      <td>2451</td>\n",
       "      <td>9817</td>\n",
       "      <td>AFG</td>\n",
       "      <td>South Asia</td>\n",
       "      <td>Low income</td>\n",
       "    </tr>\n",
       "    <tr>\n",
       "      <th>2</th>\n",
       "      <td>Afghanistan</td>\n",
       "      <td>2019</td>\n",
       "      <td>Cardiovascular diseases</td>\n",
       "      <td>71264</td>\n",
       "      <td>42413</td>\n",
       "      <td>108472</td>\n",
       "      <td>33793</td>\n",
       "      <td>20550</td>\n",
       "      <td>51028</td>\n",
       "      <td>37471</td>\n",
       "      <td>21863</td>\n",
       "      <td>57444</td>\n",
       "      <td>AFG</td>\n",
       "      <td>South Asia</td>\n",
       "      <td>Low income</td>\n",
       "    </tr>\n",
       "    <tr>\n",
       "      <th>3</th>\n",
       "      <td>Afghanistan</td>\n",
       "      <td>2019</td>\n",
       "      <td>Chronic respiratory diseases</td>\n",
       "      <td>8285</td>\n",
       "      <td>3618</td>\n",
       "      <td>14626</td>\n",
       "      <td>3920</td>\n",
       "      <td>1877</td>\n",
       "      <td>6745</td>\n",
       "      <td>4365</td>\n",
       "      <td>1741</td>\n",
       "      <td>7881</td>\n",
       "      <td>AFG</td>\n",
       "      <td>South Asia</td>\n",
       "      <td>Low income</td>\n",
       "    </tr>\n",
       "    <tr>\n",
       "      <th>4</th>\n",
       "      <td>Afghanistan</td>\n",
       "      <td>2018</td>\n",
       "      <td>Malignant neoplasms</td>\n",
       "      <td>15065</td>\n",
       "      <td>7337</td>\n",
       "      <td>27401</td>\n",
       "      <td>7534</td>\n",
       "      <td>3766</td>\n",
       "      <td>13454</td>\n",
       "      <td>7531</td>\n",
       "      <td>3570</td>\n",
       "      <td>13948</td>\n",
       "      <td>AFG</td>\n",
       "      <td>South Asia</td>\n",
       "      <td>Low income</td>\n",
       "    </tr>\n",
       "    <tr>\n",
       "      <th>...</th>\n",
       "      <td>...</td>\n",
       "      <td>...</td>\n",
       "      <td>...</td>\n",
       "      <td>...</td>\n",
       "      <td>...</td>\n",
       "      <td>...</td>\n",
       "      <td>...</td>\n",
       "      <td>...</td>\n",
       "      <td>...</td>\n",
       "      <td>...</td>\n",
       "      <td>...</td>\n",
       "      <td>...</td>\n",
       "      <td>...</td>\n",
       "      <td>...</td>\n",
       "      <td>...</td>\n",
       "    </tr>\n",
       "    <tr>\n",
       "      <th>14635</th>\n",
       "      <td>Zimbabwe</td>\n",
       "      <td>2001</td>\n",
       "      <td>Chronic respiratory diseases</td>\n",
       "      <td>1884</td>\n",
       "      <td>1044</td>\n",
       "      <td>3046</td>\n",
       "      <td>996</td>\n",
       "      <td>603</td>\n",
       "      <td>1513</td>\n",
       "      <td>887</td>\n",
       "      <td>441</td>\n",
       "      <td>1533</td>\n",
       "      <td>ZWE</td>\n",
       "      <td>Sub-Saharan Africa</td>\n",
       "      <td>Lower middle income</td>\n",
       "    </tr>\n",
       "    <tr>\n",
       "      <th>14636</th>\n",
       "      <td>Zimbabwe</td>\n",
       "      <td>2000</td>\n",
       "      <td>Malignant neoplasms</td>\n",
       "      <td>7474</td>\n",
       "      <td>4592</td>\n",
       "      <td>11441</td>\n",
       "      <td>3838</td>\n",
       "      <td>2512</td>\n",
       "      <td>5647</td>\n",
       "      <td>3636</td>\n",
       "      <td>2080</td>\n",
       "      <td>5794</td>\n",
       "      <td>ZWE</td>\n",
       "      <td>Sub-Saharan Africa</td>\n",
       "      <td>Lower middle income</td>\n",
       "    </tr>\n",
       "    <tr>\n",
       "      <th>14637</th>\n",
       "      <td>Zimbabwe</td>\n",
       "      <td>2000</td>\n",
       "      <td>Diabetes mellitus</td>\n",
       "      <td>2039</td>\n",
       "      <td>1227</td>\n",
       "      <td>3219</td>\n",
       "      <td>810</td>\n",
       "      <td>507</td>\n",
       "      <td>1246</td>\n",
       "      <td>1229</td>\n",
       "      <td>720</td>\n",
       "      <td>1972</td>\n",
       "      <td>ZWE</td>\n",
       "      <td>Sub-Saharan Africa</td>\n",
       "      <td>Lower middle income</td>\n",
       "    </tr>\n",
       "    <tr>\n",
       "      <th>14638</th>\n",
       "      <td>Zimbabwe</td>\n",
       "      <td>2000</td>\n",
       "      <td>Cardiovascular diseases</td>\n",
       "      <td>10368</td>\n",
       "      <td>6335</td>\n",
       "      <td>16076</td>\n",
       "      <td>4425</td>\n",
       "      <td>2818</td>\n",
       "      <td>6837</td>\n",
       "      <td>5943</td>\n",
       "      <td>3516</td>\n",
       "      <td>9239</td>\n",
       "      <td>ZWE</td>\n",
       "      <td>Sub-Saharan Africa</td>\n",
       "      <td>Lower middle income</td>\n",
       "    </tr>\n",
       "    <tr>\n",
       "      <th>14639</th>\n",
       "      <td>Zimbabwe</td>\n",
       "      <td>2000</td>\n",
       "      <td>Chronic respiratory diseases</td>\n",
       "      <td>1861</td>\n",
       "      <td>1039</td>\n",
       "      <td>2993</td>\n",
       "      <td>983</td>\n",
       "      <td>605</td>\n",
       "      <td>1481</td>\n",
       "      <td>878</td>\n",
       "      <td>435</td>\n",
       "      <td>1513</td>\n",
       "      <td>ZWE</td>\n",
       "      <td>Sub-Saharan Africa</td>\n",
       "      <td>Lower middle income</td>\n",
       "    </tr>\n",
       "  </tbody>\n",
       "</table>\n",
       "<p>14640 rows × 15 columns</p>\n",
       "</div>"
      ],
      "text/plain": [
       "           Country  Year                        Causes  Both sexes_recent  \\\n",
       "0      Afghanistan  2019           Malignant neoplasms              15565   \n",
       "1      Afghanistan  2019             Diabetes mellitus               8060   \n",
       "2      Afghanistan  2019       Cardiovascular diseases              71264   \n",
       "3      Afghanistan  2019  Chronic respiratory diseases               8285   \n",
       "4      Afghanistan  2018           Malignant neoplasms              15065   \n",
       "...            ...   ...                           ...                ...   \n",
       "14635     Zimbabwe  2001  Chronic respiratory diseases               1884   \n",
       "14636     Zimbabwe  2000           Malignant neoplasms               7474   \n",
       "14637     Zimbabwe  2000             Diabetes mellitus               2039   \n",
       "14638     Zimbabwe  2000       Cardiovascular diseases              10368   \n",
       "14639     Zimbabwe  2000  Chronic respiratory diseases               1861   \n",
       "\n",
       "       Both sexes_min  Both sexes_max  Male_recent  Male_min  Male_max  \\\n",
       "0                7609           28280         7756      3898     13841   \n",
       "1                3827           14468         2612      1377      4651   \n",
       "2               42413          108472        33793     20550     51028   \n",
       "3                3618           14626         3920      1877      6745   \n",
       "4                7337           27401         7534      3766     13454   \n",
       "...               ...             ...          ...       ...       ...   \n",
       "14635            1044            3046          996       603      1513   \n",
       "14636            4592           11441         3838      2512      5647   \n",
       "14637            1227            3219          810       507      1246   \n",
       "14638            6335           16076         4425      2818      6837   \n",
       "14639            1039            2993          983       605      1481   \n",
       "\n",
       "       Female_recent  Female_min  Female_max Country Code              Region  \\\n",
       "0               7809        3711       14439          AFG          South Asia   \n",
       "1               5448        2451        9817          AFG          South Asia   \n",
       "2              37471       21863       57444          AFG          South Asia   \n",
       "3               4365        1741        7881          AFG          South Asia   \n",
       "4               7531        3570       13948          AFG          South Asia   \n",
       "...              ...         ...         ...          ...                 ...   \n",
       "14635            887         441        1533          ZWE  Sub-Saharan Africa   \n",
       "14636           3636        2080        5794          ZWE  Sub-Saharan Africa   \n",
       "14637           1229         720        1972          ZWE  Sub-Saharan Africa   \n",
       "14638           5943        3516        9239          ZWE  Sub-Saharan Africa   \n",
       "14639            878         435        1513          ZWE  Sub-Saharan Africa   \n",
       "\n",
       "               IncomeGroup  \n",
       "0               Low income  \n",
       "1               Low income  \n",
       "2               Low income  \n",
       "3               Low income  \n",
       "4               Low income  \n",
       "...                    ...  \n",
       "14635  Lower middle income  \n",
       "14636  Lower middle income  \n",
       "14637  Lower middle income  \n",
       "14638  Lower middle income  \n",
       "14639  Lower middle income  \n",
       "\n",
       "[14640 rows x 15 columns]"
      ]
     },
     "execution_count": 100,
     "metadata": {},
     "output_type": "execute_result"
    }
   ],
   "source": [
    "df_merged.drop(\"TableName\", axis=1,)# inplace=True)"
   ]
  },
  {
   "cell_type": "markdown",
   "metadata": {
    "id": "SDq-l53aAgxu"
   },
   "source": [
    "# INCOME VS DISEASE"
   ]
  },
  {
   "cell_type": "code",
   "execution_count": 101,
   "metadata": {
    "colab": {
     "base_uri": "https://localhost:8080/",
     "height": 557
    },
    "id": "24KV4yQP_eLF",
    "outputId": "0d4da17d-8645-4257-c647-1fb605718fd6"
   },
   "outputs": [
    {
     "data": {
      "text/html": [
       "<div>\n",
       "<style scoped>\n",
       "    .dataframe tbody tr th:only-of-type {\n",
       "        vertical-align: middle;\n",
       "    }\n",
       "\n",
       "    .dataframe tbody tr th {\n",
       "        vertical-align: top;\n",
       "    }\n",
       "\n",
       "    .dataframe thead th {\n",
       "        text-align: right;\n",
       "    }\n",
       "</style>\n",
       "<table border=\"1\" class=\"dataframe\">\n",
       "  <thead>\n",
       "    <tr style=\"text-align: right;\">\n",
       "      <th></th>\n",
       "      <th></th>\n",
       "      <th>Male_recent</th>\n",
       "    </tr>\n",
       "    <tr>\n",
       "      <th>IncomeGroup</th>\n",
       "      <th>Causes</th>\n",
       "      <th></th>\n",
       "    </tr>\n",
       "  </thead>\n",
       "  <tbody>\n",
       "    <tr>\n",
       "      <th rowspan=\"4\" valign=\"top\">High income</th>\n",
       "      <th>Cardiovascular diseases</th>\n",
       "      <td>29,623</td>\n",
       "    </tr>\n",
       "    <tr>\n",
       "      <th>Chronic respiratory diseases</th>\n",
       "      <td>6,723</td>\n",
       "    </tr>\n",
       "    <tr>\n",
       "      <th>Diabetes mellitus</th>\n",
       "      <td>2,212</td>\n",
       "    </tr>\n",
       "    <tr>\n",
       "      <th>Malignant neoplasms</th>\n",
       "      <td>26,079</td>\n",
       "    </tr>\n",
       "    <tr>\n",
       "      <th rowspan=\"4\" valign=\"top\">Low income</th>\n",
       "      <th>Cardiovascular diseases</th>\n",
       "      <td>12,442</td>\n",
       "    </tr>\n",
       "    <tr>\n",
       "      <th>Chronic respiratory diseases</th>\n",
       "      <td>2,417</td>\n",
       "    </tr>\n",
       "    <tr>\n",
       "      <th>Diabetes mellitus</th>\n",
       "      <td>1,681</td>\n",
       "    </tr>\n",
       "    <tr>\n",
       "      <th>Malignant neoplasms</th>\n",
       "      <td>3,884</td>\n",
       "    </tr>\n",
       "    <tr>\n",
       "      <th rowspan=\"4\" valign=\"top\">Lower middle income</th>\n",
       "      <th>Cardiovascular diseases</th>\n",
       "      <td>51,360</td>\n",
       "    </tr>\n",
       "    <tr>\n",
       "      <th>Chronic respiratory diseases</th>\n",
       "      <td>16,607</td>\n",
       "    </tr>\n",
       "    <tr>\n",
       "      <th>Diabetes mellitus</th>\n",
       "      <td>5,888</td>\n",
       "    </tr>\n",
       "    <tr>\n",
       "      <th>Malignant neoplasms</th>\n",
       "      <td>16,550</td>\n",
       "    </tr>\n",
       "    <tr>\n",
       "      <th rowspan=\"4\" valign=\"top\">Upper middle income</th>\n",
       "      <th>Cardiovascular diseases</th>\n",
       "      <td>73,388</td>\n",
       "    </tr>\n",
       "    <tr>\n",
       "      <th>Chronic respiratory diseases</th>\n",
       "      <td>17,898</td>\n",
       "    </tr>\n",
       "    <tr>\n",
       "      <th>Diabetes mellitus</th>\n",
       "      <td>5,552</td>\n",
       "    </tr>\n",
       "    <tr>\n",
       "      <th>Malignant neoplasms</th>\n",
       "      <td>42,124</td>\n",
       "    </tr>\n",
       "  </tbody>\n",
       "</table>\n",
       "</div>"
      ],
      "text/plain": [
       "                                                  Male_recent\n",
       "IncomeGroup         Causes                                   \n",
       "High income         Cardiovascular diseases            29,623\n",
       "                    Chronic respiratory diseases        6,723\n",
       "                    Diabetes mellitus                   2,212\n",
       "                    Malignant neoplasms                26,079\n",
       "Low income          Cardiovascular diseases            12,442\n",
       "                    Chronic respiratory diseases        2,417\n",
       "                    Diabetes mellitus                   1,681\n",
       "                    Malignant neoplasms                 3,884\n",
       "Lower middle income Cardiovascular diseases            51,360\n",
       "                    Chronic respiratory diseases       16,607\n",
       "                    Diabetes mellitus                   5,888\n",
       "                    Malignant neoplasms                16,550\n",
       "Upper middle income Cardiovascular diseases            73,388\n",
       "                    Chronic respiratory diseases       17,898\n",
       "                    Diabetes mellitus                   5,552\n",
       "                    Malignant neoplasms                42,124"
      ]
     },
     "execution_count": 101,
     "metadata": {},
     "output_type": "execute_result"
    }
   ],
   "source": [
    "df_merged.groupby(by=[\"IncomeGroup\",\"Causes\"])[[\"Male_recent\"]].mean()"
   ]
  },
  {
   "cell_type": "code",
   "execution_count": 102,
   "metadata": {
    "colab": {
     "base_uri": "https://localhost:8080/",
     "height": 281
    },
    "id": "FgZ691XGBG2o",
    "outputId": "e775e9e0-eeb8-4a57-cfab-a4fafe739c12"
   },
   "outputs": [
    {
     "data": {
      "text/plain": [
       "<AxesSubplot:ylabel='IncomeGroup,Causes'>"
      ]
     },
     "execution_count": 102,
     "metadata": {},
     "output_type": "execute_result"
    },
    {
     "data": {
      "image/png": "[encoded data removed]",
      "text/plain": [
       "<Figure size 432x288 with 1 Axes>"
      ]
     },
     "metadata": {
      "needs_background": "light"
     },
     "output_type": "display_data"
    }
   ],
   "source": [
    "df_merged.groupby(by=[\"IncomeGroup\",\"Causes\"])[[\"Male_recent\"]].median().sort_values(\"Male_recent\").plot.barh()"
   ]
  },
  {
   "cell_type": "markdown",
   "metadata": {
    "id": "xBzZfSk-DPiZ"
   },
   "source": [
    "* In context of income we could say that a higher income-Male has higher risk in Cardiovascular diseases"
   ]
  },
  {
   "cell_type": "code",
   "execution_count": 103,
   "metadata": {
    "colab": {
     "base_uri": "https://localhost:8080/",
     "height": 281
    },
    "id": "-K7QADPZB2bV",
    "outputId": "620f7577-6945-4c66-b5af-d3d6e2b93d2f"
   },
   "outputs": [
    {
     "data": {
      "text/plain": [
       "<AxesSubplot:ylabel='IncomeGroup,Causes'>"
      ]
     },
     "execution_count": 103,
     "metadata": {},
     "output_type": "execute_result"
    },
    {
     "data": {
      "image/png": "[encoded data removed]",
      "text/plain": [
       "<Figure size 432x288 with 1 Axes>"
      ]
     },
     "metadata": {
      "needs_background": "light"
     },
     "output_type": "display_data"
    }
   ],
   "source": [
    "df_merged.groupby(by=[\"IncomeGroup\",\"Causes\"])[[\"Female_recent\"]].median().sort_values(\"Female_recent\").plot.barh()"
   ]
  },
  {
   "cell_type": "markdown",
   "metadata": {
    "id": "eDlSTNSFEihh"
   },
   "source": [
    "* we could say that females are more prone to Cardiovascular diseases and also interms of income same as males "
   ]
  },
  {
   "cell_type": "code",
   "execution_count": 104,
   "metadata": {
    "colab": {
     "base_uri": "https://localhost:8080/",
     "height": 16
    },
    "id": "YxH-9X9_EOhD",
    "outputId": "2f455766-5323-4a55-b8e1-2f7289a81f39"
   },
   "outputs": [
    {
     "data": {
      "application/javascript": [
       "\n",
       "        if (window._pyforest_update_imports_cell) { window._pyforest_update_imports_cell('import pandas as pd\\nimport matplotlib.pyplot as plt'); }\n",
       "    "
      ],
      "text/plain": [
       "<IPython.core.display.Javascript object>"
      ]
     },
     "metadata": {},
     "output_type": "display_data"
    }
   ],
   "source": [
    "df_merged_pivot = pd.pivot_table(df_merged,values= ['Both sexes_recent', 'Both sexes_min', 'Both sexes_max', 'Male_recent',\n",
    "       'Male_min', 'Male_max', 'Female_recent', 'Female_min', 'Female_max'], index=['IncomeGroup','Region','Country', 'Year', 'Causes'])"
   ]
  },
  {
   "cell_type": "code",
   "execution_count": 105,
   "metadata": {
    "colab": {
     "base_uri": "https://localhost:8080/",
     "height": 436
    },
    "id": "WdBw_VhBGCFz",
    "outputId": "43b2c33a-570e-4756-e07e-c8574d1b77b5"
   },
   "outputs": [
    {
     "data": {
      "text/html": [
       "<div>\n",
       "<style scoped>\n",
       "    .dataframe tbody tr th:only-of-type {\n",
       "        vertical-align: middle;\n",
       "    }\n",
       "\n",
       "    .dataframe tbody tr th {\n",
       "        vertical-align: top;\n",
       "    }\n",
       "\n",
       "    .dataframe thead th {\n",
       "        text-align: right;\n",
       "    }\n",
       "</style>\n",
       "<table border=\"1\" class=\"dataframe\">\n",
       "  <thead>\n",
       "    <tr style=\"text-align: right;\">\n",
       "      <th></th>\n",
       "      <th></th>\n",
       "      <th></th>\n",
       "      <th></th>\n",
       "      <th></th>\n",
       "      <th>Both sexes_max</th>\n",
       "      <th>Both sexes_min</th>\n",
       "      <th>Both sexes_recent</th>\n",
       "      <th>Female_max</th>\n",
       "      <th>Female_min</th>\n",
       "      <th>Female_recent</th>\n",
       "      <th>Male_max</th>\n",
       "      <th>Male_min</th>\n",
       "      <th>Male_recent</th>\n",
       "    </tr>\n",
       "    <tr>\n",
       "      <th>IncomeGroup</th>\n",
       "      <th>Region</th>\n",
       "      <th>Country</th>\n",
       "      <th>Year</th>\n",
       "      <th>Causes</th>\n",
       "      <th></th>\n",
       "      <th></th>\n",
       "      <th></th>\n",
       "      <th></th>\n",
       "      <th></th>\n",
       "      <th></th>\n",
       "      <th></th>\n",
       "      <th></th>\n",
       "      <th></th>\n",
       "    </tr>\n",
       "  </thead>\n",
       "  <tbody>\n",
       "    <tr>\n",
       "      <th rowspan=\"5\" valign=\"top\">High income</th>\n",
       "      <th rowspan=\"5\" valign=\"top\">East Asia &amp; Pacific</th>\n",
       "      <th rowspan=\"5\" valign=\"top\">Australia</th>\n",
       "      <th rowspan=\"4\" valign=\"top\">2000</th>\n",
       "      <th>Cardiovascular diseases</th>\n",
       "      <td>54254</td>\n",
       "      <td>40271</td>\n",
       "      <td>47663</td>\n",
       "      <td>28696</td>\n",
       "      <td>20353</td>\n",
       "      <td>25006</td>\n",
       "      <td>25558</td>\n",
       "      <td>19918</td>\n",
       "      <td>22658</td>\n",
       "    </tr>\n",
       "    <tr>\n",
       "      <th>Chronic respiratory diseases</th>\n",
       "      <td>9984</td>\n",
       "      <td>6830</td>\n",
       "      <td>8487</td>\n",
       "      <td>4449</td>\n",
       "      <td>2752</td>\n",
       "      <td>3674</td>\n",
       "      <td>5535</td>\n",
       "      <td>4078</td>\n",
       "      <td>4813</td>\n",
       "    </tr>\n",
       "    <tr>\n",
       "      <th>Diabetes mellitus</th>\n",
       "      <td>3391</td>\n",
       "      <td>2486</td>\n",
       "      <td>2937</td>\n",
       "      <td>1627</td>\n",
       "      <td>1140</td>\n",
       "      <td>1389</td>\n",
       "      <td>1764</td>\n",
       "      <td>1345</td>\n",
       "      <td>1548</td>\n",
       "    </tr>\n",
       "    <tr>\n",
       "      <th>Malignant neoplasms</th>\n",
       "      <td>40612</td>\n",
       "      <td>29929</td>\n",
       "      <td>35245</td>\n",
       "      <td>17604</td>\n",
       "      <td>12959</td>\n",
       "      <td>15298</td>\n",
       "      <td>23008</td>\n",
       "      <td>16969</td>\n",
       "      <td>19947</td>\n",
       "    </tr>\n",
       "    <tr>\n",
       "      <th>2001</th>\n",
       "      <th>Cardiovascular diseases</th>\n",
       "      <td>53925</td>\n",
       "      <td>39668</td>\n",
       "      <td>47202</td>\n",
       "      <td>28368</td>\n",
       "      <td>19951</td>\n",
       "      <td>24650</td>\n",
       "      <td>25557</td>\n",
       "      <td>19717</td>\n",
       "      <td>22552</td>\n",
       "    </tr>\n",
       "    <tr>\n",
       "      <th>...</th>\n",
       "      <th>...</th>\n",
       "      <th>...</th>\n",
       "      <th>...</th>\n",
       "      <th>...</th>\n",
       "      <td>...</td>\n",
       "      <td>...</td>\n",
       "      <td>...</td>\n",
       "      <td>...</td>\n",
       "      <td>...</td>\n",
       "      <td>...</td>\n",
       "      <td>...</td>\n",
       "      <td>...</td>\n",
       "      <td>...</td>\n",
       "    </tr>\n",
       "    <tr>\n",
       "      <th rowspan=\"5\" valign=\"top\">Upper middle income</th>\n",
       "      <th rowspan=\"5\" valign=\"top\">Sub-Saharan Africa</th>\n",
       "      <th rowspan=\"5\" valign=\"top\">South Africa</th>\n",
       "      <th>2018</th>\n",
       "      <th>Malignant neoplasms</th>\n",
       "      <td>72458</td>\n",
       "      <td>43001</td>\n",
       "      <td>56728</td>\n",
       "      <td>36928</td>\n",
       "      <td>20317</td>\n",
       "      <td>28094</td>\n",
       "      <td>35530</td>\n",
       "      <td>22684</td>\n",
       "      <td>28635</td>\n",
       "    </tr>\n",
       "    <tr>\n",
       "      <th rowspan=\"4\" valign=\"top\">2019</th>\n",
       "      <th>Cardiovascular diseases</th>\n",
       "      <td>107835</td>\n",
       "      <td>69709</td>\n",
       "      <td>87794</td>\n",
       "      <td>55767</td>\n",
       "      <td>35406</td>\n",
       "      <td>45163</td>\n",
       "      <td>52068</td>\n",
       "      <td>34304</td>\n",
       "      <td>42630</td>\n",
       "    </tr>\n",
       "    <tr>\n",
       "      <th>Chronic respiratory diseases</th>\n",
       "      <td>25492</td>\n",
       "      <td>15117</td>\n",
       "      <td>19525</td>\n",
       "      <td>11969</td>\n",
       "      <td>6158</td>\n",
       "      <td>8558</td>\n",
       "      <td>13523</td>\n",
       "      <td>8958</td>\n",
       "      <td>10966</td>\n",
       "    </tr>\n",
       "    <tr>\n",
       "      <th>Diabetes mellitus</th>\n",
       "      <td>42803</td>\n",
       "      <td>27088</td>\n",
       "      <td>34401</td>\n",
       "      <td>23776</td>\n",
       "      <td>14922</td>\n",
       "      <td>19075</td>\n",
       "      <td>19027</td>\n",
       "      <td>12166</td>\n",
       "      <td>15327</td>\n",
       "    </tr>\n",
       "    <tr>\n",
       "      <th>Malignant neoplasms</th>\n",
       "      <td>73325</td>\n",
       "      <td>42812</td>\n",
       "      <td>56845</td>\n",
       "      <td>37339</td>\n",
       "      <td>20491</td>\n",
       "      <td>28315</td>\n",
       "      <td>35985</td>\n",
       "      <td>22321</td>\n",
       "      <td>28530</td>\n",
       "    </tr>\n",
       "  </tbody>\n",
       "</table>\n",
       "<p>14640 rows × 9 columns</p>\n",
       "</div>"
      ],
      "text/plain": [
       "                                                                                        Both sexes_max  \\\n",
       "IncomeGroup         Region              Country      Year Causes                                         \n",
       "High income         East Asia & Pacific Australia    2000 Cardiovascular diseases                54254   \n",
       "                                                          Chronic respiratory diseases            9984   \n",
       "                                                          Diabetes mellitus                       3391   \n",
       "                                                          Malignant neoplasms                    40612   \n",
       "                                                     2001 Cardiovascular diseases                53925   \n",
       "...                                                                                                ...   \n",
       "Upper middle income Sub-Saharan Africa  South Africa 2018 Malignant neoplasms                    72458   \n",
       "                                                     2019 Cardiovascular diseases               107835   \n",
       "                                                          Chronic respiratory diseases           25492   \n",
       "                                                          Diabetes mellitus                      42803   \n",
       "                                                          Malignant neoplasms                    73325   \n",
       "\n",
       "                                                                                        Both sexes_min  \\\n",
       "IncomeGroup         Region              Country      Year Causes                                         \n",
       "High income         East Asia & Pacific Australia    2000 Cardiovascular diseases                40271   \n",
       "                                                          Chronic respiratory diseases            6830   \n",
       "                                                          Diabetes mellitus                       2486   \n",
       "                                                          Malignant neoplasms                    29929   \n",
       "                                                     2001 Cardiovascular diseases                39668   \n",
       "...                                                                                                ...   \n",
       "Upper middle income Sub-Saharan Africa  South Africa 2018 Malignant neoplasms                    43001   \n",
       "                                                     2019 Cardiovascular diseases                69709   \n",
       "                                                          Chronic respiratory diseases           15117   \n",
       "                                                          Diabetes mellitus                      27088   \n",
       "                                                          Malignant neoplasms                    42812   \n",
       "\n",
       "                                                                                        Both sexes_recent  \\\n",
       "IncomeGroup         Region              Country      Year Causes                                            \n",
       "High income         East Asia & Pacific Australia    2000 Cardiovascular diseases                   47663   \n",
       "                                                          Chronic respiratory diseases               8487   \n",
       "                                                          Diabetes mellitus                          2937   \n",
       "                                                          Malignant neoplasms                       35245   \n",
       "                                                     2001 Cardiovascular diseases                   47202   \n",
       "...                                                                                                   ...   \n",
       "Upper middle income Sub-Saharan Africa  South Africa 2018 Malignant neoplasms                       56728   \n",
       "                                                     2019 Cardiovascular diseases                   87794   \n",
       "                                                          Chronic respiratory diseases              19525   \n",
       "                                                          Diabetes mellitus                         34401   \n",
       "                                                          Malignant neoplasms                       56845   \n",
       "\n",
       "                                                                                        Female_max  \\\n",
       "IncomeGroup         Region              Country      Year Causes                                     \n",
       "High income         East Asia & Pacific Australia    2000 Cardiovascular diseases            28696   \n",
       "                                                          Chronic respiratory diseases        4449   \n",
       "                                                          Diabetes mellitus                   1627   \n",
       "                                                          Malignant neoplasms                17604   \n",
       "                                                     2001 Cardiovascular diseases            28368   \n",
       "...                                                                                            ...   \n",
       "Upper middle income Sub-Saharan Africa  South Africa 2018 Malignant neoplasms                36928   \n",
       "                                                     2019 Cardiovascular diseases            55767   \n",
       "                                                          Chronic respiratory diseases       11969   \n",
       "                                                          Diabetes mellitus                  23776   \n",
       "                                                          Malignant neoplasms                37339   \n",
       "\n",
       "                                                                                        Female_min  \\\n",
       "IncomeGroup         Region              Country      Year Causes                                     \n",
       "High income         East Asia & Pacific Australia    2000 Cardiovascular diseases            20353   \n",
       "                                                          Chronic respiratory diseases        2752   \n",
       "                                                          Diabetes mellitus                   1140   \n",
       "                                                          Malignant neoplasms                12959   \n",
       "                                                     2001 Cardiovascular diseases            19951   \n",
       "...                                                                                            ...   \n",
       "Upper middle income Sub-Saharan Africa  South Africa 2018 Malignant neoplasms                20317   \n",
       "                                                     2019 Cardiovascular diseases            35406   \n",
       "                                                          Chronic respiratory diseases        6158   \n",
       "                                                          Diabetes mellitus                  14922   \n",
       "                                                          Malignant neoplasms                20491   \n",
       "\n",
       "                                                                                        Female_recent  \\\n",
       "IncomeGroup         Region              Country      Year Causes                                        \n",
       "High income         East Asia & Pacific Australia    2000 Cardiovascular diseases               25006   \n",
       "                                                          Chronic respiratory diseases           3674   \n",
       "                                                          Diabetes mellitus                      1389   \n",
       "                                                          Malignant neoplasms                   15298   \n",
       "                                                     2001 Cardiovascular diseases               24650   \n",
       "...                                                                                               ...   \n",
       "Upper middle income Sub-Saharan Africa  South Africa 2018 Malignant neoplasms                   28094   \n",
       "                                                     2019 Cardiovascular diseases               45163   \n",
       "                                                          Chronic respiratory diseases           8558   \n",
       "                                                          Diabetes mellitus                     19075   \n",
       "                                                          Malignant neoplasms                   28315   \n",
       "\n",
       "                                                                                        Male_max  \\\n",
       "IncomeGroup         Region              Country      Year Causes                                   \n",
       "High income         East Asia & Pacific Australia    2000 Cardiovascular diseases          25558   \n",
       "                                                          Chronic respiratory diseases      5535   \n",
       "                                                          Diabetes mellitus                 1764   \n",
       "                                                          Malignant neoplasms              23008   \n",
       "                                                     2001 Cardiovascular diseases          25557   \n",
       "...                                                                                          ...   \n",
       "Upper middle income Sub-Saharan Africa  South Africa 2018 Malignant neoplasms              35530   \n",
       "                                                     2019 Cardiovascular diseases          52068   \n",
       "                                                          Chronic respiratory diseases     13523   \n",
       "                                                          Diabetes mellitus                19027   \n",
       "                                                          Malignant neoplasms              35985   \n",
       "\n",
       "                                                                                        Male_min  \\\n",
       "IncomeGroup         Region              Country      Year Causes                                   \n",
       "High income         East Asia & Pacific Australia    2000 Cardiovascular diseases          19918   \n",
       "                                                          Chronic respiratory diseases      4078   \n",
       "                                                          Diabetes mellitus                 1345   \n",
       "                                                          Malignant neoplasms              16969   \n",
       "                                                     2001 Cardiovascular diseases          19717   \n",
       "...                                                                                          ...   \n",
       "Upper middle income Sub-Saharan Africa  South Africa 2018 Malignant neoplasms              22684   \n",
       "                                                     2019 Cardiovascular diseases          34304   \n",
       "                                                          Chronic respiratory diseases      8958   \n",
       "                                                          Diabetes mellitus                12166   \n",
       "                                                          Malignant neoplasms              22321   \n",
       "\n",
       "                                                                                        Male_recent  \n",
       "IncomeGroup         Region              Country      Year Causes                                     \n",
       "High income         East Asia & Pacific Australia    2000 Cardiovascular diseases             22658  \n",
       "                                                          Chronic respiratory diseases         4813  \n",
       "                                                          Diabetes mellitus                    1548  \n",
       "                                                          Malignant neoplasms                 19947  \n",
       "                                                     2001 Cardiovascular diseases             22552  \n",
       "...                                                                                             ...  \n",
       "Upper middle income Sub-Saharan Africa  South Africa 2018 Malignant neoplasms                 28635  \n",
       "                                                     2019 Cardiovascular diseases             42630  \n",
       "                                                          Chronic respiratory diseases        10966  \n",
       "                                                          Diabetes mellitus                   15327  \n",
       "                                                          Malignant neoplasms                 28530  \n",
       "\n",
       "[14640 rows x 9 columns]"
      ]
     },
     "execution_count": 105,
     "metadata": {},
     "output_type": "execute_result"
    }
   ],
   "source": [
    "df_merged_pivot"
   ]
  },
  {
   "cell_type": "code",
   "execution_count": 106,
   "metadata": {
    "id": "C5mMdcYeGDvr"
   },
   "outputs": [],
   "source": [
    "df_merged_pivot.to_excel(\"income_disease_by_year.xlsx\")"
   ]
  }
 ],
 "metadata": {
  "colab": {
   "collapsed_sections": [
    "AKMEw_5XpnRS",
    "Qo30E_lAtXIi",
    "cxf51Cxmi4bA",
    "B7OZKLaFAFqs",
    "J6Si9_pFAW34",
    "SDq-l53aAgxu"
   ],
   "name": "LAB_Pandas2.ipynb",
   "provenance": []
  },
  "kernelspec": {
   "display_name": "Python 3",
   "language": "python",
   "name": "python3"
  },
  "language_info": {
   "codemirror_mode": {
    "name": "ipython",
    "version": 3
   },
   "file_extension": ".py",
   "mimetype": "text/x-python",
   "name": "python",
   "nbconvert_exporter": "python",
   "pygments_lexer": "ipython3",
   "version": "3.8.5"
  }
 },
 "nbformat": 4,
 "nbformat_minor": 1
}
