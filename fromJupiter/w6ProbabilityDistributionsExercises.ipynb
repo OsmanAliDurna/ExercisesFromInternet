{
 "cells": [
  {
   "cell_type": "markdown",
   "metadata": {},
   "source": [
    "# Randomness and Probability"
   ]
  },
  {
   "cell_type": "markdown",
   "metadata": {},
   "source": [
    "In this exercise, we will use random.choice to produce random samples with and without replacement. Follow these steps to complete this exercise:"
   ]
  },
  {
   "cell_type": "markdown",
   "metadata": {},
   "source": [
    "1.Import the NumPy library:"
   ]
  },
  {
   "cell_type": "code",
   "execution_count": 1,
   "metadata": {},
   "outputs": [],
   "source": [
    "import numpy as np"
   ]
  },
  {
   "cell_type": "markdown",
   "metadata": {},
   "source": [
    "2.Create two lists containing four different suits and 13 different ranks in the set of standard cards:"
   ]
  },
  {
   "cell_type": "code",
   "execution_count": 2,
   "metadata": {},
   "outputs": [],
   "source": [
    "list1 = np.array([\"Clubs\", \"Hearts\", \"Spades\", \"Diamonds\"])\n",
    "list2 = np.array([\"Ace\", 1, 2, 3, 4, 5, 6, 7, 8, 9, 10, \"Jack\", \"Queen\", \"King\"])"
   ]
  },
  {
   "cell_type": "markdown",
   "metadata": {},
   "source": [
    "3.Create a list, named cards, containing the 52 cards of the standard deck:"
   ]
  },
  {
   "cell_type": "code",
   "execution_count": 3,
   "metadata": {},
   "outputs": [
    {
     "data": {
      "text/plain": [
       "array(['Ace-Clubs', 'Ace-Hearts', 'Ace-Spades', 'Ace-Diamonds', '1-Clubs',\n",
       "       '1-Hearts', '1-Spades', '1-Diamonds', '2-Clubs', '2-Hearts',\n",
       "       '2-Spades', '2-Diamonds', '3-Clubs', '3-Hearts', '3-Spades',\n",
       "       '3-Diamonds', '4-Clubs', '4-Hearts', '4-Spades', '4-Diamonds',\n",
       "       '5-Clubs', '5-Hearts', '5-Spades', '5-Diamonds', '6-Clubs',\n",
       "       '6-Hearts', '6-Spades', '6-Diamonds', '7-Clubs', '7-Hearts',\n",
       "       '7-Spades', '7-Diamonds', '8-Clubs', '8-Hearts', '8-Spades',\n",
       "       '8-Diamonds', '9-Clubs', '9-Hearts', '9-Spades', '9-Diamonds',\n",
       "       '10-Clubs', '10-Hearts', '10-Spades', '10-Diamonds', 'Jack-Clubs',\n",
       "       'Jack-Hearts', 'Jack-Spades', 'Jack-Diamonds', 'Queen-Clubs',\n",
       "       'Queen-Hearts', 'Queen-Spades', 'Queen-Diamonds', 'King-Clubs',\n",
       "       'King-Hearts', 'King-Spades', 'King-Diamonds'], dtype='<U14')"
      ]
     },
     "execution_count": 3,
     "metadata": {},
     "output_type": "execute_result"
    }
   ],
   "source": [
    "cards = []\n",
    "for i in range(len(list2)):\n",
    "    for j in range(len(list1)):\n",
    "        cards.append(list2[i]+\"-\"+list1[j])\n",
    "cards = np.array(cards)\n",
    "cards"
   ]
  },
  {
   "cell_type": "markdown",
   "metadata": {},
   "source": [
    "4.Use the np.random.choice function to draw a hand (five cards) from the deck. Use replace=False so that each card gets selected only once:"
   ]
  },
  {
   "cell_type": "code",
   "execution_count": 4,
   "metadata": {},
   "outputs": [
    {
     "name": "stdout",
     "output_type": "stream",
     "text": [
      "['Jack-Hearts' '4-Diamonds' '10-Diamonds' '1-Diamonds' '5-Hearts']\n"
     ]
    }
   ],
   "source": [
    "#The result should look something like this (you might get different cards): \n",
    "#['Ace-clubs' '5-clubs' '7-clubs' '9-clubs' '6-clubs']\n",
    "print(np.random.choice(cards,5, replace = False))"
   ]
  },
  {
   "cell_type": "markdown",
   "metadata": {},
   "source": [
    "5.Now, create a function named deal_hands that returns two lists, each with five cards drawn from the same deck. Use replace=False in the np.random.choice function. This function will perform sampling without replacement:\n",
    "\n",
    "To print the output, run the function like so:\n",
    "deal_hands()"
   ]
  },
  {
   "cell_type": "code",
   "execution_count": 5,
   "metadata": {},
   "outputs": [
    {
     "name": "stdout",
     "output_type": "stream",
     "text": [
      "['2-Diamonds' '8-Spades' '6-Spades' '9-Clubs' '2-Spades']\n",
      "['Jack-Diamonds' '5-Clubs' '10-Spades' 'Jack-Hearts' '3-Clubs']\n"
     ]
    }
   ],
   "source": [
    "# You should get something like this:\n",
    "#(['9-spades', 'Ace-clubs', 'Queen-diamonds', '2-diamonds',  '9-diamonds'],\n",
    "# ['Jack-hearts', '8-clubs', '10-clubs', '4-spades', 'Queen-hearts'])\n",
    "def deal_hands():\n",
    "    print(np.random.choice(cards,5, replace = False))\n",
    "    print(np.random.choice(cards,5, replace = False))\n",
    "deal_hands()"
   ]
  },
  {
   "cell_type": "markdown",
   "metadata": {},
   "source": [
    "6.Create a second function called deal_hands2 that's identical to the last one, but with the replace=True argument in the np.random.choice function. This function will perform sampling with replacement:"
   ]
  },
  {
   "cell_type": "code",
   "execution_count": 6,
   "metadata": {},
   "outputs": [
    {
     "name": "stdout",
     "output_type": "stream",
     "text": [
      "['10-Hearts' 'Ace-Hearts' '9-Spades' '9-Spades' '10-Clubs']\n",
      "['Jack-Spades' '6-Diamonds' '6-Spades' '1-Clubs' '7-Clubs']\n"
     ]
    }
   ],
   "source": [
    "def deal_hands2():\n",
    "    print(np.random.choice(cards, 5))\n",
    "    print(np.random.choice(cards, 5, replace = True))\n",
    "deal_hands2()"
   ]
  },
  {
   "cell_type": "markdown",
   "metadata": {},
   "source": [
    "7.Finally, run the following code: "
   ]
  },
  {
   "cell_type": "code",
   "execution_count": 7,
   "metadata": {},
   "outputs": [
    {
     "name": "stdout",
     "output_type": "stream",
     "text": [
      "['10-Clubs' '3-Diamonds' 'Jack-Hearts' '2-Clubs' '5-Spades']\n",
      "['10-Diamonds' '4-Spades' '2-Diamonds' '10-Clubs' '1-Diamonds']\n"
     ]
    }
   ],
   "source": [
    "np.random.seed(2)\n",
    "deal_hands2()"
   ]
  },
  {
   "cell_type": "markdown",
   "metadata": {},
   "source": [
    "# Binomial Distribution"
   ]
  },
  {
   "cell_type": "markdown",
   "metadata": {},
   "source": [
    "### Exercise: Checking If a Random Variable Follows a Binomial Distribution"
   ]
  },
  {
   "cell_type": "markdown",
   "metadata": {},
   "source": [
    "In this exercise, we will practice how to verify if a random variable follows a binomial distribution. We will also create a random variable using scipy.stats and plot the distribution. This will be a mostly conceptual exercise.\n",
    "\n",
    "Here, we will check if the random variable, Z: number of defective auto parts in a 12-box pack, follows a binomial distribution (remember that we consider 4% of the auto parts are defective). Follow these steps to complete this exercise:"
   ]
  },
  {
   "cell_type": "markdown",
   "metadata": {},
   "source": [
    "1.Import NumPy, Matplotlib, and scipy.stats following the usual conventions:"
   ]
  },
  {
   "cell_type": "code",
   "execution_count": 8,
   "metadata": {},
   "outputs": [],
   "source": [
    "import numpy as np\n",
    "import matplotlib.pyplot as plt\n",
    "from scipy import stats"
   ]
  },
  {
   "cell_type": "markdown",
   "metadata": {},
   "source": [
    "2.Try to conceptually check if Z fulfills the properties given for a binomial random variable:"
   ]
  },
  {
   "cell_type": "code",
   "execution_count": 9,
   "metadata": {},
   "outputs": [],
   "source": [
    "#Just discuss, no code. "
   ]
  },
  {
   "cell_type": "markdown",
   "metadata": {},
   "source": [
    "3.Determine the p and n parameters for the distributions of this variable, that is, p = 0.04 and n = 12."
   ]
  },
  {
   "cell_type": "code",
   "execution_count": 10,
   "metadata": {},
   "outputs": [],
   "source": [
    "p = 0.04\n",
    "n = 12"
   ]
  },
  {
   "cell_type": "markdown",
   "metadata": {},
   "source": [
    "4.Use the theoretical formula with the former parameters to get the exact theoretical probability of getting exactly one defective piece per box (using x = 1): "
   ]
  },
  {
   "cell_type": "code",
   "execution_count": 11,
   "metadata": {},
   "outputs": [
    {
     "data": {
      "text/plain": [
       "0.3063548786648836"
      ]
     },
     "execution_count": 11,
     "metadata": {},
     "output_type": "execute_result"
    }
   ],
   "source": [
    "#Use formula to calculate it.  f(k) = \\binom{n}{k} p^k (1-p)^{n-k}\n",
    "x = 1\n",
    "n * ((p) ** x ) * ((1 - p) ** (n - x))"
   ]
  },
  {
   "cell_type": "markdown",
   "metadata": {},
   "source": [
    "5.Use the scipy.stats module to produce an instance of the Z random variable. Name it Z_rv:"
   ]
  },
  {
   "cell_type": "code",
   "execution_count": 12,
   "metadata": {},
   "outputs": [
    {
     "name": "stdout",
     "output_type": "stream",
     "text": [
      "0\t0.6127097573297674\n",
      "1\t0.30635487866488303\n",
      "2\t0.0702063263607024\n",
      "3\t0.00975087866120869\n",
      "4\t0.0009141448744883129\n",
      "5\t6.094299163255422e-05\n",
      "6\t2.9625065376936106e-06\n",
      "7\t1.0580380491762873e-07\n",
      "8\t2.755307419729918e-09\n",
      "9\t5.1024211476480043e-11\n",
      "10\t6.378026434559986e-13\n",
      "11\t4.831838207999973e-15\n",
      "12\t1.6777216000000067e-17\n"
     ]
    }
   ],
   "source": [
    "Z = stats.binom(n,p)\n",
    "Z_rv = Z.rvs(10)\n",
    "dist = []\n",
    "\n",
    "for i in range(n+1):\n",
    "    dist.append(Z.pmf(i))\n",
    "    print(str(i) + \"\\t\" + str(Z.pmf(i)))"
   ]
  },
  {
   "cell_type": "code",
   "execution_count": 13,
   "metadata": {},
   "outputs": [
    {
     "data": {
      "image/png": "[encoded data removed]",
      "text/plain": [
       "<Figure size 432x288 with 1 Axes>"
      ]
     },
     "metadata": {
      "needs_background": "light"
     },
     "output_type": "display_data"
    }
   ],
   "source": [
    "plt.bar(list(range(n+1)),dist)\n",
    "plt.show();"
   ]
  },
  {
   "cell_type": "markdown",
   "metadata": {},
   "source": [
    "6.Plot the probability mass function of Z:"
   ]
  },
  {
   "cell_type": "code",
   "execution_count": 14,
   "metadata": {},
   "outputs": [
    {
     "data": {
      "image/png": "[encoded data removed]",
      "text/plain": [
       "<Figure size 432x288 with 1 Axes>"
      ]
     },
     "metadata": {
      "needs_background": "light"
     },
     "output_type": "display_data"
    }
   ],
   "source": [
    "listZ = []\n",
    "\n",
    "for i in Z_rv:\n",
    "    listZ.append(Z.pmf(i)) # P(robability) M(ass) F(unction)\n",
    "\n",
    "plt.plot(Z_rv,listZ)\n",
    "\n",
    "plt.show();"
   ]
  },
  {
   "cell_type": "markdown",
   "metadata": {},
   "source": [
    "# Normal Distribution"
   ]
  },
  {
   "cell_type": "markdown",
   "metadata": {},
   "source": [
    "### Exercise: Using the Normal Distribution in Education"
   ]
  },
  {
   "cell_type": "markdown",
   "metadata": {},
   "source": [
    "In this exercise, we'll use a normal distribution object from scipy.stats and the cdf and its inverse, ppf, to answer questions about education.\n",
    "\n",
    "In psychometrics and education, it is a well-known fact that many variables relevant to education policy are normally distributed. For instance, scores in standardized mathematics tests follow a normal distribution. In this exercise, we'll explore this phenomenon: in a certain country, high school students take a standardized mathematics test whose scores follow a normal distribution with the following parameters: mean = 100, standard deviation = 15. Follow these steps to complete this exercise:"
   ]
  },
  {
   "cell_type": "markdown",
   "metadata": {},
   "source": [
    "1.Import NumPy, Matplotlib, and scipy.stats following the usual conventions:"
   ]
  },
  {
   "cell_type": "code",
   "execution_count": 15,
   "metadata": {},
   "outputs": [],
   "source": [
    "import numpy as np\n",
    "import matplotlib.pyplot as plt\n",
    "from scipy import stats"
   ]
  },
  {
   "cell_type": "markdown",
   "metadata": {},
   "source": [
    "2.Use the scipy.stats module to produce an instance of a normally distributed random variable, named X_rv, with mean = 100 and standard deviation = 15:"
   ]
  },
  {
   "cell_type": "code",
   "execution_count": 16,
   "metadata": {},
   "outputs": [],
   "source": [
    "X = stats.norm(100,15)\n",
    "X_rv = X.rvs(3)"
   ]
  },
  {
   "cell_type": "markdown",
   "metadata": {},
   "source": [
    "3.Plot the probability distribution of X:"
   ]
  },
  {
   "cell_type": "code",
   "execution_count": 17,
   "metadata": {},
   "outputs": [
    {
     "data": {
      "text/plain": [
       "(0.0, 200.0)"
      ]
     },
     "execution_count": 17,
     "metadata": {},
     "output_type": "execute_result"
    },
    {
     "data": {
      "image/png": "[encoded data removed]",
      "text/plain": [
       "<Figure size 432x288 with 1 Axes>"
      ]
     },
     "metadata": {
      "needs_background": "light"
     },
     "output_type": "display_data"
    }
   ],
   "source": [
    "b = []\n",
    "\n",
    "for i in X_rv:\n",
    "    b.append(X.pdf(i))\n",
    "\n",
    "plt.plot(X_rv,b)\n",
    "plt.xlim(0,200)"
   ]
  },
  {
   "cell_type": "markdown",
   "metadata": {},
   "source": [
    "4.The Ministry of Education has decided that the minimum score for someone to be considered competent in mathematics is 80. Use the cdf method to calculate the proportion of students that will get a score above that score:"
   ]
  },
  {
   "cell_type": "code",
   "execution_count": 18,
   "metadata": {},
   "outputs": [
    {
     "data": {
      "text/plain": [
       "0.9192433407662289"
      ]
     },
     "execution_count": 18,
     "metadata": {},
     "output_type": "execute_result"
    }
   ],
   "source": [
    "1 - X.cdf(79)"
   ]
  },
  {
   "cell_type": "markdown",
   "metadata": {},
   "source": [
    "5.A very selective university wants to set very high standards for high school students that are admitted to their programs. The policy of the university is to only admit students with mathematics scores in the top 2% of the population. Use the ppf method (which is essentially the inverse function of the cdf method) with an argument of 1 - 0.02 = 0.98 to get the cut-off score for admission:"
   ]
  },
  {
   "cell_type": "code",
   "execution_count": 19,
   "metadata": {},
   "outputs": [
    {
     "name": "stdout",
     "output_type": "stream",
     "text": [
      "Min score is : 131\n",
      "0.9806172129111814\n"
     ]
    }
   ],
   "source": [
    "for i in range(200):\n",
    "    if (X.cdf(i)>0.98):\n",
    "        print(\"Min score is : \" + str(i) + \"\\n\" + str(X.cdf(i)))\n",
    "        break"
   ]
  },
  {
   "cell_type": "markdown",
   "metadata": {},
   "source": [
    "In this exercise, we used a normal distribution and the cdf and ppf methods to answer real-world questions about education policy."
   ]
  }
 ],
 "metadata": {
  "kernelspec": {
   "display_name": "Python 3",
   "language": "python",
   "name": "python3"
  },
  "language_info": {
   "codemirror_mode": {
    "name": "ipython",
    "version": 3
   },
   "file_extension": ".py",
   "mimetype": "text/x-python",
   "name": "python",
   "nbconvert_exporter": "python",
   "pygments_lexer": "ipython3",
   "version": "3.8.5"
  }
 },
 "nbformat": 4,
 "nbformat_minor": 2
}
