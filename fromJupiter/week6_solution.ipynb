{
 "cells": [
  {
   "cell_type": "markdown",
   "metadata": {},
   "source": [
    "# Randomness and Probability¶\n",
    "# In this exercise, we will use random.choice to produce random samples with and without replacement. Follow these steps to complete this exercise:\n",
    "# \n",
    "# 1.Import the NumPy library:"
   ]
  },
  {
   "cell_type": "code",
   "execution_count": 3,
   "metadata": {},
   "outputs": [],
   "source": [
    "import numpy as np"
   ]
  },
  {
   "cell_type": "code",
   "execution_count": null,
   "metadata": {},
   "outputs": [],
   "source": []
  },
  {
   "cell_type": "markdown",
   "metadata": {},
   "source": [
    "\n",
    "2.Create two lists containing four different suits and 13 different ranks in the set of standard cards:"
   ]
  },
  {
   "cell_type": "code",
   "execution_count": 4,
   "metadata": {},
   "outputs": [],
   "source": [
    "\n",
    "suits = ['hearts', 'diamonds', 'spades', 'clubs']\n",
    "ranks = ['Ace', '2', '3', '4', '5', '6', '7', '8', '9', '10', 'Jack', 'Queen', 'King']"
   ]
  },
  {
   "cell_type": "markdown",
   "metadata": {},
   "source": [
    "\n",
    "3.Create a list, named cards, containing the 52 cards of the standard deck:"
   ]
  },
  {
   "cell_type": "code",
   "execution_count": null,
   "metadata": {},
   "outputs": [],
   "source": [
    "cards = [rank + '-' + suit for rank in ranks for suit in suits]\n",
    "cards"
   ]
  },
  {
   "cell_type": "markdown",
   "metadata": {},
   "source": [
    "\n",
    "4.Use the np.random.choice function to draw a hand (five cards) from the deck. Use replace=False so that each card gets selected only once:"
   ]
  },
  {
   "cell_type": "code",
   "execution_count": 6,
   "metadata": {},
   "outputs": [
    {
     "name": "stdout",
     "output_type": "stream",
     "text": [
      "['7-spades' '10-diamonds' '5-hearts' '6-clubs' '9-diamonds']\n"
     ]
    }
   ],
   "source": [
    "#The result should look something like this (you might get different cards): \n",
    "#['Ace-clubs' '5-clubs' '7-clubs' '9-clubs' '6-clubs']\n",
    "print(np.random.choice(cards, size=5, replace=False))"
   ]
  },
  {
   "cell_type": "markdown",
   "metadata": {},
   "source": [
    "\n",
    "5.Now, create a function named deal_hands that returns two lists, each with five cards drawn from the same deck. Use replace=False in the np.random.choice function. This function will perform sampling without replacement:\n",
    "\n",
    "To print the output, run the function like so: deal_hands()"
   ]
  },
  {
   "cell_type": "code",
   "execution_count": 8,
   "metadata": {},
   "outputs": [
    {
     "data": {
      "text/plain": [
       "(['Queen-spades', 'Queen-hearts', '10-diamonds', 'Ace-clubs', '4-diamonds'],\n",
       " ['2-hearts', '3-clubs', 'Jack-diamonds', '2-clubs', 'King-diamonds'])"
      ]
     },
     "execution_count": 8,
     "metadata": {},
     "output_type": "execute_result"
    }
   ],
   "source": [
    "#You should get something like this:\n",
    "#(['9-spades', 'Ace-clubs', 'Queen-diamonds', '2-diamonds',  '9-diamonds'],\n",
    "# ['Jack-hearts', '8-clubs', '10-clubs', '4-spades', 'Queen-hearts'])\n",
    "def deal_hands():\n",
    "    drawn_cards = np.random.choice(cards, size=10, replace=False)\n",
    "    hand_1 = drawn_cards[:5].tolist()\n",
    "    hand_2 = drawn_cards[5:].tolist()\n",
    "    return hand_1, hand_2\n",
    "\n",
    "deal_hands()"
   ]
  },
  {
   "cell_type": "markdown",
   "metadata": {},
   "source": [
    "\n",
    "6.Create a second function called deal_hands2 that's identical to the last one, but with the replace=True argument in the np.random.choice function. This function will perform sampling with replacement:"
   ]
  },
  {
   "cell_type": "code",
   "execution_count": 9,
   "metadata": {},
   "outputs": [],
   "source": [
    "def deal_hands2():\n",
    "    drawn_cards = np.random.choice(cards, size=10, replace=True)\n",
    "    hand_1 = drawn_cards[:5].tolist()\n",
    "    hand_2 = drawn_cards[5:].tolist()\n",
    "    return hand_1, hand_2"
   ]
  },
  {
   "cell_type": "markdown",
   "metadata": {},
   "source": [
    "7.Finally, run the following code:"
   ]
  },
  {
   "cell_type": "code",
   "execution_count": 12,
   "metadata": {},
   "outputs": [
    {
     "data": {
      "text/plain": [
       "(['Jack-hearts', '4-clubs', 'Queen-diamonds', '3-hearts', '6-spades'],\n",
       " ['Jack-clubs', '5-spades', '3-clubs', 'Jack-hearts', '2-clubs'])"
      ]
     },
     "execution_count": 12,
     "metadata": {},
     "output_type": "execute_result"
    }
   ],
   "source": [
    "np.random.seed(2)\n",
    "deal_hands2()"
   ]
  },
  {
   "cell_type": "markdown",
   "metadata": {},
   "source": [
    "As you can see, by allowing sampling with replacement, the Jack-hearts card was drawn in both hands, meaning that when each card was sampled, all 52 were considered."
   ]
  },
  {
   "cell_type": "markdown",
   "metadata": {},
   "source": [
    "\n",
    "# Binomial Distribution\n",
    "# Exercise: Checking If a Random Variable Follows a Binomial Distribution\n",
    "# In this exercise, we will practice how to verify if a random variable follows a binomial distribution. We will also create a random variable using scipy.stats and plot the distribution. This will be a mostly conceptual exercise.\n",
    "# \n",
    "# Here, we will check if the random variable, Z: number of defective auto parts in a 12-box pack, follows a binomial distribution (remember that we consider 4% of the auto parts are defective). Follow these steps to complete this exercise:\n",
    "# \n",
    "# 1.Import NumPy, Matplotlib, and scipy.stats following the usual conventions:"
   ]
  },
  {
   "cell_type": "code",
   "execution_count": 14,
   "metadata": {},
   "outputs": [],
   "source": [
    "import numpy as np\n",
    "import scipy.stats as stats\n",
    "import matplotlib.pyplot as plt\n",
    "%matplotlib inline"
   ]
  },
  {
   "cell_type": "markdown",
   "metadata": {},
   "source": [
    "\n",
    "2.Try to conceptually check if Z fulfills the properties given for a binomial random variable:"
   ]
  },
  {
   "cell_type": "code",
   "execution_count": 15,
   "metadata": {},
   "outputs": [],
   "source": [
    "#Just discuss, no code."
   ]
  },
  {
   "cell_type": "markdown",
   "metadata": {},
   "source": [
    "Condition 1: For each individual auto part, there are only two possible outcomes, defective or good. Since we were interested in the defective parts, then that outcome can be considered the success, with a fixed probability of 0.04 (4%).\n",
    "\n",
    "Condition 2: The number of parts per box was fixed at 12, so the experiment was performed a fixed number of times per box.\n",
    "\n",
    "Condition 3: We assumed that the defective parts had no relationship between one another because the machine randomly produces an average of 4% defective parts.\n",
    "\n",
    "3.Determine the p and n parameters for the distributions of this variable, that is, p = 0.04 and n = 12."
   ]
  },
  {
   "cell_type": "code",
   "execution_count": 16,
   "metadata": {},
   "outputs": [],
   "source": [
    "n = 12\n",
    "p = 0.04"
   ]
  },
  {
   "cell_type": "markdown",
   "metadata": {},
   "source": [
    "4.Use the theoretical formula with the former parameters to get the exact theoretical probability of getting exactly one defective piece per box (using x = 1):"
   ]
  },
  {
   "cell_type": "code",
   "execution_count": 17,
   "metadata": {},
   "outputs": [
    {
     "name": "stdout",
     "output_type": "stream",
     "text": [
      "P(Z = 1) =  0.3063548786648836\n"
     ]
    }
   ],
   "source": [
    "\n",
    "#Use formula to calculate it.\n",
    "import math\n",
    "print('P(Z = 1) = ', (math.factorial(12)/(math.factorial(1)*math.factorial(12-1)))*p**1*(1-p)**(12-1))"
   ]
  },
  {
   "cell_type": "markdown",
   "metadata": {},
   "source": [
    "5.Use the scipy.stats module to produce an instance of the Z random variable. Name it Z_rv:"
   ]
  },
  {
   "cell_type": "code",
   "execution_count": 18,
   "metadata": {},
   "outputs": [],
   "source": [
    "Z_rv = stats.binom(n, p)"
   ]
  },
  {
   "cell_type": "markdown",
   "metadata": {},
   "source": [
    "6.Plot the probability mass function of Z:"
   ]
  },
  {
   "cell_type": "code",
   "execution_count": 19,
   "metadata": {},
   "outputs": [
    {
     "data": {
      "image/png": "[encoded data removed]",
      "text/plain": [
       "<Figure size 432x288 with 1 Axes>"
      ]
     },
     "metadata": {
      "needs_background": "light"
     },
     "output_type": "display_data"
    }
   ],
   "source": [
    "z_possible_values = np.arange(0, n + 1)\n",
    "Z_probs = Z_rv.pmf(z_possible_values)\n",
    "fig, ax = plt.subplots()\n",
    "ax.bar(z_possible_values, Z_probs)\n",
    "ax.set_xticks(z_possible_values)\n",
    "ax.grid();"
   ]
  },
  {
   "cell_type": "markdown",
   "metadata": {},
   "source": [
    "# Normal Distribution\n",
    "# Exercise: Using the Normal Distribution in Education\n",
    "# In this exercise, we'll use a normal distribution object from scipy.stats and the cdf and its inverse, ppf, to answer questions about education.\n",
    "# \n",
    "# In psychometrics and education, it is a well-known fact that many variables relevant to education policy are normally distributed. For instance, scores in standardized mathematics tests follow a normal distribution. In this exercise, we'll explore this phenomenon: in a certain country, high school students take a standardized mathematics test whose scores follow a normal distribution with the following parameters: mean = 100, standard deviation = 15. Follow these steps to complete this exercise:\n",
    "# \n",
    "# 1.Import NumPy, Matplotlib, and scipy.stats following the usual conventions:"
   ]
  },
  {
   "cell_type": "code",
   "execution_count": 20,
   "metadata": {},
   "outputs": [],
   "source": [
    "import numpy as np\n",
    "import scipy.stats as stats\n",
    "import matplotlib.pyplot as plt\n",
    "\n",
    "%matplotlib inline"
   ]
  },
  {
   "cell_type": "markdown",
   "metadata": {},
   "source": [
    "2.Use the scipy.stats module to produce an instance of a normally distributed random variable, named X_rv, with mean = 100 and standard deviation = 15:"
   ]
  },
  {
   "cell_type": "code",
   "execution_count": null,
   "metadata": {},
   "outputs": [],
   "source": [
    "\n",
    "# producing the normal distribution\n",
    "X_mean = 100\n",
    "X_sd = 15\n",
    "\n",
    "# create the random variable\n",
    "X_rv = stats.norm(\n",
    "        loc = X_mean,\n",
    "        scale = X_sd \n",
    "    )"
   ]
  }
 ],
 "metadata": {
  "kernelspec": {
   "display_name": "Python 3",
   "language": "python",
   "name": "python3"
  },
  "language_info": {
   "codemirror_mode": {
    "name": "ipython",
    "version": 3
   },
   "file_extension": ".py",
   "mimetype": "text/x-python",
   "name": "python",
   "nbconvert_exporter": "python",
   "pygments_lexer": "ipython3",
   "version": "3.8.5"
  }
 },
 "nbformat": 4,
 "nbformat_minor": 4
}
