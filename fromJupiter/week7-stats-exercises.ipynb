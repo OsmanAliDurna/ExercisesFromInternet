{
 "cells": [
  {
   "cell_type": "markdown",
   "metadata": {},
   "source": [
    "# Finding the Confidence Interval of Polling Figures"
   ]
  },
  {
   "cell_type": "markdown",
   "metadata": {},
   "source": [
    "You are running a political campaign and decide to run 30 focus groups with about 10 people in each group. You get the results and want to report to your candidate the number of people who would vote for them in a typical 10-person group. Since there is some variability in each focus group, you decide that the most accurate way is to give a 95% z-confidence interval. You assume from past experience that the standard deviation is 2.89."
   ]
  },
  {
   "cell_type": "markdown",
   "metadata": {},
   "source": [
    "1.Import the random Python package and set the seed to 39809. This will ensure that we get the same results every time we run the program:"
   ]
  },
  {
   "cell_type": "code",
   "execution_count": 1,
   "metadata": {},
   "outputs": [],
   "source": [
    "import numpy as np\n",
    "import pandas as pd\n",
    "from scipy import stats"
   ]
  },
  {
   "cell_type": "markdown",
   "metadata": {},
   "source": [
    "2.Initialize our sample list and collect our samples from our focus groups. Use random.randint"
   ]
  },
  {
   "cell_type": "code",
   "execution_count": 2,
   "metadata": {},
   "outputs": [
    {
     "data": {
      "text/plain": [
       "array([0, 6, 5, 6, 3, 9, 0, 8, 5, 9, 8, 2, 9, 5, 9, 6, 1, 0, 6, 4, 0, 4,\n",
       "       4, 1, 3, 2, 6, 1, 1, 4])"
      ]
     },
     "execution_count": 2,
     "metadata": {},
     "output_type": "execute_result"
    }
   ],
   "source": [
    "np.random.seed(39809)\n",
    "sample = np.random.randint(0, 10, size=30)\n",
    "sample"
   ]
  },
  {
   "cell_type": "markdown",
   "metadata": {},
   "source": [
    "3.Calculate 95% z-confidence interval."
   ]
  },
  {
   "cell_type": "code",
   "execution_count": 3,
   "metadata": {},
   "outputs": [],
   "source": [
    "m = sample.mean()"
   ]
  },
  {
   "cell_type": "code",
   "execution_count": 4,
   "metadata": {},
   "outputs": [],
   "source": [
    "s = sample.std()"
   ]
  },
  {
   "cell_type": "code",
   "execution_count": 5,
   "metadata": {},
   "outputs": [
    {
     "name": "stdout",
     "output_type": "stream",
     "text": [
      "3.1730663928012874     5.29360027386538\n"
     ]
    }
   ],
   "source": [
    "lowerLimit = m - 1.960 * s / np.sqrt(30)\n",
    "upperLimit = m + 1.960 * s / np.sqrt(30)\n",
    "print(lowerLimit , \"   \" , upperLimit)"
   ]
  },
  {
   "cell_type": "code",
   "execution_count": 6,
   "metadata": {},
   "outputs": [
    {
     "data": {
      "text/plain": [
       "(3.1730858754551283, 5.2935807912115385)"
      ]
     },
     "execution_count": 6,
     "metadata": {},
     "output_type": "execute_result"
    }
   ],
   "source": [
    "ci = stats.norm.interval(0.95, sample.mean(), sample.std()/np.sqrt(len(sample)))\n",
    "ci"
   ]
  },
  {
   "cell_type": "markdown",
   "metadata": {},
   "source": [
    "4.If you did everything correctly, then the following should be printed when you run your notebook:"
   ]
  },
  {
   "cell_type": "markdown",
   "metadata": {},
   "source": [
    "    Your 0.95 z confidence interval is (3.965845784931483, 6.034154215068517)"
   ]
  },
  {
   "cell_type": "markdown",
   "metadata": {},
   "source": [
    "# Hypothesis Testing"
   ]
  },
  {
   "cell_type": "markdown",
   "metadata": {},
   "source": [
    "Your boss asks you to conduct a hypothesis test about the mean dwell time of a new type of UAV. Before you arrived, an experiment was conducted on n=5 UAVs (all of the new type) resulting in a sample mean dwell time of ybar=10.4 hours. The goal is to conclusively demonstrate, if possible, that the data supports the manufacturer’s claim that the mean dwell time is greater than 10 hours. Given that it is reasonable to assume the dwell times are normally distributed, the sample standard deviation is s = 0.5 hours, and using a significance level of α = 0.01"
   ]
  },
  {
   "cell_type": "markdown",
   "metadata": {},
   "source": [
    "1.Write out the null and alternative hypotheses"
   ]
  },
  {
   "cell_type": "code",
   "execution_count": 7,
   "metadata": {},
   "outputs": [],
   "source": [
    "# Null hypothesis:\n",
    "ybar = 10.4 # sample mean dwell time\n",
    "n = 5 # number of type\n",
    "\n",
    "# Alternative hypothesis:\n",
    "sigma = 0.5 # sd of population\n",
    "mu = 10 # Population mean dwell time\n",
    "\n",
    "alpha = 0.01 # significance level"
   ]
  },
  {
   "cell_type": "markdown",
   "metadata": {},
   "source": [
    "2.Calculate the test statistic"
   ]
  },
  {
   "cell_type": "markdown",
   "metadata": {
    "id": "l62qBl7N2lmU"
   },
   "source": [
    "Calculate the test statistic:\n",
    "$$ z = \\frac{\\bar x - \\mu_0} {\\sigma / \\sqrt n} $$"
   ]
  },
  {
   "cell_type": "code",
   "execution_count": 8,
   "metadata": {},
   "outputs": [
    {
     "data": {
      "text/plain": [
       "1.7888543819998335"
      ]
     },
     "execution_count": 8,
     "metadata": {},
     "output_type": "execute_result"
    }
   ],
   "source": [
    "z = (ybar - mu)/(sigma/np.sqrt(n))\n",
    "z"
   ]
  },
  {
   "cell_type": "markdown",
   "metadata": {},
   "source": [
    "3.Find the p-value and state the outcome"
   ]
  },
  {
   "cell_type": "code",
   "execution_count": 9,
   "metadata": {},
   "outputs": [
    {
     "data": {
      "text/plain": [
       "0.03681913506015122"
      ]
     },
     "execution_count": 9,
     "metadata": {},
     "output_type": "execute_result"
    }
   ],
   "source": [
    "p_value = 1 - stats.norm.cdf(z)\n",
    "p_value"
   ]
  },
  {
   "cell_type": "code",
   "execution_count": 10,
   "metadata": {},
   "outputs": [
    {
     "name": "stdout",
     "output_type": "stream",
     "text": [
      "At 0.01 level of significance, we fail to reject the null hypothesis.\n"
     ]
    }
   ],
   "source": [
    "if p_value < alpha:\n",
    "    print('At {} level of significance, we can reject the null hypothesis in favor of alternative hypothesis.'.format(alpha))\n",
    "else:\n",
    "    print('At {} level of significance, we fail to reject the null hypothesis.'.format(alpha))"
   ]
  }
 ],
 "metadata": {
  "kernelspec": {
   "display_name": "Python 3",
   "language": "python",
   "name": "python3"
  },
  "language_info": {
   "codemirror_mode": {
    "name": "ipython",
    "version": 3
   },
   "file_extension": ".py",
   "mimetype": "text/x-python",
   "name": "python",
   "nbconvert_exporter": "python",
   "pygments_lexer": "ipython3",
   "version": "3.8.5"
  }
 },
 "nbformat": 4,
 "nbformat_minor": 2
}
