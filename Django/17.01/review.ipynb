{
 "cells": [
  {
   "cell_type": "code",
   "execution_count": 1,
   "metadata": {},
   "outputs": [
    {
     "data": {
      "text/plain": [
       "4"
      ]
     },
     "execution_count": 1,
     "metadata": {},
     "output_type": "execute_result"
    }
   ],
   "source": [
    "2 + 2"
   ]
  },
  {
   "cell_type": "code",
   "execution_count": 2,
   "metadata": {},
   "outputs": [],
   "source": [
    "a = \"Hello\""
   ]
  },
  {
   "cell_type": "code",
   "execution_count": 3,
   "metadata": {},
   "outputs": [
    {
     "name": "stdout",
     "output_type": "stream",
     "text": [
      "13\n"
     ]
    }
   ],
   "source": [
    "a = \"Hello, World!\"\n",
    "print(len(a))"
   ]
  },
  {
   "cell_type": "code",
   "execution_count": 4,
   "metadata": {},
   "outputs": [
    {
     "name": "stdout",
     "output_type": "stream",
     "text": [
      "e\n"
     ]
    }
   ],
   "source": [
    "a = \"Hello World!\"\n",
    "print(a[1])"
   ]
  },
  {
   "cell_type": "code",
   "execution_count": 5,
   "metadata": {},
   "outputs": [
    {
     "name": "stdout",
     "output_type": "stream",
     "text": [
      "ol eyyyyy\n"
     ]
    },
    {
     "data": {
      "text/plain": [
       "'ol eyyyyy  '"
      ]
     },
     "execution_count": 5,
     "metadata": {},
     "output_type": "execute_result"
    }
   ],
   "source": [
    "string3 = \"ol eyyyyy  \"\n",
    "\n",
    "# prints the string by removing leading and trailing whitespaces\n",
    "print(string3.strip())\n",
    "\n",
    "# prints the string by removing geeks\n",
    "string3 = \"ol eyyyyy  \"\n",
    "string3.strip(\"y\")"
   ]
  },
  {
   "cell_type": "code",
   "execution_count": 6,
   "metadata": {},
   "outputs": [
    {
     "data": {
      "text/plain": [
       "['H', 'llo']"
      ]
     },
     "execution_count": 6,
     "metadata": {},
     "output_type": "execute_result"
    }
   ],
   "source": [
    "new_variable = \"Hello\"\n",
    "\n",
    "new_variable.split(\"e\")"
   ]
  },
  {
   "cell_type": "code",
   "execution_count": 7,
   "metadata": {},
   "outputs": [
    {
     "data": {
      "text/plain": [
       "['He', '', 'o']"
      ]
     },
     "execution_count": 7,
     "metadata": {},
     "output_type": "execute_result"
    }
   ],
   "source": [
    "new_variable.split(\"l\")"
   ]
  },
  {
   "cell_type": "code",
   "execution_count": 8,
   "metadata": {},
   "outputs": [
    {
     "name": "stdout",
     "output_type": "stream",
     "text": [
      "x == y: False\n",
      "x != y: True\n",
      "x < y: True\n",
      "x > y: False\n",
      "x <= y: True\n",
      "x >= y: False\n"
     ]
    }
   ],
   "source": [
    "x = 5\n",
    "y = 8\n",
    "\n",
    "print(\"x == y:\", x == y)\n",
    "print(\"x != y:\", x != y)\n",
    "print(\"x < y:\", x < y)\n",
    "print(\"x > y:\", x > y)\n",
    "print(\"x <= y:\", x <= y)\n",
    "print(\"x >= y:\", x >= y)"
   ]
  },
  {
   "cell_type": "code",
   "execution_count": 9,
   "metadata": {},
   "outputs": [
    {
     "name": "stdout",
     "output_type": "stream",
     "text": [
      "[0]\n",
      "[0, 1]\n",
      "[0, 1, 2]\n",
      "[0, 1, 2, 3]\n",
      "[0, 1, 2, 3, 4]\n",
      "4\n",
      "3\n",
      "2\n",
      "1\n",
      "0\n"
     ]
    }
   ],
   "source": [
    "stack = []\n",
    "\n",
    "for i in range(5):\n",
    "    stack.append(i)\n",
    "    print(stack)\n",
    "\n",
    "while len(stack):\n",
    "    print(stack.pop())"
   ]
  },
  {
   "cell_type": "code",
   "execution_count": 10,
   "metadata": {},
   "outputs": [
    {
     "name": "stdout",
     "output_type": "stream",
     "text": [
      "<class 'tuple'>\n",
      "<class 'str'>\n",
      "banana\n"
     ]
    }
   ],
   "source": [
    "thistuple = (\"apple\",)\n",
    "print(type(thistuple))\n",
    "\n",
    "# NOT a tuple\n",
    "thistuple = (\"apple\")\n",
    "print(type(thistuple))\n",
    "\n",
    "# A tuple with strings, integers and boolean values:\n",
    "tuple1 = (\"abc\", 34, True, 40, \"male\")\n",
    "\n",
    "# Print the second item in the tuple:\n",
    "thistuple = (\"apple\", \"banana\", \"cherry\")\n",
    "print(thistuple[1])"
   ]
  },
  {
   "cell_type": "code",
   "execution_count": 12,
   "metadata": {},
   "outputs": [
    {
     "name": "stdout",
     "output_type": "stream",
     "text": [
      "{'brand': 'Ford', 'model': 'Mustang', 'year': 1964}\n",
      "Mustang\n",
      "Mustang\n",
      "dict_keys(['brand', 'model', 'year'])\n",
      "brand\n",
      "model\n",
      "year\n"
     ]
    },
    {
     "data": {
      "text/plain": [
       "('color', 'red')"
      ]
     },
     "execution_count": 12,
     "metadata": {},
     "output_type": "execute_result"
    }
   ],
   "source": [
    "thisdict = {\n",
    "  \"brand\": \"Ford\",\n",
    "  \"model\": \"Mustang\",\n",
    "  \"year\": 1964\n",
    "}\n",
    "print(thisdict)\n",
    "# {'brand': 'Ford', 'model': 'Mustang', 'year': 1964}\n",
    "\n",
    "# You can access the items of a dictionary by referring to its key name, inside square brackets:\n",
    "x = thisdict[\"model\"]\n",
    "print(x)\n",
    "# Mustang\n",
    "\n",
    "# If there is not such a key, it will raise key error. To avoid this use get() method.\n",
    "\n",
    "\n",
    "# There is also a method called get() that will give you the same result:\n",
    "x = thisdict.get(\"model\")\n",
    "print(x)\n",
    "# Mustang\n",
    "\n",
    "# If not, then it will return None (if get() is used with only one argument). \n",
    "# Default None can be changed to a worning message: \n",
    "thisdict.get(\"bran\", \"There is no such a key!\")\n",
    "\n",
    "\n",
    "# The keys() method will return a list of all the keys in the dictionary.\n",
    "x = thisdict.keys()\n",
    "print(x)\n",
    "# dict_keys(['brand', 'model', 'year'])\n",
    "# Keys can be displayed on a loop:\n",
    "for key in  thisdict.keys():\n",
    "  print(key)\n",
    "\n",
    "\n",
    "# Add a new item to the original dictionary, and see that the keys list gets updated as well:\n",
    "thisdict[\"color\"] = \"white\"\n",
    "\n",
    "\n",
    "# You can change the value of a specific item by referring to its key name:\n",
    "thisdict[\"year\"] = 2018\n",
    "\n",
    "# The update() method will update the dictionary with the items from the given argument. The argument must be a dictionary, or an iterable object with key:value pairs.\n",
    "thisdict.update({\"year\": 2020})\n",
    "\n",
    "# Adding an item to the dictionary is done by using a new index key and assigning a value to it:\n",
    "thisdict[\"color\"] = \"red\"\n",
    "\n",
    "# The pop() method removes the item with the specified key name:\n",
    "thisdict.pop(\"model\")\n",
    "\n",
    "# The popitem() method removes the last inserted item \n",
    "thisdict.popitem()"
   ]
  },
  {
   "cell_type": "code",
   "execution_count": 13,
   "metadata": {},
   "outputs": [
    {
     "data": {
      "text/plain": [
       "'Hello John Smith how are you?'"
      ]
     },
     "execution_count": 13,
     "metadata": {},
     "output_type": "execute_result"
    }
   ],
   "source": [
    "# The following example has a function with one argument (name). When the function is called, we pass along a name, which is used inside the function to print the full name.\n",
    "def my_function(name):\n",
    "    return f\"Hello {name} how are you?\"\n",
    "\n",
    "\n",
    "my_function(\"John\")\n",
    "\n",
    "\n",
    "# This function expects 2 arguments, and gets 2 arguments:\n",
    "def my_function(name, last_name):\n",
    "    return f\"Hello {name} {last_name} how are you?\"\n",
    "\n",
    "\n",
    "my_function(\"John\", \"Smith\")\n"
   ]
  },
  {
   "cell_type": "code",
   "execution_count": 14,
   "metadata": {},
   "outputs": [
    {
     "data": {
      "text/plain": [
       "'The youngest child is Hans'"
      ]
     },
     "execution_count": 14,
     "metadata": {},
     "output_type": "execute_result"
    }
   ],
   "source": [
    "def my_function(*kids):\n",
    "  return \"The youngest child is \" + kids[0]\n",
    "\n",
    "my_function(\"Hans\", \"Angel\", \"Lilly\")"
   ]
  },
  {
   "cell_type": "code",
   "execution_count": 15,
   "metadata": {},
   "outputs": [
    {
     "data": {
      "text/plain": [
       "'The youngest child is Lilly'"
      ]
     },
     "execution_count": 15,
     "metadata": {},
     "output_type": "execute_result"
    }
   ],
   "source": [
    "# This way the order of the arguments does not matter.\n",
    "def my_function(child3, child2, child1):\n",
    "  return \"The youngest child is \" + child3\n",
    "\n",
    "my_function(child1 = \"Hans\", child2 = \"Angel\", child3 = \"Lilly\")"
   ]
  },
  {
   "cell_type": "code",
   "execution_count": 25,
   "metadata": {},
   "outputs": [
    {
     "name": "stdout",
     "output_type": "stream",
     "text": [
      "Hello John\n",
      "Hello Smith\n",
      "Hello x\n"
     ]
    }
   ],
   "source": [
    "# If the number of keyword arguments is unknown, add a double ** before the parameter name:\n",
    "\n",
    "def my_function(**kids):\n",
    "    for kid in kids.values():\n",
    "        print(f\"Hello {kid}\")\n",
    "\n",
    "my_function(name = \"John\", last_name = \"Smith\")\n",
    "my_function(a = \"x\")"
   ]
  },
  {
   "cell_type": "code",
   "execution_count": 17,
   "metadata": {},
   "outputs": [],
   "source": [
    "# correct_function_definition.py\n",
    "def my_function(a, b, *args, **kwargs):\n",
    "    pass"
   ]
  },
  {
   "cell_type": "code",
   "execution_count": 19,
   "metadata": {},
   "outputs": [
    {
     "name": "stdout",
     "output_type": "stream",
     "text": [
      "I am from Sweden\n",
      "I am from Norway\n"
     ]
    }
   ],
   "source": [
    "def my_function(country = \"Norway\"):\n",
    "  return \"I am from \" + country\n",
    "\n",
    "print(my_function(\"Sweden\"))\n",
    "print(my_function())"
   ]
  },
  {
   "cell_type": "code",
   "execution_count": 26,
   "metadata": {},
   "outputs": [],
   "source": [
    "def my_decorator(func):\n",
    "    def wrapper():\n",
    "        # Do something before\n",
    "        result = func()  # or only func()\n",
    "        # Do something after\n",
    "        return result  # or erase this line, with only func() above\n",
    "    return wrapper\n",
    "\n",
    "@my_decorator\n",
    "def func():\n",
    "    pass"
   ]
  },
  {
   "cell_type": "code",
   "execution_count": 28,
   "metadata": {},
   "outputs": [
    {
     "name": "stdout",
     "output_type": "stream",
     "text": [
      "+---------+\n",
      "|         |\n",
      " Fibonacci \n",
      "|         |\n",
      "+=========+\n"
     ]
    },
    {
     "data": {
      "text/plain": [
       "' Fibonacci '"
      ]
     },
     "execution_count": 28,
     "metadata": {},
     "output_type": "execute_result"
    }
   ],
   "source": [
    "def make_posh(func):\n",
    "    def wrapper():\n",
    "        print('+---------+')\n",
    "        print('|         |')\n",
    "        result = func()\n",
    "        print(result)\n",
    "        print('|         |')\n",
    "        print('+=========+')\n",
    "        return result\n",
    "    return wrapper\n",
    " \n",
    "@make_posh\n",
    "def pfib():\n",
    "    '''Print out Fibonacci'''\n",
    "    return ' Fibonacci '\n",
    "\n",
    "pfib()"
   ]
  },
  {
   "cell_type": "code",
   "execution_count": 29,
   "metadata": {},
   "outputs": [
    {
     "name": "stdout",
     "output_type": "stream",
     "text": [
      "Big sum: 4950\n",
      "Elapsed time: 0.0 ms\n"
     ]
    }
   ],
   "source": [
    "import time\n",
    "\n",
    "def elapsed_time(func):\n",
    "    def wrapper():\n",
    "        t1 = time.time()\n",
    "        func()\n",
    "        t2 = time.time()\n",
    "        print(f'Elapsed time: {(t2 - t1) * 1000} ms')\n",
    "    return wrapper\n",
    "\n",
    "@elapsed_time\n",
    "def big_sum():\n",
    "    num_list = []\n",
    "    for num in (range(0, 100)):\n",
    "        num_list.append(num)\n",
    "    print(f'Big sum: {sum(num_list)}')\n",
    "\n",
    "big_sum()"
   ]
  },
  {
   "cell_type": "code",
   "execution_count": 31,
   "metadata": {},
   "outputs": [
    {
     "ename": "ModuleNotFoundError",
     "evalue": "No module named 'django'",
     "output_type": "error",
     "traceback": [
      "\u001b[1;31m---------------------------------------------------------------------------\u001b[0m",
      "\u001b[1;31mModuleNotFoundError\u001b[0m                       Traceback (most recent call last)",
      "\u001b[1;32m<ipython-input-31-60b80f085e09>\u001b[0m in \u001b[0;36m<module>\u001b[1;34m\u001b[0m\n\u001b[1;32m----> 1\u001b[1;33m \u001b[1;32mfrom\u001b[0m \u001b[0mdjango\u001b[0m\u001b[1;33m.\u001b[0m\u001b[0mcontrib\u001b[0m\u001b[1;33m.\u001b[0m\u001b[0mauth\u001b[0m\u001b[1;33m.\u001b[0m\u001b[0mdecorators\u001b[0m \u001b[1;32mimport\u001b[0m \u001b[0mlogin_required\u001b[0m\u001b[1;33m\u001b[0m\u001b[1;33m\u001b[0m\u001b[0m\n\u001b[0m\u001b[0;32m      2\u001b[0m \u001b[1;33m\u001b[0m\u001b[0m\n\u001b[0;32m      3\u001b[0m \u001b[1;33m@\u001b[0m\u001b[0mlogin_required\u001b[0m\u001b[1;33m\u001b[0m\u001b[1;33m\u001b[0m\u001b[0m\n\u001b[0;32m      4\u001b[0m \u001b[1;32mdef\u001b[0m \u001b[0mmy_view\u001b[0m\u001b[1;33m(\u001b[0m\u001b[0mrequest\u001b[0m\u001b[1;33m)\u001b[0m\u001b[1;33m:\u001b[0m\u001b[1;33m\u001b[0m\u001b[1;33m\u001b[0m\u001b[0m\n\u001b[0;32m      5\u001b[0m     \u001b[1;32mpass\u001b[0m\u001b[1;33m\u001b[0m\u001b[1;33m\u001b[0m\u001b[0m\n",
      "\u001b[1;31mModuleNotFoundError\u001b[0m: No module named 'django'"
     ]
    }
   ],
   "source": [
    "from django.contrib.auth.decorators import login_required\n",
    "\n",
    "@login_required\n",
    "def my_view(request):\n",
    "    pass"
   ]
  },
  {
   "cell_type": "code",
   "execution_count": 32,
   "metadata": {},
   "outputs": [
    {
     "name": "stdout",
     "output_type": "stream",
     "text": [
      "Variable x is not defined\n",
      "Hello\n",
      "Nothing went wrong\n",
      "dict_keys(['brand', 'year'])\n",
      "The 'try except' is finished\n"
     ]
    }
   ],
   "source": [
    "try:\n",
    "  print(unknown_var)\n",
    "except NameError:\n",
    "  print(\"Variable x is not defined\")\n",
    "except:\n",
    "  print(\"Something else went wrong\")\n",
    "\n",
    "\n",
    "# You can use the else keyword to define a block of code to be executed if no errors were raised:\n",
    "try:\n",
    "  print(\"Hello\")\n",
    "except:\n",
    "  print(\"Something went wrong\")\n",
    "else:\n",
    "  print(\"Nothing went wrong\")\n",
    "\n",
    "# The finally block, if specified, will be executed regardless if the try block raises an error or not.\n",
    "try:\n",
    "  print(x)\n",
    "except:\n",
    "  print(\"Something went wrong\")\n",
    "finally:\n",
    "  print(\"The 'try except' is finished\")"
   ]
  },
  {
   "cell_type": "code",
   "execution_count": 33,
   "metadata": {},
   "outputs": [
    {
     "ename": "Exception",
     "evalue": "Sorry, no numbers below zero",
     "output_type": "error",
     "traceback": [
      "\u001b[1;31m---------------------------------------------------------------------------\u001b[0m",
      "\u001b[1;31mException\u001b[0m                                 Traceback (most recent call last)",
      "\u001b[1;32m<ipython-input-33-79964f26d50f>\u001b[0m in \u001b[0;36m<module>\u001b[1;34m\u001b[0m\n\u001b[0;32m      4\u001b[0m \u001b[1;33m\u001b[0m\u001b[0m\n\u001b[0;32m      5\u001b[0m \u001b[1;32mif\u001b[0m \u001b[0mx\u001b[0m \u001b[1;33m<\u001b[0m \u001b[1;36m0\u001b[0m\u001b[1;33m:\u001b[0m\u001b[1;33m\u001b[0m\u001b[1;33m\u001b[0m\u001b[0m\n\u001b[1;32m----> 6\u001b[1;33m   \u001b[1;32mraise\u001b[0m \u001b[0mException\u001b[0m\u001b[1;33m(\u001b[0m\u001b[1;34m\"Sorry, no numbers below zero\"\u001b[0m\u001b[1;33m)\u001b[0m\u001b[1;33m\u001b[0m\u001b[1;33m\u001b[0m\u001b[0m\n\u001b[0m\u001b[0;32m      7\u001b[0m \u001b[1;33m\u001b[0m\u001b[0m\n\u001b[0;32m      8\u001b[0m \u001b[1;31m# The raise keyword is used to raise an exception.\u001b[0m\u001b[1;33m\u001b[0m\u001b[1;33m\u001b[0m\u001b[1;33m\u001b[0m\u001b[0m\n",
      "\u001b[1;31mException\u001b[0m: Sorry, no numbers below zero"
     ]
    }
   ],
   "source": [
    "# Raise an error and stop the program if x is lower than 0:\n",
    "\n",
    "x = -1\n",
    "\n",
    "if x < 0:\n",
    "    raise Exception(\"Sorry, no numbers below zero\")\n",
    "\n",
    "# The raise keyword is used to raise an exception.\n",
    "\n",
    "# You can define what kind of error to raise, and the text to print to the user.\n",
    "\n",
    "#Raise a TypeError if x is not an integer:\n",
    "x = \"hello\"\n",
    "\n",
    "if not type(x) is int:\n",
    "    raise TypeError(\"Only integers are allowed\")"
   ]
  }
 ],
 "metadata": {
  "interpreter": {
   "hash": "b3ba2566441a7c06988d0923437866b63cedc61552a5af99d1f4fb67d367b25f"
  },
  "kernelspec": {
   "display_name": "Python 3.8.5 64-bit ('base': conda)",
   "language": "python",
   "name": "python3"
  },
  "language_info": {
   "codemirror_mode": {
    "name": "ipython",
    "version": 3
   },
   "file_extension": ".py",
   "mimetype": "text/x-python",
   "name": "python",
   "nbconvert_exporter": "python",
   "pygments_lexer": "ipython3",
   "version": "3.8.5"
  },
  "orig_nbformat": 4
 },
 "nbformat": 4,
 "nbformat_minor": 2
}
